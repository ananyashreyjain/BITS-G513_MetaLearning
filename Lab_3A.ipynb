{
  "nbformat": 4,
  "nbformat_minor": 0,
  "metadata": {
    "colab": {
      "name": "Lab_3A.ipynb",
      "provenance": [],
      "authorship_tag": "ABX9TyPDL2cvGytjIuEkYcpyznh6",
      "include_colab_link": true
    },
    "kernelspec": {
      "name": "python3",
      "display_name": "Python 3"
    },
    "widgets": {
      "application/vnd.jupyter.widget-state+json": {
        "ad467542f89541638bccd8583f7386e4": {
          "model_module": "@jupyter-widgets/controls",
          "model_name": "VBoxModel",
          "state": {
            "_view_name": "VBoxView",
            "_dom_classes": [
              "widget-interact"
            ],
            "_model_name": "VBoxModel",
            "_view_module": "@jupyter-widgets/controls",
            "_model_module_version": "1.5.0",
            "_view_count": null,
            "_view_module_version": "1.5.0",
            "box_style": "",
            "layout": "IPY_MODEL_985ab8b6f0b84b1a8e00b92d85b05d1f",
            "_model_module": "@jupyter-widgets/controls",
            "children": [
              "IPY_MODEL_3450f730892f43998de8d4967dfb37a0",
              "IPY_MODEL_af219ddf208546b691a2f41d3b999799"
            ]
          }
        },
        "985ab8b6f0b84b1a8e00b92d85b05d1f": {
          "model_module": "@jupyter-widgets/base",
          "model_name": "LayoutModel",
          "state": {
            "_view_name": "LayoutView",
            "grid_template_rows": null,
            "right": null,
            "justify_content": null,
            "_view_module": "@jupyter-widgets/base",
            "overflow": null,
            "_model_module_version": "1.2.0",
            "_view_count": null,
            "flex_flow": null,
            "width": null,
            "min_width": null,
            "border": null,
            "align_items": null,
            "bottom": null,
            "_model_module": "@jupyter-widgets/base",
            "top": null,
            "grid_column": null,
            "overflow_y": null,
            "overflow_x": null,
            "grid_auto_flow": null,
            "grid_area": null,
            "grid_template_columns": null,
            "flex": null,
            "_model_name": "LayoutModel",
            "justify_items": null,
            "grid_row": null,
            "max_height": null,
            "align_content": null,
            "visibility": null,
            "align_self": null,
            "height": null,
            "min_height": null,
            "padding": null,
            "grid_auto_rows": null,
            "grid_gap": null,
            "max_width": null,
            "order": null,
            "_view_module_version": "1.2.0",
            "grid_template_areas": null,
            "object_position": null,
            "object_fit": null,
            "grid_auto_columns": null,
            "margin": null,
            "display": null,
            "left": null
          }
        },
        "3450f730892f43998de8d4967dfb37a0": {
          "model_module": "@jupyter-widgets/controls",
          "model_name": "FloatSliderModel",
          "state": {
            "_view_name": "FloatSliderView",
            "style": "IPY_MODEL_e9e1a10b4f274b4a967318d94998f8af",
            "_dom_classes": [],
            "description": "t0",
            "step": 0.05,
            "_model_name": "FloatSliderModel",
            "orientation": "horizontal",
            "max": 3,
            "_view_module": "@jupyter-widgets/controls",
            "_model_module_version": "1.5.0",
            "value": 3,
            "_view_count": null,
            "disabled": false,
            "_view_module_version": "1.5.0",
            "min": -2,
            "continuous_update": true,
            "readout_format": ".2f",
            "description_tooltip": null,
            "readout": true,
            "_model_module": "@jupyter-widgets/controls",
            "layout": "IPY_MODEL_c2acfa415d3c43878b43a25709d3ed4e"
          }
        },
        "af219ddf208546b691a2f41d3b999799": {
          "model_module": "@jupyter-widgets/output",
          "model_name": "OutputModel",
          "state": {
            "_view_name": "OutputView",
            "msg_id": "",
            "_dom_classes": [],
            "_model_name": "OutputModel",
            "outputs": [
              {
                "output_type": "display_data",
                "metadata": {
                  "tags": [],
                  "needs_background": "light"
                },
                "image/png": "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\n",
                "text/plain": "<Figure size 576x432 with 2 Axes>"
              }
            ],
            "_view_module": "@jupyter-widgets/output",
            "_model_module_version": "1.0.0",
            "_view_count": null,
            "_view_module_version": "1.0.0",
            "layout": "IPY_MODEL_0fa471a9d35740b58cf450d8acf69bdc",
            "_model_module": "@jupyter-widgets/output"
          }
        },
        "e9e1a10b4f274b4a967318d94998f8af": {
          "model_module": "@jupyter-widgets/controls",
          "model_name": "SliderStyleModel",
          "state": {
            "_view_name": "StyleView",
            "handle_color": null,
            "_model_name": "SliderStyleModel",
            "description_width": "",
            "_view_module": "@jupyter-widgets/base",
            "_model_module_version": "1.5.0",
            "_view_count": null,
            "_view_module_version": "1.2.0",
            "_model_module": "@jupyter-widgets/controls"
          }
        },
        "c2acfa415d3c43878b43a25709d3ed4e": {
          "model_module": "@jupyter-widgets/base",
          "model_name": "LayoutModel",
          "state": {
            "_view_name": "LayoutView",
            "grid_template_rows": null,
            "right": null,
            "justify_content": null,
            "_view_module": "@jupyter-widgets/base",
            "overflow": null,
            "_model_module_version": "1.2.0",
            "_view_count": null,
            "flex_flow": null,
            "width": null,
            "min_width": null,
            "border": null,
            "align_items": null,
            "bottom": null,
            "_model_module": "@jupyter-widgets/base",
            "top": null,
            "grid_column": null,
            "overflow_y": null,
            "overflow_x": null,
            "grid_auto_flow": null,
            "grid_area": null,
            "grid_template_columns": null,
            "flex": null,
            "_model_name": "LayoutModel",
            "justify_items": null,
            "grid_row": null,
            "max_height": null,
            "align_content": null,
            "visibility": null,
            "align_self": null,
            "height": null,
            "min_height": null,
            "padding": null,
            "grid_auto_rows": null,
            "grid_gap": null,
            "max_width": null,
            "order": null,
            "_view_module_version": "1.2.0",
            "grid_template_areas": null,
            "object_position": null,
            "object_fit": null,
            "grid_auto_columns": null,
            "margin": null,
            "display": null,
            "left": null
          }
        },
        "0fa471a9d35740b58cf450d8acf69bdc": {
          "model_module": "@jupyter-widgets/base",
          "model_name": "LayoutModel",
          "state": {
            "_view_name": "LayoutView",
            "grid_template_rows": null,
            "right": null,
            "justify_content": null,
            "_view_module": "@jupyter-widgets/base",
            "overflow": null,
            "_model_module_version": "1.2.0",
            "_view_count": null,
            "flex_flow": null,
            "width": null,
            "min_width": null,
            "border": null,
            "align_items": null,
            "bottom": null,
            "_model_module": "@jupyter-widgets/base",
            "top": null,
            "grid_column": null,
            "overflow_y": null,
            "overflow_x": null,
            "grid_auto_flow": null,
            "grid_area": null,
            "grid_template_columns": null,
            "flex": null,
            "_model_name": "LayoutModel",
            "justify_items": null,
            "grid_row": null,
            "max_height": null,
            "align_content": null,
            "visibility": null,
            "align_self": null,
            "height": null,
            "min_height": null,
            "padding": null,
            "grid_auto_rows": null,
            "grid_gap": null,
            "max_width": null,
            "order": null,
            "_view_module_version": "1.2.0",
            "grid_template_areas": null,
            "object_position": null,
            "object_fit": null,
            "grid_auto_columns": null,
            "margin": null,
            "display": null,
            "left": null
          }
        },
        "e5fe94eda4a14605a039e6776154d1b1": {
          "model_module": "@jupyter-widgets/controls",
          "model_name": "VBoxModel",
          "state": {
            "_view_name": "VBoxView",
            "_dom_classes": [
              "widget-interact"
            ],
            "_model_name": "VBoxModel",
            "_view_module": "@jupyter-widgets/controls",
            "_model_module_version": "1.5.0",
            "_view_count": null,
            "_view_module_version": "1.5.0",
            "box_style": "",
            "layout": "IPY_MODEL_87b647ad2f5345468acfdd07146d786d",
            "_model_module": "@jupyter-widgets/controls",
            "children": [
              "IPY_MODEL_2b486b1511bf472982446698d1cebe70",
              "IPY_MODEL_bbf59f4293534fb4b6f30de7d2aa3373"
            ]
          }
        },
        "87b647ad2f5345468acfdd07146d786d": {
          "model_module": "@jupyter-widgets/base",
          "model_name": "LayoutModel",
          "state": {
            "_view_name": "LayoutView",
            "grid_template_rows": null,
            "right": null,
            "justify_content": null,
            "_view_module": "@jupyter-widgets/base",
            "overflow": null,
            "_model_module_version": "1.2.0",
            "_view_count": null,
            "flex_flow": null,
            "width": null,
            "min_width": null,
            "border": null,
            "align_items": null,
            "bottom": null,
            "_model_module": "@jupyter-widgets/base",
            "top": null,
            "grid_column": null,
            "overflow_y": null,
            "overflow_x": null,
            "grid_auto_flow": null,
            "grid_area": null,
            "grid_template_columns": null,
            "flex": null,
            "_model_name": "LayoutModel",
            "justify_items": null,
            "grid_row": null,
            "max_height": null,
            "align_content": null,
            "visibility": null,
            "align_self": null,
            "height": null,
            "min_height": null,
            "padding": null,
            "grid_auto_rows": null,
            "grid_gap": null,
            "max_width": null,
            "order": null,
            "_view_module_version": "1.2.0",
            "grid_template_areas": null,
            "object_position": null,
            "object_fit": null,
            "grid_auto_columns": null,
            "margin": null,
            "display": null,
            "left": null
          }
        },
        "2b486b1511bf472982446698d1cebe70": {
          "model_module": "@jupyter-widgets/controls",
          "model_name": "FloatSliderModel",
          "state": {
            "_view_name": "FloatSliderView",
            "style": "IPY_MODEL_ed48542fcc14417791db8feff30d2286",
            "_dom_classes": [],
            "description": "t0",
            "step": 0.05,
            "_model_name": "FloatSliderModel",
            "orientation": "horizontal",
            "max": 3,
            "_view_module": "@jupyter-widgets/controls",
            "_model_module_version": "1.5.0",
            "value": 1.75,
            "_view_count": null,
            "disabled": false,
            "_view_module_version": "1.5.0",
            "min": -2,
            "continuous_update": true,
            "readout_format": ".2f",
            "description_tooltip": null,
            "readout": true,
            "_model_module": "@jupyter-widgets/controls",
            "layout": "IPY_MODEL_5fcb9f7e59cb463087a3c09acd0c1dcb"
          }
        },
        "bbf59f4293534fb4b6f30de7d2aa3373": {
          "model_module": "@jupyter-widgets/output",
          "model_name": "OutputModel",
          "state": {
            "_view_name": "OutputView",
            "msg_id": "",
            "_dom_classes": [],
            "_model_name": "OutputModel",
            "outputs": [
              {
                "output_type": "display_data",
                "metadata": {
                  "tags": [],
                  "needs_background": "light"
                },
                "image/png": "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\n",
                "text/plain": "<Figure size 576x432 with 2 Axes>"
              }
            ],
            "_view_module": "@jupyter-widgets/output",
            "_model_module_version": "1.0.0",
            "_view_count": null,
            "_view_module_version": "1.0.0",
            "layout": "IPY_MODEL_2b70d3b6dd23455c85b9cd1a6e1b5d7f",
            "_model_module": "@jupyter-widgets/output"
          }
        },
        "ed48542fcc14417791db8feff30d2286": {
          "model_module": "@jupyter-widgets/controls",
          "model_name": "SliderStyleModel",
          "state": {
            "_view_name": "StyleView",
            "handle_color": null,
            "_model_name": "SliderStyleModel",
            "description_width": "",
            "_view_module": "@jupyter-widgets/base",
            "_model_module_version": "1.5.0",
            "_view_count": null,
            "_view_module_version": "1.2.0",
            "_model_module": "@jupyter-widgets/controls"
          }
        },
        "5fcb9f7e59cb463087a3c09acd0c1dcb": {
          "model_module": "@jupyter-widgets/base",
          "model_name": "LayoutModel",
          "state": {
            "_view_name": "LayoutView",
            "grid_template_rows": null,
            "right": null,
            "justify_content": null,
            "_view_module": "@jupyter-widgets/base",
            "overflow": null,
            "_model_module_version": "1.2.0",
            "_view_count": null,
            "flex_flow": null,
            "width": null,
            "min_width": null,
            "border": null,
            "align_items": null,
            "bottom": null,
            "_model_module": "@jupyter-widgets/base",
            "top": null,
            "grid_column": null,
            "overflow_y": null,
            "overflow_x": null,
            "grid_auto_flow": null,
            "grid_area": null,
            "grid_template_columns": null,
            "flex": null,
            "_model_name": "LayoutModel",
            "justify_items": null,
            "grid_row": null,
            "max_height": null,
            "align_content": null,
            "visibility": null,
            "align_self": null,
            "height": null,
            "min_height": null,
            "padding": null,
            "grid_auto_rows": null,
            "grid_gap": null,
            "max_width": null,
            "order": null,
            "_view_module_version": "1.2.0",
            "grid_template_areas": null,
            "object_position": null,
            "object_fit": null,
            "grid_auto_columns": null,
            "margin": null,
            "display": null,
            "left": null
          }
        },
        "2b70d3b6dd23455c85b9cd1a6e1b5d7f": {
          "model_module": "@jupyter-widgets/base",
          "model_name": "LayoutModel",
          "state": {
            "_view_name": "LayoutView",
            "grid_template_rows": null,
            "right": null,
            "justify_content": null,
            "_view_module": "@jupyter-widgets/base",
            "overflow": null,
            "_model_module_version": "1.2.0",
            "_view_count": null,
            "flex_flow": null,
            "width": null,
            "min_width": null,
            "border": null,
            "align_items": null,
            "bottom": null,
            "_model_module": "@jupyter-widgets/base",
            "top": null,
            "grid_column": null,
            "overflow_y": null,
            "overflow_x": null,
            "grid_auto_flow": null,
            "grid_area": null,
            "grid_template_columns": null,
            "flex": null,
            "_model_name": "LayoutModel",
            "justify_items": null,
            "grid_row": null,
            "max_height": null,
            "align_content": null,
            "visibility": null,
            "align_self": null,
            "height": null,
            "min_height": null,
            "padding": null,
            "grid_auto_rows": null,
            "grid_gap": null,
            "max_width": null,
            "order": null,
            "_view_module_version": "1.2.0",
            "grid_template_areas": null,
            "object_position": null,
            "object_fit": null,
            "grid_auto_columns": null,
            "margin": null,
            "display": null,
            "left": null
          }
        }
      }
    }
  },
  "cells": [
    {
      "cell_type": "markdown",
      "metadata": {
        "id": "view-in-github",
        "colab_type": "text"
      },
      "source": [
        "<a href=\"https://colab.research.google.com/github/tirtharajdash/BITS-G513_MetaLearning/blob/main/Lab_3A.ipynb\" target=\"_parent\"><img src=\"https://colab.research.google.com/assets/colab-badge.svg\" alt=\"Open In Colab\"/></a>"
      ]
    },
    {
      "cell_type": "markdown",
      "metadata": {
        "id": "9sWTWI8zWFV7"
      },
      "source": [
        "This notebook has been adapted from NYU's Deep Learning Course taught by Yann LeCun & Alfredo Canziani. [ Website ](https://atcold.github.io/pytorch-Deep-Learning/)"
      ]
    },
    {
      "cell_type": "markdown",
      "metadata": {
        "id": "7_WLVIMF7LH4"
      },
      "source": [
        "# Convolutions\n",
        "\n",
        "## Outline\n",
        "1. Convolution from Signal Processing\n",
        "2. 1D Convolution in PyTorch\n",
        "2. 2D Convolution in PyTorch on Images\n",
        "\n",
        "$$ (f_1 * f_2)(t) = \\int_{-\\infty}^{\\infty} f_1({\\tau})f_2(t-\\tau)d\\tau $$"
      ]
    },
    {
      "cell_type": "code",
      "metadata": {
        "colab": {
          "base_uri": "https://localhost:8080/"
        },
        "id": "zSHXd8VQR68Z",
        "outputId": "e30b3c16-6f28-4482-d1f3-a11c2b56ca16"
      },
      "source": [
        "import numpy as np\n",
        "!pip install matplotlib scipy ipywidgets git+git://github.com/mkrphys/ipython-tikzmagic.git\n",
        "import matplotlib.pyplot as plt\n",
        "%load_ext tikzmagic\n",
        "\n",
        "import scipy.integrate\n",
        "from matplotlib import animation\n",
        "from IPython.display import HTML, display\n",
        "from ipywidgets import interact\n",
        "\n",
        "%matplotlib inline\n",
        "import matplotlib; matplotlib.rcParams['figure.figsize'] = (8,6)\n",
        "matplotlib.rcParams['animation.writer'] = 'avconv'"
      ],
      "execution_count": 10,
      "outputs": [
        {
          "output_type": "stream",
          "text": [
            "Collecting git+git://github.com/mkrphys/ipython-tikzmagic.git\n",
            "  Cloning git://github.com/mkrphys/ipython-tikzmagic.git to /tmp/pip-req-build-mpfapfa4\n",
            "  Running command git clone -q git://github.com/mkrphys/ipython-tikzmagic.git /tmp/pip-req-build-mpfapfa4\n",
            "Requirement already satisfied: matplotlib in /usr/local/lib/python3.6/dist-packages (3.2.2)\n",
            "Requirement already satisfied: scipy in /usr/local/lib/python3.6/dist-packages (1.4.1)\n",
            "Requirement already satisfied: ipywidgets in /usr/local/lib/python3.6/dist-packages (7.6.3)\n",
            "Requirement already satisfied: ipython in /usr/local/lib/python3.6/dist-packages (from ipython-tikzmagic==0.1.1) (5.5.0)\n",
            "Requirement already satisfied: pyparsing!=2.0.4,!=2.1.2,!=2.1.6,>=2.0.1 in /usr/local/lib/python3.6/dist-packages (from matplotlib) (2.4.7)\n",
            "Requirement already satisfied: numpy>=1.11 in /usr/local/lib/python3.6/dist-packages (from matplotlib) (1.19.5)\n",
            "Requirement already satisfied: kiwisolver>=1.0.1 in /usr/local/lib/python3.6/dist-packages (from matplotlib) (1.3.1)\n",
            "Requirement already satisfied: cycler>=0.10 in /usr/local/lib/python3.6/dist-packages (from matplotlib) (0.10.0)\n",
            "Requirement already satisfied: python-dateutil>=2.1 in /usr/local/lib/python3.6/dist-packages (from matplotlib) (2.8.1)\n",
            "Requirement already satisfied: widgetsnbextension~=3.5.0 in /usr/local/lib/python3.6/dist-packages (from ipywidgets) (3.5.1)\n",
            "Requirement already satisfied: jupyterlab-widgets>=1.0.0; python_version >= \"3.6\" in /usr/local/lib/python3.6/dist-packages (from ipywidgets) (1.0.0)\n",
            "Requirement already satisfied: ipykernel>=4.5.1 in /usr/local/lib/python3.6/dist-packages (from ipywidgets) (4.10.1)\n",
            "Requirement already satisfied: traitlets>=4.3.1 in /usr/local/lib/python3.6/dist-packages (from ipywidgets) (4.3.3)\n",
            "Requirement already satisfied: nbformat>=4.2.0 in /usr/local/lib/python3.6/dist-packages (from ipywidgets) (5.1.2)\n",
            "Requirement already satisfied: decorator in /usr/local/lib/python3.6/dist-packages (from ipython->ipython-tikzmagic==0.1.1) (4.4.2)\n",
            "Requirement already satisfied: setuptools>=18.5 in /usr/local/lib/python3.6/dist-packages (from ipython->ipython-tikzmagic==0.1.1) (53.0.0)\n",
            "Requirement already satisfied: pexpect; sys_platform != \"win32\" in /usr/local/lib/python3.6/dist-packages (from ipython->ipython-tikzmagic==0.1.1) (4.8.0)\n",
            "Requirement already satisfied: pickleshare in /usr/local/lib/python3.6/dist-packages (from ipython->ipython-tikzmagic==0.1.1) (0.7.5)\n",
            "Requirement already satisfied: simplegeneric>0.8 in /usr/local/lib/python3.6/dist-packages (from ipython->ipython-tikzmagic==0.1.1) (0.8.1)\n",
            "Requirement already satisfied: prompt-toolkit<2.0.0,>=1.0.4 in /usr/local/lib/python3.6/dist-packages (from ipython->ipython-tikzmagic==0.1.1) (1.0.18)\n",
            "Requirement already satisfied: pygments in /usr/local/lib/python3.6/dist-packages (from ipython->ipython-tikzmagic==0.1.1) (2.6.1)\n",
            "Requirement already satisfied: six in /usr/local/lib/python3.6/dist-packages (from cycler>=0.10->matplotlib) (1.15.0)\n",
            "Requirement already satisfied: notebook>=4.4.1 in /usr/local/lib/python3.6/dist-packages (from widgetsnbextension~=3.5.0->ipywidgets) (5.3.1)\n",
            "Requirement already satisfied: tornado>=4.0 in /usr/local/lib/python3.6/dist-packages (from ipykernel>=4.5.1->ipywidgets) (5.1.1)\n",
            "Requirement already satisfied: jupyter-client in /usr/local/lib/python3.6/dist-packages (from ipykernel>=4.5.1->ipywidgets) (5.3.5)\n",
            "Requirement already satisfied: ipython-genutils in /usr/local/lib/python3.6/dist-packages (from traitlets>=4.3.1->ipywidgets) (0.2.0)\n",
            "Requirement already satisfied: jupyter-core in /usr/local/lib/python3.6/dist-packages (from nbformat>=4.2.0->ipywidgets) (4.7.1)\n",
            "Requirement already satisfied: jsonschema!=2.5.0,>=2.4 in /usr/local/lib/python3.6/dist-packages (from nbformat>=4.2.0->ipywidgets) (2.6.0)\n",
            "Requirement already satisfied: ptyprocess>=0.5 in /usr/local/lib/python3.6/dist-packages (from pexpect; sys_platform != \"win32\"->ipython->ipython-tikzmagic==0.1.1) (0.7.0)\n",
            "Requirement already satisfied: wcwidth in /usr/local/lib/python3.6/dist-packages (from prompt-toolkit<2.0.0,>=1.0.4->ipython->ipython-tikzmagic==0.1.1) (0.2.5)\n",
            "Requirement already satisfied: terminado>=0.8.1 in /usr/local/lib/python3.6/dist-packages (from notebook>=4.4.1->widgetsnbextension~=3.5.0->ipywidgets) (0.9.2)\n",
            "Requirement already satisfied: jinja2 in /usr/local/lib/python3.6/dist-packages (from notebook>=4.4.1->widgetsnbextension~=3.5.0->ipywidgets) (2.11.3)\n",
            "Requirement already satisfied: Send2Trash in /usr/local/lib/python3.6/dist-packages (from notebook>=4.4.1->widgetsnbextension~=3.5.0->ipywidgets) (1.5.0)\n",
            "Requirement already satisfied: nbconvert in /usr/local/lib/python3.6/dist-packages (from notebook>=4.4.1->widgetsnbextension~=3.5.0->ipywidgets) (5.6.1)\n",
            "Requirement already satisfied: pyzmq>=13 in /usr/local/lib/python3.6/dist-packages (from jupyter-client->ipykernel>=4.5.1->ipywidgets) (22.0.2)\n",
            "Requirement already satisfied: MarkupSafe>=0.23 in /usr/local/lib/python3.6/dist-packages (from jinja2->notebook>=4.4.1->widgetsnbextension~=3.5.0->ipywidgets) (1.1.1)\n",
            "Requirement already satisfied: pandocfilters>=1.4.1 in /usr/local/lib/python3.6/dist-packages (from nbconvert->notebook>=4.4.1->widgetsnbextension~=3.5.0->ipywidgets) (1.4.3)\n",
            "Requirement already satisfied: defusedxml in /usr/local/lib/python3.6/dist-packages (from nbconvert->notebook>=4.4.1->widgetsnbextension~=3.5.0->ipywidgets) (0.6.0)\n",
            "Requirement already satisfied: testpath in /usr/local/lib/python3.6/dist-packages (from nbconvert->notebook>=4.4.1->widgetsnbextension~=3.5.0->ipywidgets) (0.4.4)\n",
            "Requirement already satisfied: mistune<2,>=0.8.1 in /usr/local/lib/python3.6/dist-packages (from nbconvert->notebook>=4.4.1->widgetsnbextension~=3.5.0->ipywidgets) (0.8.4)\n",
            "Requirement already satisfied: entrypoints>=0.2.2 in /usr/local/lib/python3.6/dist-packages (from nbconvert->notebook>=4.4.1->widgetsnbextension~=3.5.0->ipywidgets) (0.3)\n",
            "Requirement already satisfied: bleach in /usr/local/lib/python3.6/dist-packages (from nbconvert->notebook>=4.4.1->widgetsnbextension~=3.5.0->ipywidgets) (3.3.0)\n",
            "Requirement already satisfied: packaging in /usr/local/lib/python3.6/dist-packages (from bleach->nbconvert->notebook>=4.4.1->widgetsnbextension~=3.5.0->ipywidgets) (20.9)\n",
            "Requirement already satisfied: webencodings in /usr/local/lib/python3.6/dist-packages (from bleach->nbconvert->notebook>=4.4.1->widgetsnbextension~=3.5.0->ipywidgets) (0.5.1)\n",
            "Building wheels for collected packages: ipython-tikzmagic\n",
            "  Building wheel for ipython-tikzmagic (setup.py) ... \u001b[?25l\u001b[?25hdone\n",
            "  Created wheel for ipython-tikzmagic: filename=ipython_tikzmagic-0.1.1-cp36-none-any.whl size=6224 sha256=dcfb19ef3b86dfc2a09ebf263355f0595dca0021123c770ac9a97282904a5cea\n",
            "  Stored in directory: /tmp/pip-ephem-wheel-cache-9fgvu04d/wheels/0b/5d/55/ab467cf2f7483b8e5d926491c0df452011ce1567d418ad9910\n",
            "Successfully built ipython-tikzmagic\n",
            "Installing collected packages: ipython-tikzmagic\n",
            "Successfully installed ipython-tikzmagic-0.1.1\n"
          ],
          "name": "stdout"
        }
      ]
    },
    {
      "cell_type": "code",
      "metadata": {
        "id": "MkpOzb598ovE"
      },
      "source": [
        "f1 = lambda t: np.maximum(0, 1-abs(t))\n",
        "f2 = lambda t: (t>0) * np.exp(-2*t)"
      ],
      "execution_count": 11,
      "outputs": []
    },
    {
      "cell_type": "code",
      "metadata": {
        "id": "8LbnXpWt8q9s"
      },
      "source": [
        "Fs = 50  # our sampling frequency for the plotting\n",
        "T = 5    # the time range we are interested in\n",
        "t = np.arange(-T, T, 1/Fs)  # the time samples"
      ],
      "execution_count": 12,
      "outputs": []
    },
    {
      "cell_type": "code",
      "metadata": {
        "colab": {
          "base_uri": "https://localhost:8080/",
          "height": 227
        },
        "id": "RpBNOZvg89ji",
        "outputId": "ffa105d8-c0c0-4db7-bc8d-9eb1df3b816d"
      },
      "source": [
        "plt.figure(figsize=(8,3))\n",
        "plt.plot(t, f1(t), label='$f_1(t)$')\n",
        "plt.plot(t, f2(t), label='$f_2(t)$')\n",
        "plt.grid(True); plt.ylabel('$f(t)$'); plt.xlabel('$t$'); plt.legend(fontsize=10); plt.ylim((-0.1, 1.1));"
      ],
      "execution_count": 13,
      "outputs": [
        {
          "output_type": "display_data",
          "data": {
            "image/png": "[encoded data removed]",
            "text/plain": [
              "<Figure size 576x216 with 1 Axes>"
            ]
          },
          "metadata": {
            "tags": [],
            "needs_background": "light"
          }
        }
      ]
    },
    {
      "cell_type": "code",
      "metadata": {
        "colab": {
          "base_uri": "https://localhost:8080/",
          "height": 242
        },
        "id": "ac3vctW799kU",
        "outputId": "acee04c4-de80-4882-f676-b1a14c7af3da"
      },
      "source": [
        "t0 = 1\n",
        "flipped = lambda tau: f2(t0-tau)\n",
        "product = lambda tau: f1(tau)*f2(t0-tau)\n",
        "\n",
        "plt.figure(figsize=(8,3))\n",
        "plt.gca().set_ymargin(0.05);\n",
        "plt.plot(t, f1(t), label=r'$f_1(\\tau)$')\n",
        "plt.plot(t, flipped(t), label=r'$f_2(t_0-\\tau)$')\n",
        "plt.plot(t, product(t), label=r'$f_1(\\tau)f_2(t_0-\\tau)$')\n",
        "plt.fill(t, product(t), color='r', alpha=0.5, hatch='//')\n",
        "plt.grid(True); plt.xlabel(r'$\\tau$'); plt.legend(fontsize=10);\n",
        "\n",
        "# Explicitely calculate the integral, using the Simpson integration rule\n",
        "display(HTML(\"Result of the convolution (red shaded area): $(f_1*f_2)(t_0=%.0f) = %.2f$\" % (t0, scipy.integrate.simps(product(t), t))))"
      ],
      "execution_count": 14,
      "outputs": [
        {
          "output_type": "display_data",
          "data": {
            "text/html": [
              "Result of the convolution (red shaded area): $(f_1*f_2)(t_0=1) = 0.19$"
            ],
            "text/plain": [
              "<IPython.core.display.HTML object>"
            ]
          },
          "metadata": {
            "tags": []
          }
        },
        {
          "output_type": "display_data",
          "data": {
            "image/png": "[encoded data removed]",
            "text/plain": [
              "<Figure size 576x216 with 1 Axes>"
            ]
          },
          "metadata": {
            "tags": [],
            "needs_background": "light"
          }
        }
      ]
    },
    {
      "cell_type": "code",
      "metadata": {
        "id": "erkN9zJoA7No"
      },
      "source": [
        "def showConvolution(f1, f2, t0):\n",
        "    # Calculate the overall convolution result using Simpson integration\n",
        "    convolution = np.zeros(len(t))\n",
        "    for n, t_ in enumerate(t):\n",
        "        prod = lambda tau: f1(tau) * f2(t_-tau)\n",
        "        convolution[n] = scipy.integrate.simps(prod(t), t)\n",
        "    \n",
        "    # Create the shifted and flipped function\n",
        "    f_shift = lambda t: f2(t0-t)\n",
        "    prod = lambda tau: f1(tau) * f2(t0-tau)\n",
        "\n",
        "    # Plot the curves\n",
        "    plt.gcf().clear()\n",
        "    \n",
        "    plt.subplot(211)\n",
        "    plt.gca().set_ymargin(0.05)\n",
        "    plt.plot(t, f1(t), label=r'$f_1(\\tau)$')\n",
        "    plt.plot(t, f_shift(t), label=r'$f_2(t_0-\\tau)$')\n",
        "    plt.fill(t, prod(t), color='r', alpha=0.5, edgecolor='black', hatch='//')\n",
        "    plt.plot(t, prod(t), 'r-', label=r'$f_1(\\tau)f_2(t_0-\\tau)$')\n",
        "    plt.grid(True); plt.xlabel(r'$\\tau$'); plt.ylabel(r'$x(\\tau)$')\n",
        "    plt.legend(fontsize=10)\n",
        "    plt.text(-4, 0.6, '$t_0=%.2f$' % t0, bbox=dict(fc='white'))\n",
        "    \n",
        "    # plot the convolution curve\n",
        "    plt.subplot(212)\n",
        "    plt.gca().set_ymargin(0.05)\n",
        "    plt.plot(t, convolution, label='$(f_1*f_2)(t)$')\n",
        "    \n",
        "    # recalculate the value of the convolution integral at the current time-shift t0\n",
        "    current_value = scipy.integrate.simps(prod(t), t)\n",
        "    plt.plot(t0, current_value, 'ro')  # plot the point\n",
        "    plt.grid(True); plt.xlabel('$t$'); plt.ylabel('$(f_1*f_2)(t)$')\n",
        "    plt.legend(fontsize=10)\n",
        "    #plt.show()"
      ],
      "execution_count": 15,
      "outputs": []
    },
    {
      "cell_type": "code",
      "metadata": {
        "colab": {
          "base_uri": "https://localhost:8080/",
          "height": 440,
          "referenced_widgets": [
            "ad467542f89541638bccd8583f7386e4",
            "985ab8b6f0b84b1a8e00b92d85b05d1f",
            "3450f730892f43998de8d4967dfb37a0",
            "af219ddf208546b691a2f41d3b999799",
            "e9e1a10b4f274b4a967318d94998f8af",
            "c2acfa415d3c43878b43a25709d3ed4e",
            "0fa471a9d35740b58cf450d8acf69bdc"
          ]
        },
        "id": "8cc0Qr-BA8YZ",
        "outputId": "65166b42-7c12-4d9a-b237-150e2b710b32"
      },
      "source": [
        "plt.figure()\n",
        "interact(lambda t0: showConvolution(f1, f2, t0), t0 = (-2,3,0.05));"
      ],
      "execution_count": 16,
      "outputs": [
        {
          "output_type": "display_data",
          "data": {
            "text/plain": [
              "<Figure size 576x432 with 0 Axes>"
            ]
          },
          "metadata": {
            "tags": []
          }
        },
        {
          "output_type": "display_data",
          "data": {
            "application/vnd.jupyter.widget-view+json": {
              "model_id": "ad467542f89541638bccd8583f7386e4",
              "version_minor": 0,
              "version_major": 2
            },
            "text/plain": [
              "interactive(children=(FloatSlider(value=0.0, description='t0', max=3.0, min=-2.0, step=0.05), Output()), _dom_…"
            ]
          },
          "metadata": {
            "tags": []
          }
        }
      ]
    },
    {
      "cell_type": "code",
      "metadata": {
        "colab": {
          "base_uri": "https://localhost:8080/",
          "height": 227
        },
        "id": "mfSXDEkWA_YH",
        "outputId": "14de5cd4-0f99-460f-bbc7-c02051ea1c76"
      },
      "source": [
        "f1 = lambda t: (abs(t)<0.5).astype(float)\n",
        "f2 = lambda t: 0.8*(abs(t-0.2)<0.5).astype(float)\n",
        "plt.figure(figsize=(8,3))\n",
        "plt.plot(t, f1(t), label='$f_1(t)$')\n",
        "plt.plot(t, f2(t), label='$f_2(t)$')\n",
        "plt.grid(True); plt.ylabel('$f(t)$'); plt.xlabel('$t$'); plt.legend(fontsize=10); plt.ylim((-0.1, 1.1));"
      ],
      "execution_count": 17,
      "outputs": [
        {
          "output_type": "display_data",
          "data": {
            "image/png": "[encoded data removed]",
            "text/plain": [
              "<Figure size 576x216 with 1 Axes>"
            ]
          },
          "metadata": {
            "tags": [],
            "needs_background": "light"
          }
        }
      ]
    },
    {
      "cell_type": "code",
      "metadata": {
        "colab": {
          "base_uri": "https://localhost:8080/",
          "height": 422,
          "referenced_widgets": [
            "e5fe94eda4a14605a039e6776154d1b1",
            "87b647ad2f5345468acfdd07146d786d",
            "2b486b1511bf472982446698d1cebe70",
            "bbf59f4293534fb4b6f30de7d2aa3373",
            "ed48542fcc14417791db8feff30d2286",
            "5fcb9f7e59cb463087a3c09acd0c1dcb",
            "2b70d3b6dd23455c85b9cd1a6e1b5d7f"
          ]
        },
        "id": "KchICzoeBA0P",
        "outputId": "7fe68b1e-fa13-4fdf-c53a-b52de3ab4368"
      },
      "source": [
        "interact(lambda t0: showConvolution(f1, f2, t0), t0 = (-2,3,0.05));"
      ],
      "execution_count": 18,
      "outputs": [
        {
          "output_type": "display_data",
          "data": {
            "application/vnd.jupyter.widget-view+json": {
              "model_id": "e5fe94eda4a14605a039e6776154d1b1",
              "version_minor": 0,
              "version_major": 2
            },
            "text/plain": [
              "interactive(children=(FloatSlider(value=0.0, description='t0', max=3.0, min=-2.0, step=0.05), Output()), _dom_…"
            ]
          },
          "metadata": {
            "tags": []
          }
        }
      ]
    },
    {
      "cell_type": "markdown",
      "metadata": {
        "id": "X4w65l8BCVrI"
      },
      "source": [
        "**Convolutions in PyTorch**"
      ]
    },
    {
      "cell_type": "code",
      "metadata": {
        "id": "9Civ_DB2BcyB"
      },
      "source": [
        "import torch\n",
        "import torch.nn as nn\n",
        "\n",
        "input = torch.tensor([1, 0, 1, 0, 1, 0, 1], dtype = torch.float).reshape(1,1,-1)\n",
        "\n",
        "convolve1 = nn.Conv1d(in_channels=1, out_channels=1, kernel_size=3, stride=1)\n",
        "convolve2 = nn.Conv1d(in_channels=1, out_channels=5, kernel_size=3, stride=1)\n"
      ],
      "execution_count": 37,
      "outputs": []
    },
    {
      "cell_type": "code",
      "metadata": {
        "colab": {
          "base_uri": "https://localhost:8080/"
        },
        "id": "ikhMig8zC-h5",
        "outputId": "97817fab-7ea8-40b5-d87f-4e3eba64ecc0"
      },
      "source": [
        "convolve1(input)"
      ],
      "execution_count": 38,
      "outputs": [
        {
          "output_type": "execute_result",
          "data": {
            "text/plain": [
              "tensor([[[-0.2612,  0.2870, -0.2612,  0.2870, -0.2612]]],\n",
              "       grad_fn=<SqueezeBackward1>)"
            ]
          },
          "metadata": {
            "tags": []
          },
          "execution_count": 38
        }
      ]
    },
    {
      "cell_type": "markdown",
      "metadata": {
        "id": "emPQOpYXDc7G"
      },
      "source": [
        "<p align=\"center\">\n",
        "<img src=\"https://peltarion.com/static/1d_convolution_pa1.png\">\n",
        "</p>"
      ]
    },
    {
      "cell_type": "code",
      "metadata": {
        "id": "vsZpOgP6DbfG"
      },
      "source": [
        "with torch.no_grad():\n",
        "    convolve1.weight = nn.Parameter(torch.ones_like(convolve1.weight))\n",
        "    convolve1.bias = nn.Parameter(torch.zeros_like(convolve1.bias))"
      ],
      "execution_count": 44,
      "outputs": []
    },
    {
      "cell_type": "code",
      "metadata": {
        "colab": {
          "base_uri": "https://localhost:8080/"
        },
        "id": "bn6k2czaD0LB",
        "outputId": "aa72010f-b3c7-4ab3-aa9d-94d3be9a5709"
      },
      "source": [
        "print(convolve1.weight, convolve1.bias)"
      ],
      "execution_count": 47,
      "outputs": [
        {
          "output_type": "stream",
          "text": [
            "Parameter containing:\n",
            "tensor([[[1., 1., 1.]]], requires_grad=True) Parameter containing:\n",
            "tensor([0.], requires_grad=True)\n"
          ],
          "name": "stdout"
        }
      ]
    },
    {
      "cell_type": "code",
      "metadata": {
        "colab": {
          "base_uri": "https://localhost:8080/"
        },
        "id": "rtRSiME5EGki",
        "outputId": "56599c76-9f55-4aa7-92ff-628b49436a25"
      },
      "source": [
        "convolve1(input)"
      ],
      "execution_count": 48,
      "outputs": [
        {
          "output_type": "execute_result",
          "data": {
            "text/plain": [
              "tensor([[[2., 1., 2., 1., 2.]]], grad_fn=<SqueezeBackward1>)"
            ]
          },
          "metadata": {
            "tags": []
          },
          "execution_count": 48
        }
      ]
    },
    {
      "cell_type": "code",
      "metadata": {
        "colab": {
          "base_uri": "https://localhost:8080/"
        },
        "id": "NBqTD5xuEgja",
        "outputId": "2a1d76ee-d887-417d-a3e3-57d0ed4c56af"
      },
      "source": [
        "convolve2(input)"
      ],
      "execution_count": 49,
      "outputs": [
        {
          "output_type": "execute_result",
          "data": {
            "text/plain": [
              "tensor([[[-0.0606, -0.4497, -0.0606, -0.4497, -0.0606],\n",
              "         [-0.5186, -0.4321, -0.5186, -0.4321, -0.5186],\n",
              "         [-0.6657,  0.0750, -0.6657,  0.0750, -0.6657],\n",
              "         [ 0.1146, -0.9494,  0.1146, -0.9494,  0.1146],\n",
              "         [ 0.1659, -0.8170,  0.1659, -0.8170,  0.1659]]],\n",
              "       grad_fn=<SqueezeBackward1>)"
            ]
          },
          "metadata": {
            "tags": []
          },
          "execution_count": 49
        }
      ]
    },
    {
      "cell_type": "code",
      "metadata": {
        "id": "vdKYc-N0FOEB"
      },
      "source": [
        ""
      ],
      "execution_count": null,
      "outputs": []
    }
  ]
}