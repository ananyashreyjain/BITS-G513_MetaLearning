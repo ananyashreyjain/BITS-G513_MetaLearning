{
  "nbformat": 4,
  "nbformat_minor": 0,
  "metadata": {
    "colab": {
      "name": "Lab_3A.ipynb",
      "provenance": [],
      "authorship_tag": "ABX9TyPIbQ03VU3hSlTdZFW+ivV0",
      "include_colab_link": true
    },
    "kernelspec": {
      "name": "python3",
      "display_name": "Python 3"
    },
    "widgets": {
      "application/vnd.jupyter.widget-state+json": {
        "255e13532ebb418c884f29d208e2fcf3": {
          "model_module": "@jupyter-widgets/controls",
          "model_name": "VBoxModel",
          "state": {
            "_view_name": "VBoxView",
            "_dom_classes": [
              "widget-interact"
            ],
            "_model_name": "VBoxModel",
            "_view_module": "@jupyter-widgets/controls",
            "_model_module_version": "1.5.0",
            "_view_count": null,
            "_view_module_version": "1.5.0",
            "box_style": "",
            "layout": "IPY_MODEL_de2e13f42f4c4c17913bb684a1a892f9",
            "_model_module": "@jupyter-widgets/controls",
            "children": [
              "IPY_MODEL_354a1898986e4e209172b8faf827fe52",
              "IPY_MODEL_7e68ca5c58f3403e85973444d1a6088a"
            ]
          }
        },
        "de2e13f42f4c4c17913bb684a1a892f9": {
          "model_module": "@jupyter-widgets/base",
          "model_name": "LayoutModel",
          "state": {
            "_view_name": "LayoutView",
            "grid_template_rows": null,
            "right": null,
            "justify_content": null,
            "_view_module": "@jupyter-widgets/base",
            "overflow": null,
            "_model_module_version": "1.2.0",
            "_view_count": null,
            "flex_flow": null,
            "width": null,
            "min_width": null,
            "border": null,
            "align_items": null,
            "bottom": null,
            "_model_module": "@jupyter-widgets/base",
            "top": null,
            "grid_column": null,
            "overflow_y": null,
            "overflow_x": null,
            "grid_auto_flow": null,
            "grid_area": null,
            "grid_template_columns": null,
            "flex": null,
            "_model_name": "LayoutModel",
            "justify_items": null,
            "grid_row": null,
            "max_height": null,
            "align_content": null,
            "visibility": null,
            "align_self": null,
            "height": null,
            "min_height": null,
            "padding": null,
            "grid_auto_rows": null,
            "grid_gap": null,
            "max_width": null,
            "order": null,
            "_view_module_version": "1.2.0",
            "grid_template_areas": null,
            "object_position": null,
            "object_fit": null,
            "grid_auto_columns": null,
            "margin": null,
            "display": null,
            "left": null
          }
        },
        "354a1898986e4e209172b8faf827fe52": {
          "model_module": "@jupyter-widgets/controls",
          "model_name": "FloatSliderModel",
          "state": {
            "_view_name": "FloatSliderView",
            "style": "IPY_MODEL_01af0dd2e2ea45dba18bc501cf377cf6",
            "_dom_classes": [],
            "description": "t0",
            "step": 0.05,
            "_model_name": "FloatSliderModel",
            "orientation": "horizontal",
            "max": 3,
            "_view_module": "@jupyter-widgets/controls",
            "_model_module_version": "1.5.0",
            "value": 0,
            "_view_count": null,
            "disabled": false,
            "_view_module_version": "1.5.0",
            "min": -2,
            "continuous_update": true,
            "readout_format": ".2f",
            "description_tooltip": null,
            "readout": true,
            "_model_module": "@jupyter-widgets/controls",
            "layout": "IPY_MODEL_55f0674d8fed42168e438eeb50c2e6a9"
          }
        },
        "7e68ca5c58f3403e85973444d1a6088a": {
          "model_module": "@jupyter-widgets/output",
          "model_name": "OutputModel",
          "state": {
            "_view_name": "OutputView",
            "msg_id": "",
            "_dom_classes": [],
            "_model_name": "OutputModel",
            "outputs": [
              {
                "output_type": "display_data",
                "metadata": {
                  "tags": [],
                  "needs_background": "light"
                },
                "image/png": "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\n",
                "text/plain": "<Figure size 432x288 with 2 Axes>"
              }
            ],
            "_view_module": "@jupyter-widgets/output",
            "_model_module_version": "1.0.0",
            "_view_count": null,
            "_view_module_version": "1.0.0",
            "layout": "IPY_MODEL_4c95ca378d374c39b70b7c2f57419c78",
            "_model_module": "@jupyter-widgets/output"
          }
        },
        "01af0dd2e2ea45dba18bc501cf377cf6": {
          "model_module": "@jupyter-widgets/controls",
          "model_name": "SliderStyleModel",
          "state": {
            "_view_name": "StyleView",
            "handle_color": null,
            "_model_name": "SliderStyleModel",
            "description_width": "",
            "_view_module": "@jupyter-widgets/base",
            "_model_module_version": "1.5.0",
            "_view_count": null,
            "_view_module_version": "1.2.0",
            "_model_module": "@jupyter-widgets/controls"
          }
        },
        "55f0674d8fed42168e438eeb50c2e6a9": {
          "model_module": "@jupyter-widgets/base",
          "model_name": "LayoutModel",
          "state": {
            "_view_name": "LayoutView",
            "grid_template_rows": null,
            "right": null,
            "justify_content": null,
            "_view_module": "@jupyter-widgets/base",
            "overflow": null,
            "_model_module_version": "1.2.0",
            "_view_count": null,
            "flex_flow": null,
            "width": null,
            "min_width": null,
            "border": null,
            "align_items": null,
            "bottom": null,
            "_model_module": "@jupyter-widgets/base",
            "top": null,
            "grid_column": null,
            "overflow_y": null,
            "overflow_x": null,
            "grid_auto_flow": null,
            "grid_area": null,
            "grid_template_columns": null,
            "flex": null,
            "_model_name": "LayoutModel",
            "justify_items": null,
            "grid_row": null,
            "max_height": null,
            "align_content": null,
            "visibility": null,
            "align_self": null,
            "height": null,
            "min_height": null,
            "padding": null,
            "grid_auto_rows": null,
            "grid_gap": null,
            "max_width": null,
            "order": null,
            "_view_module_version": "1.2.0",
            "grid_template_areas": null,
            "object_position": null,
            "object_fit": null,
            "grid_auto_columns": null,
            "margin": null,
            "display": null,
            "left": null
          }
        },
        "4c95ca378d374c39b70b7c2f57419c78": {
          "model_module": "@jupyter-widgets/base",
          "model_name": "LayoutModel",
          "state": {
            "_view_name": "LayoutView",
            "grid_template_rows": null,
            "right": null,
            "justify_content": null,
            "_view_module": "@jupyter-widgets/base",
            "overflow": null,
            "_model_module_version": "1.2.0",
            "_view_count": null,
            "flex_flow": null,
            "width": null,
            "min_width": null,
            "border": null,
            "align_items": null,
            "bottom": null,
            "_model_module": "@jupyter-widgets/base",
            "top": null,
            "grid_column": null,
            "overflow_y": null,
            "overflow_x": null,
            "grid_auto_flow": null,
            "grid_area": null,
            "grid_template_columns": null,
            "flex": null,
            "_model_name": "LayoutModel",
            "justify_items": null,
            "grid_row": null,
            "max_height": null,
            "align_content": null,
            "visibility": null,
            "align_self": null,
            "height": null,
            "min_height": null,
            "padding": null,
            "grid_auto_rows": null,
            "grid_gap": null,
            "max_width": null,
            "order": null,
            "_view_module_version": "1.2.0",
            "grid_template_areas": null,
            "object_position": null,
            "object_fit": null,
            "grid_auto_columns": null,
            "margin": null,
            "display": null,
            "left": null
          }
        },
        "64b1e101faaa4613b9db5f8d80dba6ed": {
          "model_module": "@jupyter-widgets/controls",
          "model_name": "VBoxModel",
          "state": {
            "_view_name": "VBoxView",
            "_dom_classes": [
              "widget-interact"
            ],
            "_model_name": "VBoxModel",
            "_view_module": "@jupyter-widgets/controls",
            "_model_module_version": "1.5.0",
            "_view_count": null,
            "_view_module_version": "1.5.0",
            "box_style": "",
            "layout": "IPY_MODEL_effcaf17951b4b8087ce6a44ae9a6ba6",
            "_model_module": "@jupyter-widgets/controls",
            "children": [
              "IPY_MODEL_b4ff7d0a84f847ccaf2d7c67e9204670",
              "IPY_MODEL_8b3294e6c68d4040a38e85e2eb3df1af"
            ]
          }
        },
        "effcaf17951b4b8087ce6a44ae9a6ba6": {
          "model_module": "@jupyter-widgets/base",
          "model_name": "LayoutModel",
          "state": {
            "_view_name": "LayoutView",
            "grid_template_rows": null,
            "right": null,
            "justify_content": null,
            "_view_module": "@jupyter-widgets/base",
            "overflow": null,
            "_model_module_version": "1.2.0",
            "_view_count": null,
            "flex_flow": null,
            "width": null,
            "min_width": null,
            "border": null,
            "align_items": null,
            "bottom": null,
            "_model_module": "@jupyter-widgets/base",
            "top": null,
            "grid_column": null,
            "overflow_y": null,
            "overflow_x": null,
            "grid_auto_flow": null,
            "grid_area": null,
            "grid_template_columns": null,
            "flex": null,
            "_model_name": "LayoutModel",
            "justify_items": null,
            "grid_row": null,
            "max_height": null,
            "align_content": null,
            "visibility": null,
            "align_self": null,
            "height": null,
            "min_height": null,
            "padding": null,
            "grid_auto_rows": null,
            "grid_gap": null,
            "max_width": null,
            "order": null,
            "_view_module_version": "1.2.0",
            "grid_template_areas": null,
            "object_position": null,
            "object_fit": null,
            "grid_auto_columns": null,
            "margin": null,
            "display": null,
            "left": null
          }
        },
        "b4ff7d0a84f847ccaf2d7c67e9204670": {
          "model_module": "@jupyter-widgets/controls",
          "model_name": "FloatSliderModel",
          "state": {
            "_view_name": "FloatSliderView",
            "style": "IPY_MODEL_097ba86b9cfb4b839e10f4e9da0faae0",
            "_dom_classes": [],
            "description": "t0",
            "step": 0.05,
            "_model_name": "FloatSliderModel",
            "orientation": "horizontal",
            "max": 3,
            "_view_module": "@jupyter-widgets/controls",
            "_model_module_version": "1.5.0",
            "value": 0,
            "_view_count": null,
            "disabled": false,
            "_view_module_version": "1.5.0",
            "min": -2,
            "continuous_update": true,
            "readout_format": ".2f",
            "description_tooltip": null,
            "readout": true,
            "_model_module": "@jupyter-widgets/controls",
            "layout": "IPY_MODEL_60ea967180344d50b8ef15c0b8f07008"
          }
        },
        "8b3294e6c68d4040a38e85e2eb3df1af": {
          "model_module": "@jupyter-widgets/output",
          "model_name": "OutputModel",
          "state": {
            "_view_name": "OutputView",
            "msg_id": "",
            "_dom_classes": [],
            "_model_name": "OutputModel",
            "outputs": [
              {
                "output_type": "display_data",
                "metadata": {
                  "tags": [],
                  "needs_background": "light"
                },
                "image/png": "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\n",
                "text/plain": "<Figure size 432x288 with 2 Axes>"
              }
            ],
            "_view_module": "@jupyter-widgets/output",
            "_model_module_version": "1.0.0",
            "_view_count": null,
            "_view_module_version": "1.0.0",
            "layout": "IPY_MODEL_bb97a5a39de84178ac1336662560ccc7",
            "_model_module": "@jupyter-widgets/output"
          }
        },
        "097ba86b9cfb4b839e10f4e9da0faae0": {
          "model_module": "@jupyter-widgets/controls",
          "model_name": "SliderStyleModel",
          "state": {
            "_view_name": "StyleView",
            "handle_color": null,
            "_model_name": "SliderStyleModel",
            "description_width": "",
            "_view_module": "@jupyter-widgets/base",
            "_model_module_version": "1.5.0",
            "_view_count": null,
            "_view_module_version": "1.2.0",
            "_model_module": "@jupyter-widgets/controls"
          }
        },
        "60ea967180344d50b8ef15c0b8f07008": {
          "model_module": "@jupyter-widgets/base",
          "model_name": "LayoutModel",
          "state": {
            "_view_name": "LayoutView",
            "grid_template_rows": null,
            "right": null,
            "justify_content": null,
            "_view_module": "@jupyter-widgets/base",
            "overflow": null,
            "_model_module_version": "1.2.0",
            "_view_count": null,
            "flex_flow": null,
            "width": null,
            "min_width": null,
            "border": null,
            "align_items": null,
            "bottom": null,
            "_model_module": "@jupyter-widgets/base",
            "top": null,
            "grid_column": null,
            "overflow_y": null,
            "overflow_x": null,
            "grid_auto_flow": null,
            "grid_area": null,
            "grid_template_columns": null,
            "flex": null,
            "_model_name": "LayoutModel",
            "justify_items": null,
            "grid_row": null,
            "max_height": null,
            "align_content": null,
            "visibility": null,
            "align_self": null,
            "height": null,
            "min_height": null,
            "padding": null,
            "grid_auto_rows": null,
            "grid_gap": null,
            "max_width": null,
            "order": null,
            "_view_module_version": "1.2.0",
            "grid_template_areas": null,
            "object_position": null,
            "object_fit": null,
            "grid_auto_columns": null,
            "margin": null,
            "display": null,
            "left": null
          }
        },
        "bb97a5a39de84178ac1336662560ccc7": {
          "model_module": "@jupyter-widgets/base",
          "model_name": "LayoutModel",
          "state": {
            "_view_name": "LayoutView",
            "grid_template_rows": null,
            "right": null,
            "justify_content": null,
            "_view_module": "@jupyter-widgets/base",
            "overflow": null,
            "_model_module_version": "1.2.0",
            "_view_count": null,
            "flex_flow": null,
            "width": null,
            "min_width": null,
            "border": null,
            "align_items": null,
            "bottom": null,
            "_model_module": "@jupyter-widgets/base",
            "top": null,
            "grid_column": null,
            "overflow_y": null,
            "overflow_x": null,
            "grid_auto_flow": null,
            "grid_area": null,
            "grid_template_columns": null,
            "flex": null,
            "_model_name": "LayoutModel",
            "justify_items": null,
            "grid_row": null,
            "max_height": null,
            "align_content": null,
            "visibility": null,
            "align_self": null,
            "height": null,
            "min_height": null,
            "padding": null,
            "grid_auto_rows": null,
            "grid_gap": null,
            "max_width": null,
            "order": null,
            "_view_module_version": "1.2.0",
            "grid_template_areas": null,
            "object_position": null,
            "object_fit": null,
            "grid_auto_columns": null,
            "margin": null,
            "display": null,
            "left": null
          }
        }
      }
    }
  },
  "cells": [
    {
      "cell_type": "markdown",
      "metadata": {
        "id": "view-in-github",
        "colab_type": "text"
      },
      "source": [
        "<a href=\"https://colab.research.google.com/github/tirtharajdash/BITS-G513_MetaLearning/blob/main/Lab_3A.ipynb\" target=\"_parent\"><img src=\"https://colab.research.google.com/assets/colab-badge.svg\" alt=\"Open In Colab\"/></a>"
      ]
    },
    {
      "cell_type": "markdown",
      "metadata": {
        "id": "9sWTWI8zWFV7"
      },
      "source": [
        "This notebook has been adapted from NYU's Deep Learning Course taught by Yann LeCun & Alfredo Canziani. [ Website ](https://atcold.github.io/pytorch-Deep-Learning/)"
      ]
    },
    {
      "cell_type": "markdown",
      "metadata": {
        "id": "7_WLVIMF7LH4"
      },
      "source": [
        "# Convolutions\n",
        "\n",
        "## Outline\n",
        "1. Convolution from Signal Processing\n",
        "2. 1D Convolution in PyTorch\n",
        "2. 2D Convolution in PyTorch on Images\n",
        "\n",
        "## Convolution from Signal Processing\n",
        "\n",
        "$$ (f_1 * f_2)(t) = \\int_{-\\infty}^{\\infty} f_1({\\tau})f_2(t-\\tau)d\\tau $$"
      ]
    },
    {
      "cell_type": "code",
      "metadata": {
        "colab": {
          "base_uri": "https://localhost:8080/"
        },
        "id": "zSHXd8VQR68Z",
        "outputId": "fdfad2a6-99a8-4a8f-97e8-7ce2f8efc737"
      },
      "source": [
        "import numpy as np\n",
        "!pip install matplotlib scipy ipywidgets git+git://github.com/mkrphys/ipython-tikzmagic.git\n",
        "import matplotlib.pyplot as plt\n",
        "%load_ext tikzmagic\n",
        "\n",
        "import scipy.integrate\n",
        "from matplotlib import animation\n",
        "from IPython.display import HTML, display\n",
        "from ipywidgets import interact\n",
        "\n",
        "%matplotlib inline\n",
        "import matplotlib; matplotlib.rcParams['figure.figsize'] = (8,6)\n",
        "matplotlib.rcParams['animation.writer'] = 'avconv'"
      ],
      "execution_count": 1,
      "outputs": [
        {
          "output_type": "stream",
          "text": [
            "Collecting git+git://github.com/mkrphys/ipython-tikzmagic.git\n",
            "  Cloning git://github.com/mkrphys/ipython-tikzmagic.git to /tmp/pip-req-build-ftpl1v_v\n",
            "  Running command git clone -q git://github.com/mkrphys/ipython-tikzmagic.git /tmp/pip-req-build-ftpl1v_v\n",
            "Requirement already satisfied (use --upgrade to upgrade): ipython-tikzmagic==0.1.1 from git+git://github.com/mkrphys/ipython-tikzmagic.git in /usr/local/lib/python3.6/dist-packages\n",
            "Requirement already satisfied: matplotlib in /usr/local/lib/python3.6/dist-packages (3.2.2)\n",
            "Requirement already satisfied: scipy in /usr/local/lib/python3.6/dist-packages (1.4.1)\n",
            "Requirement already satisfied: ipywidgets in /usr/local/lib/python3.6/dist-packages (7.6.3)\n",
            "Requirement already satisfied: ipython in /usr/local/lib/python3.6/dist-packages (from ipython-tikzmagic==0.1.1) (5.5.0)\n",
            "Requirement already satisfied: kiwisolver>=1.0.1 in /usr/local/lib/python3.6/dist-packages (from matplotlib) (1.3.1)\n",
            "Requirement already satisfied: python-dateutil>=2.1 in /usr/local/lib/python3.6/dist-packages (from matplotlib) (2.8.1)\n",
            "Requirement already satisfied: pyparsing!=2.0.4,!=2.1.2,!=2.1.6,>=2.0.1 in /usr/local/lib/python3.6/dist-packages (from matplotlib) (2.4.7)\n",
            "Requirement already satisfied: numpy>=1.11 in /usr/local/lib/python3.6/dist-packages (from matplotlib) (1.19.5)\n",
            "Requirement already satisfied: cycler>=0.10 in /usr/local/lib/python3.6/dist-packages (from matplotlib) (0.10.0)\n",
            "Requirement already satisfied: nbformat>=4.2.0 in /usr/local/lib/python3.6/dist-packages (from ipywidgets) (5.1.2)\n",
            "Requirement already satisfied: widgetsnbextension~=3.5.0 in /usr/local/lib/python3.6/dist-packages (from ipywidgets) (3.5.1)\n",
            "Requirement already satisfied: jupyterlab-widgets>=1.0.0; python_version >= \"3.6\" in /usr/local/lib/python3.6/dist-packages (from ipywidgets) (1.0.0)\n",
            "Requirement already satisfied: traitlets>=4.3.1 in /usr/local/lib/python3.6/dist-packages (from ipywidgets) (4.3.3)\n",
            "Requirement already satisfied: ipykernel>=4.5.1 in /usr/local/lib/python3.6/dist-packages (from ipywidgets) (4.10.1)\n",
            "Requirement already satisfied: pickleshare in /usr/local/lib/python3.6/dist-packages (from ipython->ipython-tikzmagic==0.1.1) (0.7.5)\n",
            "Requirement already satisfied: simplegeneric>0.8 in /usr/local/lib/python3.6/dist-packages (from ipython->ipython-tikzmagic==0.1.1) (0.8.1)\n",
            "Requirement already satisfied: decorator in /usr/local/lib/python3.6/dist-packages (from ipython->ipython-tikzmagic==0.1.1) (4.4.2)\n",
            "Requirement already satisfied: setuptools>=18.5 in /usr/local/lib/python3.6/dist-packages (from ipython->ipython-tikzmagic==0.1.1) (53.0.0)\n",
            "Requirement already satisfied: pygments in /usr/local/lib/python3.6/dist-packages (from ipython->ipython-tikzmagic==0.1.1) (2.6.1)\n",
            "Requirement already satisfied: prompt-toolkit<2.0.0,>=1.0.4 in /usr/local/lib/python3.6/dist-packages (from ipython->ipython-tikzmagic==0.1.1) (1.0.18)\n",
            "Requirement already satisfied: pexpect; sys_platform != \"win32\" in /usr/local/lib/python3.6/dist-packages (from ipython->ipython-tikzmagic==0.1.1) (4.8.0)\n",
            "Requirement already satisfied: six>=1.5 in /usr/local/lib/python3.6/dist-packages (from python-dateutil>=2.1->matplotlib) (1.15.0)\n",
            "Requirement already satisfied: jsonschema!=2.5.0,>=2.4 in /usr/local/lib/python3.6/dist-packages (from nbformat>=4.2.0->ipywidgets) (2.6.0)\n",
            "Requirement already satisfied: ipython-genutils in /usr/local/lib/python3.6/dist-packages (from nbformat>=4.2.0->ipywidgets) (0.2.0)\n",
            "Requirement already satisfied: jupyter-core in /usr/local/lib/python3.6/dist-packages (from nbformat>=4.2.0->ipywidgets) (4.7.1)\n",
            "Requirement already satisfied: notebook>=4.4.1 in /usr/local/lib/python3.6/dist-packages (from widgetsnbextension~=3.5.0->ipywidgets) (5.3.1)\n",
            "Requirement already satisfied: jupyter-client in /usr/local/lib/python3.6/dist-packages (from ipykernel>=4.5.1->ipywidgets) (5.3.5)\n",
            "Requirement already satisfied: tornado>=4.0 in /usr/local/lib/python3.6/dist-packages (from ipykernel>=4.5.1->ipywidgets) (5.1.1)\n",
            "Requirement already satisfied: wcwidth in /usr/local/lib/python3.6/dist-packages (from prompt-toolkit<2.0.0,>=1.0.4->ipython->ipython-tikzmagic==0.1.1) (0.2.5)\n",
            "Requirement already satisfied: ptyprocess>=0.5 in /usr/local/lib/python3.6/dist-packages (from pexpect; sys_platform != \"win32\"->ipython->ipython-tikzmagic==0.1.1) (0.7.0)\n",
            "Requirement already satisfied: Send2Trash in /usr/local/lib/python3.6/dist-packages (from notebook>=4.4.1->widgetsnbextension~=3.5.0->ipywidgets) (1.5.0)\n",
            "Requirement already satisfied: terminado>=0.8.1 in /usr/local/lib/python3.6/dist-packages (from notebook>=4.4.1->widgetsnbextension~=3.5.0->ipywidgets) (0.9.2)\n",
            "Requirement already satisfied: jinja2 in /usr/local/lib/python3.6/dist-packages (from notebook>=4.4.1->widgetsnbextension~=3.5.0->ipywidgets) (2.11.3)\n",
            "Requirement already satisfied: nbconvert in /usr/local/lib/python3.6/dist-packages (from notebook>=4.4.1->widgetsnbextension~=3.5.0->ipywidgets) (5.6.1)\n",
            "Requirement already satisfied: pyzmq>=13 in /usr/local/lib/python3.6/dist-packages (from jupyter-client->ipykernel>=4.5.1->ipywidgets) (22.0.2)\n",
            "Requirement already satisfied: MarkupSafe>=0.23 in /usr/local/lib/python3.6/dist-packages (from jinja2->notebook>=4.4.1->widgetsnbextension~=3.5.0->ipywidgets) (1.1.1)\n",
            "Requirement already satisfied: bleach in /usr/local/lib/python3.6/dist-packages (from nbconvert->notebook>=4.4.1->widgetsnbextension~=3.5.0->ipywidgets) (3.3.0)\n",
            "Requirement already satisfied: pandocfilters>=1.4.1 in /usr/local/lib/python3.6/dist-packages (from nbconvert->notebook>=4.4.1->widgetsnbextension~=3.5.0->ipywidgets) (1.4.3)\n",
            "Requirement already satisfied: entrypoints>=0.2.2 in /usr/local/lib/python3.6/dist-packages (from nbconvert->notebook>=4.4.1->widgetsnbextension~=3.5.0->ipywidgets) (0.3)\n",
            "Requirement already satisfied: defusedxml in /usr/local/lib/python3.6/dist-packages (from nbconvert->notebook>=4.4.1->widgetsnbextension~=3.5.0->ipywidgets) (0.6.0)\n",
            "Requirement already satisfied: mistune<2,>=0.8.1 in /usr/local/lib/python3.6/dist-packages (from nbconvert->notebook>=4.4.1->widgetsnbextension~=3.5.0->ipywidgets) (0.8.4)\n",
            "Requirement already satisfied: testpath in /usr/local/lib/python3.6/dist-packages (from nbconvert->notebook>=4.4.1->widgetsnbextension~=3.5.0->ipywidgets) (0.4.4)\n",
            "Requirement already satisfied: packaging in /usr/local/lib/python3.6/dist-packages (from bleach->nbconvert->notebook>=4.4.1->widgetsnbextension~=3.5.0->ipywidgets) (20.9)\n",
            "Requirement already satisfied: webencodings in /usr/local/lib/python3.6/dist-packages (from bleach->nbconvert->notebook>=4.4.1->widgetsnbextension~=3.5.0->ipywidgets) (0.5.1)\n",
            "Building wheels for collected packages: ipython-tikzmagic\n",
            "  Building wheel for ipython-tikzmagic (setup.py) ... \u001b[?25l\u001b[?25hdone\n",
            "  Created wheel for ipython-tikzmagic: filename=ipython_tikzmagic-0.1.1-cp36-none-any.whl size=6224 sha256=ccebc15c41778a68042e505db35c015238ff044773c21aa91dd2dc34183570fa\n",
            "  Stored in directory: /tmp/pip-ephem-wheel-cache-wj77rbw_/wheels/0b/5d/55/ab467cf2f7483b8e5d926491c0df452011ce1567d418ad9910\n",
            "Successfully built ipython-tikzmagic\n"
          ],
          "name": "stdout"
        }
      ]
    },
    {
      "cell_type": "code",
      "metadata": {
        "id": "MkpOzb598ovE"
      },
      "source": [
        "f1 = lambda t: np.maximum(0, 1-abs(t))\n",
        "f2 = lambda t: (t>0) * np.exp(-2*t)"
      ],
      "execution_count": 2,
      "outputs": []
    },
    {
      "cell_type": "code",
      "metadata": {
        "id": "8LbnXpWt8q9s"
      },
      "source": [
        "Fs = 50  # our sampling frequency for the plotting\n",
        "T = 5    # the time range we are interested in\n",
        "t = np.arange(-T, T, 1/Fs)  # the time samples"
      ],
      "execution_count": 3,
      "outputs": []
    },
    {
      "cell_type": "code",
      "metadata": {
        "colab": {
          "base_uri": "https://localhost:8080/",
          "height": 227
        },
        "id": "RpBNOZvg89ji",
        "outputId": "f6b8a678-257b-4c7f-b31c-2a4f5c292c44"
      },
      "source": [
        "plt.figure(figsize=(8,3))\n",
        "plt.plot(t, f1(t), label='$f_1(t)$')\n",
        "plt.plot(t, f2(t), label='$f_2(t)$')\n",
        "plt.grid(True); plt.ylabel('$f(t)$'); plt.xlabel('$t$'); plt.legend(fontsize=10); plt.ylim((-0.1, 1.1));"
      ],
      "execution_count": 4,
      "outputs": [
        {
          "output_type": "display_data",
          "data": {
            "image/png": "[encoded data removed]",
            "text/plain": [
              "<Figure size 576x216 with 1 Axes>"
            ]
          },
          "metadata": {
            "tags": [],
            "needs_background": "light"
          }
        }
      ]
    },
    {
      "cell_type": "code",
      "metadata": {
        "colab": {
          "base_uri": "https://localhost:8080/",
          "height": 243
        },
        "id": "ac3vctW799kU",
        "outputId": "7eb5e23d-da5d-4658-8d3d-fc457ae8365a"
      },
      "source": [
        "t0 = 1\n",
        "flipped = lambda tau: f2(t0-tau)\n",
        "product = lambda tau: f1(tau)*f2(t0-tau)\n",
        "\n",
        "plt.figure(figsize=(8,3))\n",
        "plt.gca().set_ymargin(0.05);\n",
        "plt.plot(t, f1(t), label=r'$f_1(\\tau)$')\n",
        "plt.plot(t, flipped(t), label=r'$f_2(t_0-\\tau)$')\n",
        "plt.plot(t, product(t), label=r'$f_1(\\tau)f_2(t_0-\\tau)$')\n",
        "plt.fill(t, product(t), color='r', alpha=0.5, hatch='//')\n",
        "plt.grid(True); plt.xlabel(r'$\\tau$'); plt.legend(fontsize=10);\n",
        "\n",
        "# Explicitely calculate the integral, using the Simpson integration rule\n",
        "display(HTML(\"Result of the convolution (red shaded area): $(f_1*f_2)(t_0=%.0f) = %.2f$\" % (t0, scipy.integrate.simps(product(t), t))))"
      ],
      "execution_count": 5,
      "outputs": [
        {
          "output_type": "display_data",
          "data": {
            "text/html": [
              "Result of the convolution (red shaded area): $(f_1*f_2)(t_0=1) = 0.19$"
            ],
            "text/plain": [
              "<IPython.core.display.HTML object>"
            ]
          },
          "metadata": {
            "tags": []
          }
        },
        {
          "output_type": "display_data",
          "data": {
            "image/png": "[encoded data removed]",
            "text/plain": [
              "<Figure size 576x216 with 1 Axes>"
            ]
          },
          "metadata": {
            "tags": [],
            "needs_background": "light"
          }
        }
      ]
    },
    {
      "cell_type": "code",
      "metadata": {
        "id": "erkN9zJoA7No"
      },
      "source": [
        "def showConvolution(f1, f2, t0):\n",
        "    # Calculate the overall convolution result using Simpson integration\n",
        "    convolution = np.zeros(len(t))\n",
        "    for n, t_ in enumerate(t):\n",
        "        prod = lambda tau: f1(tau) * f2(t_-tau)\n",
        "        convolution[n] = scipy.integrate.simps(prod(t), t)\n",
        "    \n",
        "    # Create the shifted and flipped function\n",
        "    f_shift = lambda t: f2(t0-t)\n",
        "    prod = lambda tau: f1(tau) * f2(t0-tau)\n",
        "\n",
        "    # Plot the curves\n",
        "    plt.gcf().clear()\n",
        "    \n",
        "    plt.subplot(211)\n",
        "    plt.gca().set_ymargin(0.05)\n",
        "    plt.plot(t, f1(t), label=r'$f_1(\\tau)$')\n",
        "    plt.plot(t, f_shift(t), label=r'$f_2(t_0-\\tau)$')\n",
        "    plt.fill(t, prod(t), color='r', alpha=0.5, edgecolor='black', hatch='//')\n",
        "    plt.plot(t, prod(t), 'r-', label=r'$f_1(\\tau)f_2(t_0-\\tau)$')\n",
        "    plt.grid(True); plt.xlabel(r'$\\tau$'); plt.ylabel(r'$x(\\tau)$')\n",
        "    plt.legend(fontsize=10)\n",
        "    plt.text(-4, 0.6, '$t_0=%.2f$' % t0, bbox=dict(fc='white'))\n",
        "    \n",
        "    # plot the convolution curve\n",
        "    plt.subplot(212)\n",
        "    plt.gca().set_ymargin(0.05)\n",
        "    plt.plot(t, convolution, label='$(f_1*f_2)(t)$')\n",
        "    \n",
        "    # recalculate the value of the convolution integral at the current time-shift t0\n",
        "    current_value = scipy.integrate.simps(prod(t), t)\n",
        "    plt.plot(t0, current_value, 'ro')  # plot the point\n",
        "    plt.grid(True); plt.xlabel('$t$'); plt.ylabel('$(f_1*f_2)(t)$')\n",
        "    plt.legend(fontsize=10)\n",
        "    #plt.show()"
      ],
      "execution_count": 6,
      "outputs": []
    },
    {
      "cell_type": "code",
      "metadata": {
        "colab": {
          "base_uri": "https://localhost:8080/",
          "height": 331,
          "referenced_widgets": [
            "255e13532ebb418c884f29d208e2fcf3",
            "de2e13f42f4c4c17913bb684a1a892f9",
            "354a1898986e4e209172b8faf827fe52",
            "7e68ca5c58f3403e85973444d1a6088a",
            "01af0dd2e2ea45dba18bc501cf377cf6",
            "55f0674d8fed42168e438eeb50c2e6a9",
            "4c95ca378d374c39b70b7c2f57419c78"
          ]
        },
        "id": "8cc0Qr-BA8YZ",
        "outputId": "36d9b4fb-10ae-43c6-fc1b-69d47e7839f6"
      },
      "source": [
        "plt.figure()\n",
        "interact(lambda t0: showConvolution(f1, f2, t0), t0 = (-2,3,0.05));"
      ],
      "execution_count": 7,
      "outputs": [
        {
          "output_type": "display_data",
          "data": {
            "text/plain": [
              "<Figure size 432x288 with 0 Axes>"
            ]
          },
          "metadata": {
            "tags": []
          }
        },
        {
          "output_type": "display_data",
          "data": {
            "application/vnd.jupyter.widget-view+json": {
              "model_id": "255e13532ebb418c884f29d208e2fcf3",
              "version_minor": 0,
              "version_major": 2
            },
            "text/plain": [
              "interactive(children=(FloatSlider(value=0.0, description='t0', max=3.0, min=-2.0, step=0.05), Output()), _dom_…"
            ]
          },
          "metadata": {
            "tags": []
          }
        }
      ]
    },
    {
      "cell_type": "code",
      "metadata": {
        "colab": {
          "base_uri": "https://localhost:8080/",
          "height": 227
        },
        "id": "mfSXDEkWA_YH",
        "outputId": "2c04f8a9-66e6-45f0-8869-05715f657f50"
      },
      "source": [
        "f1 = lambda t: (abs(t)<0.5).astype(float)\n",
        "f2 = lambda t: 0.8*(abs(t-0.2)<0.5).astype(float)\n",
        "plt.figure(figsize=(8,3))\n",
        "plt.plot(t, f1(t), label='$f_1(t)$')\n",
        "plt.plot(t, f2(t), label='$f_2(t)$')\n",
        "plt.grid(True); plt.ylabel('$f(t)$'); plt.xlabel('$t$'); plt.legend(fontsize=10); plt.ylim((-0.1, 1.1));"
      ],
      "execution_count": 8,
      "outputs": [
        {
          "output_type": "display_data",
          "data": {
            "image/png": "[encoded data removed]",
            "text/plain": [
              "<Figure size 576x216 with 1 Axes>"
            ]
          },
          "metadata": {
            "tags": [],
            "needs_background": "light"
          }
        }
      ]
    },
    {
      "cell_type": "code",
      "metadata": {
        "colab": {
          "base_uri": "https://localhost:8080/",
          "height": 313,
          "referenced_widgets": [
            "64b1e101faaa4613b9db5f8d80dba6ed",
            "effcaf17951b4b8087ce6a44ae9a6ba6",
            "b4ff7d0a84f847ccaf2d7c67e9204670",
            "8b3294e6c68d4040a38e85e2eb3df1af",
            "097ba86b9cfb4b839e10f4e9da0faae0",
            "60ea967180344d50b8ef15c0b8f07008",
            "bb97a5a39de84178ac1336662560ccc7"
          ]
        },
        "id": "KchICzoeBA0P",
        "outputId": "e0acd7b6-9904-479d-c7fd-149ff60143b0"
      },
      "source": [
        "interact(lambda t0: showConvolution(f1, f2, t0), t0 = (-2,3,0.05));"
      ],
      "execution_count": 9,
      "outputs": [
        {
          "output_type": "display_data",
          "data": {
            "application/vnd.jupyter.widget-view+json": {
              "model_id": "64b1e101faaa4613b9db5f8d80dba6ed",
              "version_minor": 0,
              "version_major": 2
            },
            "text/plain": [
              "interactive(children=(FloatSlider(value=0.0, description='t0', max=3.0, min=-2.0, step=0.05), Output()), _dom_…"
            ]
          },
          "metadata": {
            "tags": []
          }
        }
      ]
    },
    {
      "cell_type": "markdown",
      "metadata": {
        "id": "X4w65l8BCVrI"
      },
      "source": [
        "## 1D Convolution in PyTorch"
      ]
    },
    {
      "cell_type": "code",
      "metadata": {
        "id": "9Civ_DB2BcyB"
      },
      "source": [
        "import torch\n",
        "import torch.nn as nn\n",
        "\n",
        "input = torch.tensor([1, 0, 1, 0, 1, 0, 1], dtype = torch.float).reshape(1,1,-1)\n",
        "\n",
        "convolve1 = nn.Conv1d(in_channels=1, out_channels=1, kernel_size=3, stride=1)\n",
        "convolve2 = nn.Conv1d(in_channels=1, out_channels=5, kernel_size=3, stride=1)\n"
      ],
      "execution_count": 10,
      "outputs": []
    },
    {
      "cell_type": "code",
      "metadata": {
        "colab": {
          "base_uri": "https://localhost:8080/"
        },
        "id": "ikhMig8zC-h5",
        "outputId": "0d5c4a99-a8d4-4946-bed1-ddd974ebf26e"
      },
      "source": [
        "convolve1(input)"
      ],
      "execution_count": 11,
      "outputs": [
        {
          "output_type": "execute_result",
          "data": {
            "text/plain": [
              "tensor([[[0.3881, 0.6257, 0.3881, 0.6257, 0.3881]]],\n",
              "       grad_fn=<SqueezeBackward1>)"
            ]
          },
          "metadata": {
            "tags": []
          },
          "execution_count": 11
        }
      ]
    },
    {
      "cell_type": "markdown",
      "metadata": {
        "id": "emPQOpYXDc7G"
      },
      "source": [
        "<p align=\"center\">\n",
        "<img src=\"https://peltarion.com/static/1d_convolution_pa1.png\">\n",
        "</p>"
      ]
    },
    {
      "cell_type": "code",
      "metadata": {
        "id": "vsZpOgP6DbfG"
      },
      "source": [
        "with torch.no_grad():\n",
        "    convolve1.weight = nn.Parameter(torch.ones_like(convolve1.weight))\n",
        "    convolve1.bias = nn.Parameter(torch.zeros_like(convolve1.bias))"
      ],
      "execution_count": 12,
      "outputs": []
    },
    {
      "cell_type": "code",
      "metadata": {
        "colab": {
          "base_uri": "https://localhost:8080/"
        },
        "id": "bn6k2czaD0LB",
        "outputId": "bee9d469-48d1-4154-fcdc-6c2b1bb32cd6"
      },
      "source": [
        "print(convolve1.weight, convolve1.bias)"
      ],
      "execution_count": 13,
      "outputs": [
        {
          "output_type": "stream",
          "text": [
            "Parameter containing:\n",
            "tensor([[[1., 1., 1.]]], requires_grad=True) Parameter containing:\n",
            "tensor([0.], requires_grad=True)\n"
          ],
          "name": "stdout"
        }
      ]
    },
    {
      "cell_type": "code",
      "metadata": {
        "colab": {
          "base_uri": "https://localhost:8080/"
        },
        "id": "rtRSiME5EGki",
        "outputId": "03b487df-21da-499e-8020-a4b9eeff0ab3"
      },
      "source": [
        "convolve1(input)"
      ],
      "execution_count": 14,
      "outputs": [
        {
          "output_type": "execute_result",
          "data": {
            "text/plain": [
              "tensor([[[2., 1., 2., 1., 2.]]], grad_fn=<SqueezeBackward1>)"
            ]
          },
          "metadata": {
            "tags": []
          },
          "execution_count": 14
        }
      ]
    },
    {
      "cell_type": "code",
      "metadata": {
        "colab": {
          "base_uri": "https://localhost:8080/"
        },
        "id": "NBqTD5xuEgja",
        "outputId": "4dc1e695-5623-473a-f21d-0b1d5bb33e37"
      },
      "source": [
        "convolve2(input)"
      ],
      "execution_count": 15,
      "outputs": [
        {
          "output_type": "execute_result",
          "data": {
            "text/plain": [
              "tensor([[[ 0.2492,  0.2949,  0.2492,  0.2949,  0.2492],\n",
              "         [-0.3445, -0.6668, -0.3445, -0.6668, -0.3445],\n",
              "         [ 0.0703,  0.1038,  0.0703,  0.1038,  0.0703],\n",
              "         [ 0.3713, -0.1294,  0.3713, -0.1294,  0.3713],\n",
              "         [ 0.5959,  0.4780,  0.5959,  0.4780,  0.5959]]],\n",
              "       grad_fn=<SqueezeBackward1>)"
            ]
          },
          "metadata": {
            "tags": []
          },
          "execution_count": 15
        }
      ]
    },
    {
      "cell_type": "code",
      "metadata": {
        "id": "vdKYc-N0FOEB"
      },
      "source": [
        ""
      ],
      "execution_count": 15,
      "outputs": []
    }
  ]
}