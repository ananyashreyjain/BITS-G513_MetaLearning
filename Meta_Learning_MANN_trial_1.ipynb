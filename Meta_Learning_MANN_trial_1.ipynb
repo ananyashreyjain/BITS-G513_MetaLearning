{
  "nbformat": 4,
  "nbformat_minor": 0,
  "metadata": {
    "colab": {
      "name": "Meta_Learning_MANN_trial_1.ipynb",
      "provenance": [],
      "collapsed_sections": []
    },
    "kernelspec": {
      "name": "python3",
      "display_name": "Python 3"
    },
    "language_info": {
      "name": "python"
    },
    "widgets": {
      "application/vnd.jupyter.widget-state+json": {
        "5cf7abb2ebd6455d9ff7002a265812a4": {
          "model_module": "@jupyter-widgets/controls",
          "model_name": "HBoxModel",
          "state": {
            "_view_name": "HBoxView",
            "_dom_classes": [],
            "_model_name": "HBoxModel",
            "_view_module": "@jupyter-widgets/controls",
            "_model_module_version": "1.5.0",
            "_view_count": null,
            "_view_module_version": "1.5.0",
            "box_style": "",
            "layout": "IPY_MODEL_81736d3d5021420184ebd961dc65cdc4",
            "_model_module": "@jupyter-widgets/controls",
            "children": [
              "IPY_MODEL_a78078a761094e8386effa005d3fb0d9",
              "IPY_MODEL_9937af6eea5d4b45be88205a104f072f"
            ]
          }
        },
        "81736d3d5021420184ebd961dc65cdc4": {
          "model_module": "@jupyter-widgets/base",
          "model_name": "LayoutModel",
          "state": {
            "_view_name": "LayoutView",
            "grid_template_rows": null,
            "right": null,
            "justify_content": null,
            "_view_module": "@jupyter-widgets/base",
            "overflow": null,
            "_model_module_version": "1.2.0",
            "_view_count": null,
            "flex_flow": null,
            "width": null,
            "min_width": null,
            "border": null,
            "align_items": null,
            "bottom": null,
            "_model_module": "@jupyter-widgets/base",
            "top": null,
            "grid_column": null,
            "overflow_y": null,
            "overflow_x": null,
            "grid_auto_flow": null,
            "grid_area": null,
            "grid_template_columns": null,
            "flex": null,
            "_model_name": "LayoutModel",
            "justify_items": null,
            "grid_row": null,
            "max_height": null,
            "align_content": null,
            "visibility": null,
            "align_self": null,
            "height": null,
            "min_height": null,
            "padding": null,
            "grid_auto_rows": null,
            "grid_gap": null,
            "max_width": null,
            "order": null,
            "_view_module_version": "1.2.0",
            "grid_template_areas": null,
            "object_position": null,
            "object_fit": null,
            "grid_auto_columns": null,
            "margin": null,
            "display": null,
            "left": null
          }
        },
        "a78078a761094e8386effa005d3fb0d9": {
          "model_module": "@jupyter-widgets/controls",
          "model_name": "FloatProgressModel",
          "state": {
            "_view_name": "ProgressView",
            "style": "IPY_MODEL_c3f89b591d954fdd9355116a1f7b6365",
            "_dom_classes": [],
            "description": "",
            "_model_name": "FloatProgressModel",
            "bar_style": "success",
            "max": 9464212,
            "_view_module": "@jupyter-widgets/controls",
            "_model_module_version": "1.5.0",
            "value": 9464212,
            "_view_count": null,
            "_view_module_version": "1.5.0",
            "orientation": "horizontal",
            "min": 0,
            "description_tooltip": null,
            "_model_module": "@jupyter-widgets/controls",
            "layout": "IPY_MODEL_077900eac13d475c9fe4d1b9e77e3673"
          }
        },
        "9937af6eea5d4b45be88205a104f072f": {
          "model_module": "@jupyter-widgets/controls",
          "model_name": "HTMLModel",
          "state": {
            "_view_name": "HTMLView",
            "style": "IPY_MODEL_97de0f67916e423797de28b47c6884e5",
            "_dom_classes": [],
            "description": "",
            "_model_name": "HTMLModel",
            "placeholder": "​",
            "_view_module": "@jupyter-widgets/controls",
            "_model_module_version": "1.5.0",
            "value": " 9464832/? [00:00&lt;00:00, 51411720.69it/s]",
            "_view_count": null,
            "_view_module_version": "1.5.0",
            "description_tooltip": null,
            "_model_module": "@jupyter-widgets/controls",
            "layout": "IPY_MODEL_afc42c603af547efa0938fd2534015d5"
          }
        },
        "c3f89b591d954fdd9355116a1f7b6365": {
          "model_module": "@jupyter-widgets/controls",
          "model_name": "ProgressStyleModel",
          "state": {
            "_view_name": "StyleView",
            "_model_name": "ProgressStyleModel",
            "description_width": "initial",
            "_view_module": "@jupyter-widgets/base",
            "_model_module_version": "1.5.0",
            "_view_count": null,
            "_view_module_version": "1.2.0",
            "bar_color": null,
            "_model_module": "@jupyter-widgets/controls"
          }
        },
        "077900eac13d475c9fe4d1b9e77e3673": {
          "model_module": "@jupyter-widgets/base",
          "model_name": "LayoutModel",
          "state": {
            "_view_name": "LayoutView",
            "grid_template_rows": null,
            "right": null,
            "justify_content": null,
            "_view_module": "@jupyter-widgets/base",
            "overflow": null,
            "_model_module_version": "1.2.0",
            "_view_count": null,
            "flex_flow": null,
            "width": null,
            "min_width": null,
            "border": null,
            "align_items": null,
            "bottom": null,
            "_model_module": "@jupyter-widgets/base",
            "top": null,
            "grid_column": null,
            "overflow_y": null,
            "overflow_x": null,
            "grid_auto_flow": null,
            "grid_area": null,
            "grid_template_columns": null,
            "flex": null,
            "_model_name": "LayoutModel",
            "justify_items": null,
            "grid_row": null,
            "max_height": null,
            "align_content": null,
            "visibility": null,
            "align_self": null,
            "height": null,
            "min_height": null,
            "padding": null,
            "grid_auto_rows": null,
            "grid_gap": null,
            "max_width": null,
            "order": null,
            "_view_module_version": "1.2.0",
            "grid_template_areas": null,
            "object_position": null,
            "object_fit": null,
            "grid_auto_columns": null,
            "margin": null,
            "display": null,
            "left": null
          }
        },
        "97de0f67916e423797de28b47c6884e5": {
          "model_module": "@jupyter-widgets/controls",
          "model_name": "DescriptionStyleModel",
          "state": {
            "_view_name": "StyleView",
            "_model_name": "DescriptionStyleModel",
            "description_width": "",
            "_view_module": "@jupyter-widgets/base",
            "_model_module_version": "1.5.0",
            "_view_count": null,
            "_view_module_version": "1.2.0",
            "_model_module": "@jupyter-widgets/controls"
          }
        },
        "afc42c603af547efa0938fd2534015d5": {
          "model_module": "@jupyter-widgets/base",
          "model_name": "LayoutModel",
          "state": {
            "_view_name": "LayoutView",
            "grid_template_rows": null,
            "right": null,
            "justify_content": null,
            "_view_module": "@jupyter-widgets/base",
            "overflow": null,
            "_model_module_version": "1.2.0",
            "_view_count": null,
            "flex_flow": null,
            "width": null,
            "min_width": null,
            "border": null,
            "align_items": null,
            "bottom": null,
            "_model_module": "@jupyter-widgets/base",
            "top": null,
            "grid_column": null,
            "overflow_y": null,
            "overflow_x": null,
            "grid_auto_flow": null,
            "grid_area": null,
            "grid_template_columns": null,
            "flex": null,
            "_model_name": "LayoutModel",
            "justify_items": null,
            "grid_row": null,
            "max_height": null,
            "align_content": null,
            "visibility": null,
            "align_self": null,
            "height": null,
            "min_height": null,
            "padding": null,
            "grid_auto_rows": null,
            "grid_gap": null,
            "max_width": null,
            "order": null,
            "_view_module_version": "1.2.0",
            "grid_template_areas": null,
            "object_position": null,
            "object_fit": null,
            "grid_auto_columns": null,
            "margin": null,
            "display": null,
            "left": null
          }
        },
        "3441a8fa756e47a68ec3cde0f392e6cf": {
          "model_module": "@jupyter-widgets/controls",
          "model_name": "HBoxModel",
          "state": {
            "_view_name": "HBoxView",
            "_dom_classes": [],
            "_model_name": "HBoxModel",
            "_view_module": "@jupyter-widgets/controls",
            "_model_module_version": "1.5.0",
            "_view_count": null,
            "_view_module_version": "1.5.0",
            "box_style": "",
            "layout": "IPY_MODEL_e90961c86fee44b9b1809020490d49a1",
            "_model_module": "@jupyter-widgets/controls",
            "children": [
              "IPY_MODEL_449e9101933a4dcc9a8de8e64f03d598",
              "IPY_MODEL_9760fcd03c254b0780340f64c4569069"
            ]
          }
        },
        "e90961c86fee44b9b1809020490d49a1": {
          "model_module": "@jupyter-widgets/base",
          "model_name": "LayoutModel",
          "state": {
            "_view_name": "LayoutView",
            "grid_template_rows": null,
            "right": null,
            "justify_content": null,
            "_view_module": "@jupyter-widgets/base",
            "overflow": null,
            "_model_module_version": "1.2.0",
            "_view_count": null,
            "flex_flow": null,
            "width": null,
            "min_width": null,
            "border": null,
            "align_items": null,
            "bottom": null,
            "_model_module": "@jupyter-widgets/base",
            "top": null,
            "grid_column": null,
            "overflow_y": null,
            "overflow_x": null,
            "grid_auto_flow": null,
            "grid_area": null,
            "grid_template_columns": null,
            "flex": null,
            "_model_name": "LayoutModel",
            "justify_items": null,
            "grid_row": null,
            "max_height": null,
            "align_content": null,
            "visibility": null,
            "align_self": null,
            "height": null,
            "min_height": null,
            "padding": null,
            "grid_auto_rows": null,
            "grid_gap": null,
            "max_width": null,
            "order": null,
            "_view_module_version": "1.2.0",
            "grid_template_areas": null,
            "object_position": null,
            "object_fit": null,
            "grid_auto_columns": null,
            "margin": null,
            "display": null,
            "left": null
          }
        },
        "449e9101933a4dcc9a8de8e64f03d598": {
          "model_module": "@jupyter-widgets/controls",
          "model_name": "FloatProgressModel",
          "state": {
            "_view_name": "ProgressView",
            "style": "IPY_MODEL_82a75b03f0834e39a276ea5a4b31c579",
            "_dom_classes": [],
            "description": "",
            "_model_name": "FloatProgressModel",
            "bar_style": "success",
            "max": 6462886,
            "_view_module": "@jupyter-widgets/controls",
            "_model_module_version": "1.5.0",
            "value": 6462886,
            "_view_count": null,
            "_view_module_version": "1.5.0",
            "orientation": "horizontal",
            "min": 0,
            "description_tooltip": null,
            "_model_module": "@jupyter-widgets/controls",
            "layout": "IPY_MODEL_6ca28af0fe804bfdb2e52bd153200304"
          }
        },
        "9760fcd03c254b0780340f64c4569069": {
          "model_module": "@jupyter-widgets/controls",
          "model_name": "HTMLModel",
          "state": {
            "_view_name": "HTMLView",
            "style": "IPY_MODEL_a2f50702696a47f29ba2818e31128cd8",
            "_dom_classes": [],
            "description": "",
            "_model_name": "HTMLModel",
            "placeholder": "​",
            "_view_module": "@jupyter-widgets/controls",
            "_model_module_version": "1.5.0",
            "value": " 6463488/? [00:00&lt;00:00, 47162054.36it/s]",
            "_view_count": null,
            "_view_module_version": "1.5.0",
            "description_tooltip": null,
            "_model_module": "@jupyter-widgets/controls",
            "layout": "IPY_MODEL_77326c29043d43a2bed65b581433411e"
          }
        },
        "82a75b03f0834e39a276ea5a4b31c579": {
          "model_module": "@jupyter-widgets/controls",
          "model_name": "ProgressStyleModel",
          "state": {
            "_view_name": "StyleView",
            "_model_name": "ProgressStyleModel",
            "description_width": "initial",
            "_view_module": "@jupyter-widgets/base",
            "_model_module_version": "1.5.0",
            "_view_count": null,
            "_view_module_version": "1.2.0",
            "bar_color": null,
            "_model_module": "@jupyter-widgets/controls"
          }
        },
        "6ca28af0fe804bfdb2e52bd153200304": {
          "model_module": "@jupyter-widgets/base",
          "model_name": "LayoutModel",
          "state": {
            "_view_name": "LayoutView",
            "grid_template_rows": null,
            "right": null,
            "justify_content": null,
            "_view_module": "@jupyter-widgets/base",
            "overflow": null,
            "_model_module_version": "1.2.0",
            "_view_count": null,
            "flex_flow": null,
            "width": null,
            "min_width": null,
            "border": null,
            "align_items": null,
            "bottom": null,
            "_model_module": "@jupyter-widgets/base",
            "top": null,
            "grid_column": null,
            "overflow_y": null,
            "overflow_x": null,
            "grid_auto_flow": null,
            "grid_area": null,
            "grid_template_columns": null,
            "flex": null,
            "_model_name": "LayoutModel",
            "justify_items": null,
            "grid_row": null,
            "max_height": null,
            "align_content": null,
            "visibility": null,
            "align_self": null,
            "height": null,
            "min_height": null,
            "padding": null,
            "grid_auto_rows": null,
            "grid_gap": null,
            "max_width": null,
            "order": null,
            "_view_module_version": "1.2.0",
            "grid_template_areas": null,
            "object_position": null,
            "object_fit": null,
            "grid_auto_columns": null,
            "margin": null,
            "display": null,
            "left": null
          }
        },
        "a2f50702696a47f29ba2818e31128cd8": {
          "model_module": "@jupyter-widgets/controls",
          "model_name": "DescriptionStyleModel",
          "state": {
            "_view_name": "StyleView",
            "_model_name": "DescriptionStyleModel",
            "description_width": "",
            "_view_module": "@jupyter-widgets/base",
            "_model_module_version": "1.5.0",
            "_view_count": null,
            "_view_module_version": "1.2.0",
            "_model_module": "@jupyter-widgets/controls"
          }
        },
        "77326c29043d43a2bed65b581433411e": {
          "model_module": "@jupyter-widgets/base",
          "model_name": "LayoutModel",
          "state": {
            "_view_name": "LayoutView",
            "grid_template_rows": null,
            "right": null,
            "justify_content": null,
            "_view_module": "@jupyter-widgets/base",
            "overflow": null,
            "_model_module_version": "1.2.0",
            "_view_count": null,
            "flex_flow": null,
            "width": null,
            "min_width": null,
            "border": null,
            "align_items": null,
            "bottom": null,
            "_model_module": "@jupyter-widgets/base",
            "top": null,
            "grid_column": null,
            "overflow_y": null,
            "overflow_x": null,
            "grid_auto_flow": null,
            "grid_area": null,
            "grid_template_columns": null,
            "flex": null,
            "_model_name": "LayoutModel",
            "justify_items": null,
            "grid_row": null,
            "max_height": null,
            "align_content": null,
            "visibility": null,
            "align_self": null,
            "height": null,
            "min_height": null,
            "padding": null,
            "grid_auto_rows": null,
            "grid_gap": null,
            "max_width": null,
            "order": null,
            "_view_module_version": "1.2.0",
            "grid_template_areas": null,
            "object_position": null,
            "object_fit": null,
            "grid_auto_columns": null,
            "margin": null,
            "display": null,
            "left": null
          }
        }
      }
    },
    "accelerator": "GPU"
  },
  "cells": [
    {
      "cell_type": "code",
      "metadata": {
        "colab": {
          "base_uri": "https://localhost:8080/"
        },
        "id": "WH-kD9q0T_Rs",
        "outputId": "dc3a47b5-e576-4a5b-e8ad-ebd2504cf9af"
      },
      "source": [
        "import torch\n",
        "from IPython.display import display\n",
        "import torchvision as tv\n",
        "import matplotlib.pyplot as plt\n",
        "import pandas as pd\n",
        "import os\n",
        "import numpy as np\n",
        "from PIL import Image\n",
        "from random import randint\n",
        "import collections\n",
        "!pip install torchviz\n",
        "import torchviz"
      ],
      "execution_count": 2,
      "outputs": [
        {
          "output_type": "stream",
          "text": [
            "Collecting torchviz\n",
            "  Downloading https://files.pythonhosted.org/packages/79/e7/643808913211d6c1fc96a3a4333bf4c9276858fab00bcafaf98ea58a97be/torchviz-0.0.2.tar.gz\n",
            "Requirement already satisfied: torch in /usr/local/lib/python3.7/dist-packages (from torchviz) (1.8.1+cu101)\n",
            "Requirement already satisfied: graphviz in /usr/local/lib/python3.7/dist-packages (from torchviz) (0.10.1)\n",
            "Requirement already satisfied: numpy in /usr/local/lib/python3.7/dist-packages (from torch->torchviz) (1.19.5)\n",
            "Requirement already satisfied: typing-extensions in /usr/local/lib/python3.7/dist-packages (from torch->torchviz) (3.7.4.3)\n",
            "Building wheels for collected packages: torchviz\n",
            "  Building wheel for torchviz (setup.py) ... \u001b[?25l\u001b[?25hdone\n",
            "  Created wheel for torchviz: filename=torchviz-0.0.2-cp37-none-any.whl size=4152 sha256=f4202b24ad71d5fe191b9cc0e1f61908c3af81106f990f5d2d1cda5fd117bc06\n",
            "  Stored in directory: /root/.cache/pip/wheels/01/26/58/026ffd533dbe8b3972eb423da9c7949beca68d1c98ed9e8624\n",
            "Successfully built torchviz\n",
            "Installing collected packages: torchviz\n",
            "Successfully installed torchviz-0.0.2\n"
          ],
          "name": "stdout"
        }
      ]
    },
    {
      "cell_type": "code",
      "metadata": {
        "colab": {
          "base_uri": "https://localhost:8080/",
          "height": 182,
          "referenced_widgets": [
            "5cf7abb2ebd6455d9ff7002a265812a4",
            "81736d3d5021420184ebd961dc65cdc4",
            "a78078a761094e8386effa005d3fb0d9",
            "9937af6eea5d4b45be88205a104f072f",
            "c3f89b591d954fdd9355116a1f7b6365",
            "077900eac13d475c9fe4d1b9e77e3673",
            "97de0f67916e423797de28b47c6884e5",
            "afc42c603af547efa0938fd2534015d5",
            "3441a8fa756e47a68ec3cde0f392e6cf",
            "e90961c86fee44b9b1809020490d49a1",
            "449e9101933a4dcc9a8de8e64f03d598",
            "9760fcd03c254b0780340f64c4569069",
            "82a75b03f0834e39a276ea5a4b31c579",
            "6ca28af0fe804bfdb2e52bd153200304",
            "a2f50702696a47f29ba2818e31128cd8",
            "77326c29043d43a2bed65b581433411e"
          ]
        },
        "id": "nFKDi4BkU0DU",
        "outputId": "d66458d3-2270-42d8-a527-8776d97a1c0e"
      },
      "source": [
        "new_shape = (28, 28)\n",
        "# transform = tv.transforms.Compose([tv.transforms.ToTensor(), tv.transforms.Resize(new_shape)])\n",
        "imagenet_data_back = tv.datasets.Omniglot('/content/sample_data/Omniglot', download=True, background=True)\n",
        "imagenet_data_eval = tv.datasets.Omniglot('/content/sample_data/Omniglot', download=True, background=False)\n",
        "# data_train = tv.datasets.ImageFolder('/content/sample_data/Omniglot/omniglot-py/images_background',transform=transform)\n",
        "# data_test = tv.datasets.ImageFolder('/content/sample_data/Omniglot/omniglot-py/images_evaluation',transform=transform)\n",
        "# train_data = torch.utils.data.DataLoader(data_train, batch_size=4)\n",
        "# test_data = torch.utils.data.DataLoader(data_test, batch_size=4)"
      ],
      "execution_count": 3,
      "outputs": [
        {
          "output_type": "stream",
          "text": [
            "Downloading https://raw.githubusercontent.com/brendenlake/omniglot/master/python/images_background.zip to /content/sample_data/Omniglot/omniglot-py/images_background.zip\n"
          ],
          "name": "stdout"
        },
        {
          "output_type": "display_data",
          "data": {
            "application/vnd.jupyter.widget-view+json": {
              "model_id": "5cf7abb2ebd6455d9ff7002a265812a4",
              "version_minor": 0,
              "version_major": 2
            },
            "text/plain": [
              "HBox(children=(FloatProgress(value=0.0, max=9464212.0), HTML(value='')))"
            ]
          },
          "metadata": {
            "tags": []
          }
        },
        {
          "output_type": "stream",
          "text": [
            "\n",
            "Extracting /content/sample_data/Omniglot/omniglot-py/images_background.zip to /content/sample_data/Omniglot/omniglot-py\n",
            "Downloading https://raw.githubusercontent.com/brendenlake/omniglot/master/python/images_evaluation.zip to /content/sample_data/Omniglot/omniglot-py/images_evaluation.zip\n"
          ],
          "name": "stdout"
        },
        {
          "output_type": "display_data",
          "data": {
            "application/vnd.jupyter.widget-view+json": {
              "model_id": "3441a8fa756e47a68ec3cde0f392e6cf",
              "version_minor": 0,
              "version_major": 2
            },
            "text/plain": [
              "HBox(children=(FloatProgress(value=0.0, max=6462886.0), HTML(value='')))"
            ]
          },
          "metadata": {
            "tags": []
          }
        },
        {
          "output_type": "stream",
          "text": [
            "\n",
            "Extracting /content/sample_data/Omniglot/omniglot-py/images_evaluation.zip to /content/sample_data/Omniglot/omniglot-py\n"
          ],
          "name": "stdout"
        }
      ]
    },
    {
      "cell_type": "code",
      "metadata": {
        "id": "BZ8nqCFIbOej"
      },
      "source": [
        "def image_array(home, im_path, new_shape):\n",
        "    path = os.path.join(home, im_path)\n",
        "    main_list = os.listdir(path)\n",
        "    image_list_main = []\n",
        "    for folder in main_list:\n",
        "        char_list = os.listdir(os.path.join(path, folder))\n",
        "        image_list_folder = []\n",
        "        for char in char_list:\n",
        "            img_list = os.listdir(os.path.join(path, folder, char))\n",
        "            image_list_char = []\n",
        "            for img in img_list:\n",
        "                img_arr = Image.open(os.path.join(path, folder, char, img))\n",
        "                img_arr.thumbnail(new_shape, Image.ANTIALIAS) \n",
        "                img_arr = np.asarray(img_arr, dtype=np.float) \n",
        "                image_list_char.append(img_arr)\n",
        "            image_list_folder.append(image_list_char)\n",
        "        image_list_main.append(np.asarray(image_list_folder))\n",
        "    return image_list_main\n",
        "home = '/content/sample_data'\n",
        "path1 = 'Omniglot/omniglot-py/images_background'\n",
        "path2 = 'Omniglot/omniglot-py/images_evaluation'\n",
        "imgs_train = image_array(home, path1, new_shape)\n",
        "imgs_test = image_array(home, path2, new_shape)"
      ],
      "execution_count": 4,
      "outputs": []
    },
    {
      "cell_type": "code",
      "metadata": {
        "colab": {
          "base_uri": "https://localhost:8080/",
          "height": 282
        },
        "id": "JZPR6JkDsy6e",
        "outputId": "62c3d1cd-1466-4f37-e394-3517dbfee5a7"
      },
      "source": [
        "plt.imshow(imgs_train[0][1][2], cmap='Greys')\n",
        "#plt.imshow(imgs_test[0][1][2], cmap='Greys')"
      ],
      "execution_count": 5,
      "outputs": [
        {
          "output_type": "execute_result",
          "data": {
            "text/plain": [
              "<matplotlib.image.AxesImage at 0x7f95b5be46d0>"
            ]
          },
          "metadata": {
            "tags": []
          },
          "execution_count": 5
        },
        {
          "output_type": "display_data",
          "data": {
            "image/png": "[encoded data removed]",
            "text/plain": [
              "<Figure size 432x288 with 1 Axes>"
            ]
          },
          "metadata": {
            "tags": [],
            "needs_background": "light"
          }
        }
      ]
    },
    {
      "cell_type": "code",
      "metadata": {
        "id": "EKKX5tLa0HXf"
      },
      "source": [
        "def create_dataset(imgs, ways, shots, tasks):\n",
        "    main_list_x = []\n",
        "    main_list_y = []\n",
        "    for task in range(tasks):\n",
        "        task_list_x = []\n",
        "        task_list_y = []\n",
        "        for way in range(ways):\n",
        "            no_langs = len(imgs)\n",
        "            lang = randint(0, no_langs-1)\n",
        "            no_chars = imgs[lang].shape[0]\n",
        "            char = randint(0, no_chars-1)\n",
        "            no_imgs = imgs[lang][char].shape[0]\n",
        "            for img in range(shots):\n",
        "                img_no = randint(0, no_imgs-1)\n",
        "                cur_img = imgs[lang][char][img_no]\n",
        "                task_list_x.append(cur_img,)\n",
        "                task_list_y.append(way)\n",
        "        size = shots*ways\n",
        "        indices = np.random.choice(size, size, replace=False)\n",
        "        task_list_x = np.array(task_list_x)\n",
        "        task_list_y = np.array(task_list_y)\n",
        "        task_list_x = task_list_x[indices]\n",
        "        task_list_y = task_list_y[indices]\n",
        "        main_list_x.append(task_list_x)\n",
        "        main_list_y.append(task_list_y)\n",
        "    return np.array(main_list_x), np.array(main_list_y)"
      ],
      "execution_count": 1,
      "outputs": []
    },
    {
      "cell_type": "code",
      "metadata": {
        "colab": {
          "base_uri": "https://localhost:8080/",
          "height": 298
        },
        "id": "0T_Llgfk9FaO",
        "outputId": "a69e3bc6-fab5-4fdf-86ae-82ec16846cca"
      },
      "source": [
        "data_train_x, data_train_y = create_dataset(imgs_train, 5, 10, 10)\n",
        "data_test_x, data_test_y = create_dataset(imgs_test, 5, 10, 10)\n",
        "print(collections.Counter(data_train_y[1]))\n",
        "plt.imshow(data_train_x[0][3])\n",
        "print(data_train_y[0][3])"
      ],
      "execution_count": 6,
      "outputs": [
        {
          "output_type": "stream",
          "text": [
            "Counter({4: 10, 2: 10, 0: 10, 3: 10, 1: 10})\n",
            "4\n"
          ],
          "name": "stdout"
        },
        {
          "output_type": "display_data",
          "data": {
            "image/png": "[encoded data removed]",
            "text/plain": [
              "<Figure size 432x288 with 1 Axes>"
            ]
          },
          "metadata": {
            "tags": [],
            "needs_background": "light"
          }
        }
      ]
    },
    {
      "cell_type": "code",
      "metadata": {
        "id": "5d_EN0VxGHGC"
      },
      "source": [
        "class neural_network(torch.nn.Module):\n",
        "    def __init__(self, feature_size=28*28, hidden_size= 200, ways = 0, shots = 0, mem=(128, 40)):\n",
        "        super(neural_network, self).__init__()\n",
        "        self.l1 = torch.nn.LSTM(input_size = feature_size + ways, hidden_size = hidden_size)\n",
        "        self.d0 = torch.nn.Linear(feature_size + ways, hidden_size)\n",
        "        self.d1 = torch.nn.Linear(hidden_size+mem[-1], 512)\n",
        "        self.d2 = torch.nn.Linear(512, 256)\n",
        "        self.d3 = torch.nn.Linear(256, 64)\n",
        "        self.d4 = torch.nn.Linear(64, ways)\n",
        "        self.k1 = torch.nn.Linear(hidden_size, mem[-1])\n",
        "        self.feature_size = feature_size\n",
        "        self.ways = ways\n",
        "        self.shots = shots\n",
        "        self.hidden_size = hidden_size\n",
        "        self.stored_dataset = None\n",
        "        self.alpha = torch.rand((1), requires_grad=True)\n",
        "        self.mem = mem\n",
        "\n",
        "    def backprop(self, Y, labels):\n",
        "        criterion = torch.nn.NLLLoss()\n",
        "        loss = criterion(Y, labels)\n",
        "        optimizer = torch.optim.SGD(self.parameters(), lr=0.001, momentum=0.99)\n",
        "        loss.backward()\n",
        "        optimizer.step()\n",
        "        optimizer.zero_grad()\n",
        "        return loss\n",
        "\n",
        "    def forward(self, xy, g, MANN, LSTM):\n",
        "        train_loss = 0\n",
        "        memory = torch.rand(self.mem)\n",
        "        wlu = torch.ones((memory.size()[0], 1))\n",
        "        wr = torch.rand((memory.size()[0], 1))\n",
        "        ww = torch.rand((memory.size()[0], 1))\n",
        "        wu = torch.rand((memory.size()[0], 1))\n",
        "        y_lstm_h_1,  y_lstm_c_1 = torch.zeros((1,1,self.hidden_size)), torch.zeros((1,1,self.hidden_size))\n",
        "        k_sm_wu = 1e-9\n",
        "        Y = torch.empty((0, self.ways), dtype=float)\n",
        "        for no, timesteps in enumerate(xy):\n",
        "            if LSTM:\n",
        "                op, (y_lstm_h_1,  y_lstm_c_1) = self.l1(timesteps.unsqueeze(0), (y_lstm_h_1,  y_lstm_c_1))\n",
        "            else:\n",
        "                y_lstm_h_1 = self.d0(timesteps.unsqueeze(0))\n",
        "            if MANN:\n",
        "                key = y_lstm_c_1.squeeze()\n",
        "                key_final = self.k1(key).unsqueeze(0)\n",
        "                key_final_norm = torch.sqrt(torch.sum(torch.square(key_final)))\n",
        "                memory_norm = torch.sqrt(torch.sum(torch.square(memory), dim = 1))\n",
        "                dist_prod = (key_final_norm* memory_norm)\n",
        "                #write\n",
        "                ww = self.alpha*wr + (1-self.alpha)*wlu\n",
        "                memory = memory +ww@key_final\n",
        "                #read\n",
        "                z = memory@(key_final.permute((1,0)))\n",
        "                z = (z.squeeze()/dist_prod).unsqueeze(1)\n",
        "                wr = torch.nn.functional.softmax(z, dim=0)\n",
        "                rt = wr.permute((1,0))@memory\n",
        "                #least recently used\n",
        "                wu = g*wu + wr + ww\n",
        "                k_sm_wu = wu.squeeze().sort().values[3] #CHECK\n",
        "                wlu = torch.tensor([1 if x< k_sm_wu else 0 for x in wu.squeeze()]).unsqueeze(1)\n",
        "            else:\n",
        "                rt = torch.zeros((1, memory.size()[-1]))\n",
        "            y_lstm_1_last = torch.cat((y_lstm_h_1.squeeze(), rt.squeeze()))\n",
        "            y_d1 = torch.nn.functional.relu(self.d1(y_lstm_1_last))\n",
        "            y_d2 = torch.nn.functional.relu(self.d2(y_d1))\n",
        "            y_d3 = torch.nn.functional.relu(self.d3(y_d2))\n",
        "            y_d4 = torch.nn.functional.relu(self.d4(y_d3))\n",
        "            pred = torch.nn.functional.log_softmax(y_d4, dim=-1).unsqueeze(0)\n",
        "            Y = torch.cat((Y, pred))\n",
        "        return Y\n",
        "\n",
        "    def one_episode (self, data, task_creator, MANN, LSTM, update_dataset = True, train=True):\n",
        "        if self.stored_dataset == None and not update_dataset:\n",
        "            self.stored_dataset = task_creator(imgs_train, self.ways, self.shots, 1)\n",
        "        if update_dataset:\n",
        "            self.stored_dataset = task_creator(imgs_train, self.ways, self.shots, 1)\n",
        "        data_train_x, data_train_y = self.stored_dataset\n",
        "        data_train_x = torch.from_numpy(data_train_x)\n",
        "        data_train_y = torch.from_numpy(data_train_y)\n",
        "        y_prev = torch.tensor([0])\n",
        "        y_test = data_train_y[0]\n",
        "        X = torch.empty((0, self.feature_size + self.ways))\n",
        "        for index, curr_x in enumerate(data_train_x[0]):\n",
        "            y_prev_henc = torch.eye(self.ways)\n",
        "            y_prev_henc = y_prev_henc[y_prev].squeeze()\n",
        "            flattened_x = curr_x.reshape(-1)\n",
        "            curr_X = torch.cat((flattened_x, y_prev_henc)).reshape(1, -1)\n",
        "            X = torch.cat((X, curr_X))\n",
        "            y_prev = data_train_y[0][index: index+1]\n",
        "        X = torch.unsqueeze(X, 1)\n",
        "        X = X.float()\n",
        "        pred = self.forward(X, 0.99, MANN, LSTM)\n",
        "        if train:\n",
        "            train_loss = self.backprop(pred, y_test) \n",
        "            episode_loss = train_loss/pred.size()[0]\n",
        "        return X, y_test, pred, episode_loss if train else None\n",
        "\n",
        "    def accuracy(self, y_pred, labels):\n",
        "        prev_labels = {}\n",
        "        acc_dict = {}\n",
        "        y_pred = y_pred.detach().numpy()\n",
        "        labels = labels.detach().numpy()\n",
        "        for index, label in enumerate(labels):\n",
        "            pred_dec = np.argmax(y_pred[index]).item()\n",
        "            label_dec = labels[index]\n",
        "            if prev_labels.get(label_dec, None)  != None:\n",
        "                prev_labels[label_dec] += 1\n",
        "                if pred_dec == label_dec:\n",
        "                    acc_dict[label_dec].append(1)\n",
        "                else:\n",
        "                    acc_dict[label_dec].append(0)\n",
        "            else:\n",
        "                prev_labels[label_dec] = 1\n",
        "                if pred_dec == label_dec:\n",
        "                    acc_dict[label_dec] = [1]\n",
        "                else:\n",
        "                    acc_dict[label_dec] = [0]\n",
        "        return acc_dict\n",
        "\n",
        "nn = neural_network(ways = 5, shots = 10)"
      ],
      "execution_count": 8,
      "outputs": []
    },
    {
      "cell_type": "code",
      "metadata": {
        "id": "6UBdx8LOu92K"
      },
      "source": [
        "no_epochs = 100000\n",
        "show_after = 100\n",
        "for epoch in range(no_epochs):\n",
        "    x, y, pred, loss = nn.one_episode(imgs_train, create_dataset,update_dataset=True, MANN=True, LSTM=True)\n",
        "    if epoch%show_after == 0:\n",
        "        print(loss.item())"
      ],
      "execution_count": null,
      "outputs": []
    },
    {
      "cell_type": "code",
      "metadata": {
        "colab": {
          "base_uri": "https://localhost:8080/",
          "height": 1000
        },
        "id": "4gm1l0S45gGZ",
        "outputId": "a431722a-4ab7-45ff-98dd-1e4ca9562199"
      },
      "source": [
        "for index, element in enumerate(x.squeeze()):\n",
        "    X = element.squeeze()[0:784].reshape(28,28)\n",
        "    y_prev = element.squeeze()[784:].reshape(-1)\n",
        "    print(y_prev, np.exp(pred[index].detach().numpy()))\n",
        "    fig, ax = plt.subplots()\n",
        "    ax.imshow(X)\n",
        "    ax.set_title(y[index])"
      ],
      "execution_count": 404,
      "outputs": [
        {
          "output_type": "stream",
          "text": [
            "tensor([1., 0.]) [0.49184742 0.50815261]\n",
            "tensor([0., 1.]) [0.49159442 0.50840558]\n",
            "tensor([1., 0.]) [0.49529438 0.50470562]\n",
            "tensor([1., 0.]) [0.49099941 0.50900057]\n",
            "tensor([0., 1.]) [0.48839437 0.51160564]\n",
            "tensor([0., 1.]) [0.49076034 0.50923964]\n",
            "tensor([1., 0.]) [0.48886575 0.51113421]\n",
            "tensor([0., 1.]) [0.48850919 0.51149081]\n",
            "tensor([0., 1.]) [0.4884215  0.51157853]\n",
            "tensor([0., 1.]) [0.49570121 0.50429879]\n",
            "tensor([1., 0.]) [0.49418631 0.5058137 ]\n",
            "tensor([1., 0.]) [0.49198994 0.50801006]\n",
            "tensor([1., 0.]) [0.4884627  0.51153734]\n",
            "tensor([0., 1.]) [0.48822041 0.51177964]\n",
            "tensor([0., 1.]) [0.49452142 0.50547858]\n",
            "tensor([1., 0.]) [0.49361585 0.50638417]\n",
            "tensor([1., 0.]) [0.49090524 0.50909478]\n",
            "tensor([0., 1.]) [0.49234699 0.50765301]\n",
            "tensor([1., 0.]) [0.49158845 0.50841158]\n",
            "tensor([0., 1.]) [0.49420136 0.50579862]\n"
          ],
          "name": "stdout"
        },
        {
          "output_type": "display_data",
          "data": {
            "image/png": "[encoded data removed]",
            "text/plain": [
              "<Figure size 432x288 with 1 Axes>"
            ]
          },
          "metadata": {
            "tags": [],
            "needs_background": "light"
          }
        },
        {
          "output_type": "display_data",
          "data": {
            "image/png": "[encoded data removed]",
            "text/plain": [
              "<Figure size 432x288 with 1 Axes>"
            ]
          },
          "metadata": {
            "tags": [],
            "needs_background": "light"
          }
        },
        {
          "output_type": "display_data",
          "data": {
            "image/png": "[encoded data removed]",
            "text/plain": [
              "<Figure size 432x288 with 1 Axes>"
            ]
          },
          "metadata": {
            "tags": [],
            "needs_background": "light"
          }
        },
        {
          "output_type": "display_data",
          "data": {
            "image/png": "[encoded data removed]",
            "text/plain": [
              "<Figure size 432x288 with 1 Axes>"
            ]
          },
          "metadata": {
            "tags": [],
            "needs_background": "light"
          }
        },
        {
          "output_type": "display_data",
          "data": {
            "image/png": "[encoded data removed]",
            "text/plain": [
              "<Figure size 432x288 with 1 Axes>"
            ]
          },
          "metadata": {
            "tags": [],
            "needs_background": "light"
          }
        },
        {
          "output_type": "display_data",
          "data": {
            "image/png": "[encoded data removed]",
            "text/plain": [
              "<Figure size 432x288 with 1 Axes>"
            ]
          },
          "metadata": {
            "tags": [],
            "needs_background": "light"
          }
        },
        {
          "output_type": "display_data",
          "data": {
            "image/png": "[encoded data removed]",
            "text/plain": [
              "<Figure size 432x288 with 1 Axes>"
            ]
          },
          "metadata": {
            "tags": [],
            "needs_background": "light"
          }
        },
        {
          "output_type": "display_data",
          "data": {
            "image/png": "[encoded data removed]",
            "text/plain": [
              "<Figure size 432x288 with 1 Axes>"
            ]
          },
          "metadata": {
            "tags": [],
            "needs_background": "light"
          }
        },
        {
          "output_type": "display_data",
          "data": {
            "image/png": "[encoded data removed]",
            "text/plain": [
              "<Figure size 432x288 with 1 Axes>"
            ]
          },
          "metadata": {
            "tags": [],
            "needs_background": "light"
          }
        },
        {
          "output_type": "display_data",
          "data": {
            "image/png": "[encoded data removed]",
            "text/plain": [
              "<Figure size 432x288 with 1 Axes>"
            ]
          },
          "metadata": {
            "tags": [],
            "needs_background": "light"
          }
        },
        {
          "output_type": "display_data",
          "data": {
            "image/png": "[encoded data removed]",
            "text/plain": [
              "<Figure size 432x288 with 1 Axes>"
            ]
          },
          "metadata": {
            "tags": [],
            "needs_background": "light"
          }
        },
        {
          "output_type": "display_data",
          "data": {
            "image/png": "[encoded data removed]",
            "text/plain": [
              "<Figure size 432x288 with 1 Axes>"
            ]
          },
          "metadata": {
            "tags": [],
            "needs_background": "light"
          }
        },
        {
          "output_type": "display_data",
          "data": {
            "image/png": "[encoded data removed]",
            "text/plain": [
              "<Figure size 432x288 with 1 Axes>"
            ]
          },
          "metadata": {
            "tags": [],
            "needs_background": "light"
          }
        },
        {
          "output_type": "display_data",
          "data": {
            "image/png": "[encoded data removed]",
            "text/plain": [
              "<Figure size 432x288 with 1 Axes>"
            ]
          },
          "metadata": {
            "tags": [],
            "needs_background": "light"
          }
        },
        {
          "output_type": "display_data",
          "data": {
            "image/png": "[encoded data removed]",
            "text/plain": [
              "<Figure size 432x288 with 1 Axes>"
            ]
          },
          "metadata": {
            "tags": [],
            "needs_background": "light"
          }
        },
        {
          "output_type": "display_data",
          "data": {
            "image/png": "[encoded data removed]",
            "text/plain": [
              "<Figure size 432x288 with 1 Axes>"
            ]
          },
          "metadata": {
            "tags": [],
            "needs_background": "light"
          }
        },
        {
          "output_type": "display_data",
          "data": {
            "image/png": "[encoded data removed]",
            "text/plain": [
              "<Figure size 432x288 with 1 Axes>"
            ]
          },
          "metadata": {
            "tags": [],
            "needs_background": "light"
          }
        },
        {
          "output_type": "display_data",
          "data": {
            "image/png": "[encoded data removed]",
            "text/plain": [
              "<Figure size 432x288 with 1 Axes>"
            ]
          },
          "metadata": {
            "tags": [],
            "needs_background": "light"
          }
        },
        {
          "output_type": "display_data",
          "data": {
            "image/png": "[encoded data removed]",
            "text/plain": [
              "<Figure size 432x288 with 1 Axes>"
            ]
          },
          "metadata": {
            "tags": [],
            "needs_background": "light"
          }
        },
        {
          "output_type": "display_data",
          "data": {
            "image/png": "[encoded data removed]",
            "text/plain": [
              "<Figure size 432x288 with 1 Axes>"
            ]
          },
          "metadata": {
            "tags": [],
            "needs_background": "light"
          }
        }
      ]
    },
    {
      "cell_type": "code",
      "metadata": {
        "colab": {
          "base_uri": "https://localhost:8080/"
        },
        "id": "Myc9p90ydhkQ",
        "outputId": "e816c926-4615-4e8a-f8c4-f8d2e65a61c1"
      },
      "source": [
        "x, y, pred, loss = nn.one_episode(imgs_train, create_dataset,update_dataset=False, train = False, MANN=False, LSTM=True)\n",
        "nn.accuracy(pred, y)"
      ],
      "execution_count": 360,
      "outputs": [
        {
          "output_type": "execute_result",
          "data": {
            "text/plain": [
              "{0: [1, 1, 1, 1, 1, 1, 1, 1, 1, 1], 1: [1, 1, 1, 1, 1, 1, 1, 1, 1, 1]}"
            ]
          },
          "metadata": {
            "tags": []
          },
          "execution_count": 360
        }
      ]
    },
    {
      "cell_type": "code",
      "metadata": {
        "id": "fZF-SlneeIjX"
      },
      "source": [
        "class neural_network(torch.nn.Module):\n",
        "    def __init__(self, feature_size=28*28, hidden_size= 200, ways = 0, shots = 0, mem=(128, 40)):\n",
        "        super(neural_network, self).__init__()\n",
        "        self.d1 = torch.nn.Linear(feature_size+ways, hidden_size)\n",
        "        self.d2 = torch.nn.Linear(hidden_size, 512)\n",
        "        self.d3 = torch.nn.Linear(512, 64)\n",
        "        self.d4 = torch.nn.Linear(64, ways)\n",
        "        self.k1 = torch.nn.Linear(hidden_size, mem[-1])\n",
        "        self.feature_size = feature_size\n",
        "        self.ways = ways\n",
        "        self.shots = shots\n",
        "        self.hidden_size = hidden_size\n",
        "        self.stored_dataset = None\n",
        "        self.alpha = torch.rand((1), requires_grad=True)\n",
        "        self.mem = mem\n",
        "\n",
        "    def backprop(self, Y, labels):\n",
        "        criterion = torch.nn.NLLLoss()\n",
        "        loss = criterion(Y, labels)\n",
        "        optimizer = torch.optim.SGD(self.parameters(), lr=0.01, momentum=0.999)\n",
        "        loss.backward()\n",
        "        optimizer.step()\n",
        "        optimizer.zero_grad()\n",
        "        return loss\n",
        "\n",
        "    def forward(self, xy):\n",
        "        Y = torch.empty((0, self.ways), dtype=float)\n",
        "        for no, timesteps in enumerate(xy):\n",
        "            y_d1 = torch.nn.functional.relu(self.d1(timesteps))\n",
        "            y_d2 = torch.nn.functional.relu(self.d2(y_d1))\n",
        "            y_d3 = torch.nn.functional.relu(self.d3(y_d2))\n",
        "            y_d4 = torch.nn.functional.relu(self.d4(y_d3))\n",
        "            pred = torch.nn.functional.log_softmax(y_d4, dim=-1)\n",
        "            Y = torch.cat((Y, pred))\n",
        "        return Y\n",
        "\n",
        "    def one_episode (self, data, task_creator, update_dataset = True, train=True):\n",
        "        if self.stored_dataset == None and not update_dataset:\n",
        "            self.stored_dataset = task_creator(imgs_train, self.ways, self.shots, 1)\n",
        "        if update_dataset:\n",
        "            self.stored_dataset = task_creator(imgs_train, self.ways, self.shots, 1)\n",
        "        data_train_x, data_train_y = self.stored_dataset\n",
        "        data_train_x = torch.from_numpy(data_train_x)\n",
        "        data_train_y = torch.from_numpy(data_train_y)\n",
        "        y_prev = torch.tensor([0])\n",
        "        y_test = data_train_y[0]\n",
        "        X = torch.empty((0, self.feature_size + self.ways))\n",
        "        for index, curr_x in enumerate(data_train_x[0]):\n",
        "            y_prev_henc = torch.eye(self.ways)\n",
        "            y_prev_henc = y_prev_henc[y_prev].squeeze()\n",
        "            flattened_x = curr_x.reshape(-1)\n",
        "            curr_X = torch.cat((flattened_x, y_prev_henc)).reshape(1, -1)\n",
        "            X = torch.cat((X, curr_X))\n",
        "            y_prev = data_train_y[0][index: index+1]\n",
        "        X = torch.unsqueeze(X, 1)\n",
        "        X = X.float()\n",
        "        pred = self.forward(X)\n",
        "        if train:\n",
        "            train_loss = self.backprop(pred, y_test) \n",
        "            episode_loss = train_loss/pred.size()[0]\n",
        "        return X, y_test, pred, episode_loss if train else None\n",
        "\n",
        "    def accuracy(self, y_pred, labels):\n",
        "        prev_labels = {}\n",
        "        acc_dict = {}\n",
        "        y_pred = y_pred.detach().numpy()\n",
        "        labels = labels.detach().numpy()\n",
        "        for index, label in enumerate(labels):\n",
        "            pred_dec = np.argmax(y_pred[index]).item()\n",
        "            label_dec = labels[index]\n",
        "            if prev_labels.get(label_dec, None)  != None:\n",
        "                prev_labels[label_dec] += 1\n",
        "                if pred_dec == label_dec:\n",
        "                    acc_dict[label_dec].append(1)\n",
        "                else:\n",
        "                    acc_dict[label_dec].append(0)\n",
        "            else:\n",
        "                prev_labels[label_dec] = 1\n",
        "                if pred_dec == label_dec:\n",
        "                    acc_dict[label_dec] = [1]\n",
        "                else:\n",
        "                    acc_dict[label_dec] = [0]\n",
        "        return acc_dict\n",
        "\n",
        "nn = neural_network(ways = 2, shots = 10)\n"
      ],
      "execution_count": 381,
      "outputs": []
    },
    {
      "cell_type": "code",
      "metadata": {
        "colab": {
          "base_uri": "https://localhost:8080/",
          "height": 403
        },
        "id": "TJ53Il7JoPVN",
        "outputId": "e787ad40-3b80-414b-a59e-c7591f5be024"
      },
      "source": [
        "for epochs in range(1000):\n",
        "    x, y, pred, loss = nn.one_episode(imgs_train, create_dataset,update_dataset=False)\n",
        "    if epochs%100 == 0:\n",
        "        print(loss)"
      ],
      "execution_count": 382,
      "outputs": [
        {
          "output_type": "stream",
          "text": [
            "tensor(0.0347, dtype=torch.float64, grad_fn=<DivBackward0>)\n",
            "tensor(0.0347, dtype=torch.float64, grad_fn=<DivBackward0>)\n",
            "tensor(0.0347, dtype=torch.float64, grad_fn=<DivBackward0>)\n"
          ],
          "name": "stdout"
        },
        {
          "output_type": "error",
          "ename": "KeyboardInterrupt",
          "evalue": "ignored",
          "traceback": [
            "\u001b[0;31m---------------------------------------------------------------------------\u001b[0m",
            "\u001b[0;31mKeyboardInterrupt\u001b[0m                         Traceback (most recent call last)",
            "\u001b[0;32m<ipython-input-382-add19dc709a2>\u001b[0m in \u001b[0;36m<module>\u001b[0;34m()\u001b[0m\n\u001b[1;32m      1\u001b[0m \u001b[0;32mfor\u001b[0m \u001b[0mepochs\u001b[0m \u001b[0;32min\u001b[0m \u001b[0mrange\u001b[0m\u001b[0;34m(\u001b[0m\u001b[0;36m1000\u001b[0m\u001b[0;34m)\u001b[0m\u001b[0;34m:\u001b[0m\u001b[0;34m\u001b[0m\u001b[0;34m\u001b[0m\u001b[0m\n\u001b[0;32m----> 2\u001b[0;31m     \u001b[0mx\u001b[0m\u001b[0;34m,\u001b[0m \u001b[0my\u001b[0m\u001b[0;34m,\u001b[0m \u001b[0mpred\u001b[0m\u001b[0;34m,\u001b[0m \u001b[0mloss\u001b[0m \u001b[0;34m=\u001b[0m \u001b[0mnn\u001b[0m\u001b[0;34m.\u001b[0m\u001b[0mone_episode\u001b[0m\u001b[0;34m(\u001b[0m\u001b[0mimgs_train\u001b[0m\u001b[0;34m,\u001b[0m \u001b[0mcreate_dataset\u001b[0m\u001b[0;34m,\u001b[0m\u001b[0mupdate_dataset\u001b[0m\u001b[0;34m=\u001b[0m\u001b[0;32mFalse\u001b[0m\u001b[0;34m)\u001b[0m\u001b[0;34m\u001b[0m\u001b[0;34m\u001b[0m\u001b[0m\n\u001b[0m\u001b[1;32m      3\u001b[0m     \u001b[0;32mif\u001b[0m \u001b[0mepochs\u001b[0m\u001b[0;34m%\u001b[0m\u001b[0;36m100\u001b[0m \u001b[0;34m==\u001b[0m \u001b[0;36m0\u001b[0m\u001b[0;34m:\u001b[0m\u001b[0;34m\u001b[0m\u001b[0;34m\u001b[0m\u001b[0m\n\u001b[1;32m      4\u001b[0m         \u001b[0mprint\u001b[0m\u001b[0;34m(\u001b[0m\u001b[0mloss\u001b[0m\u001b[0;34m)\u001b[0m\u001b[0;34m\u001b[0m\u001b[0;34m\u001b[0m\u001b[0m\n",
            "\u001b[0;32m<ipython-input-381-21c49e87d790>\u001b[0m in \u001b[0;36mone_episode\u001b[0;34m(self, data, task_creator, update_dataset, train)\u001b[0m\n\u001b[1;32m     57\u001b[0m         \u001b[0mpred\u001b[0m \u001b[0;34m=\u001b[0m \u001b[0mself\u001b[0m\u001b[0;34m.\u001b[0m\u001b[0mforward\u001b[0m\u001b[0;34m(\u001b[0m\u001b[0mX\u001b[0m\u001b[0;34m)\u001b[0m\u001b[0;34m\u001b[0m\u001b[0;34m\u001b[0m\u001b[0m\n\u001b[1;32m     58\u001b[0m         \u001b[0;32mif\u001b[0m \u001b[0mtrain\u001b[0m\u001b[0;34m:\u001b[0m\u001b[0;34m\u001b[0m\u001b[0;34m\u001b[0m\u001b[0m\n\u001b[0;32m---> 59\u001b[0;31m             \u001b[0mtrain_loss\u001b[0m \u001b[0;34m=\u001b[0m \u001b[0mself\u001b[0m\u001b[0;34m.\u001b[0m\u001b[0mbackprop\u001b[0m\u001b[0;34m(\u001b[0m\u001b[0mpred\u001b[0m\u001b[0;34m,\u001b[0m \u001b[0my_test\u001b[0m\u001b[0;34m)\u001b[0m\u001b[0;34m\u001b[0m\u001b[0;34m\u001b[0m\u001b[0m\n\u001b[0m\u001b[1;32m     60\u001b[0m             \u001b[0mepisode_loss\u001b[0m \u001b[0;34m=\u001b[0m \u001b[0mtrain_loss\u001b[0m\u001b[0;34m/\u001b[0m\u001b[0mpred\u001b[0m\u001b[0;34m.\u001b[0m\u001b[0msize\u001b[0m\u001b[0;34m(\u001b[0m\u001b[0;34m)\u001b[0m\u001b[0;34m[\u001b[0m\u001b[0;36m0\u001b[0m\u001b[0;34m]\u001b[0m\u001b[0;34m\u001b[0m\u001b[0;34m\u001b[0m\u001b[0m\n\u001b[1;32m     61\u001b[0m         \u001b[0;32mreturn\u001b[0m \u001b[0mX\u001b[0m\u001b[0;34m,\u001b[0m \u001b[0my_test\u001b[0m\u001b[0;34m,\u001b[0m \u001b[0mpred\u001b[0m\u001b[0;34m,\u001b[0m \u001b[0mepisode_loss\u001b[0m \u001b[0;32mif\u001b[0m \u001b[0mtrain\u001b[0m \u001b[0;32melse\u001b[0m \u001b[0;32mNone\u001b[0m\u001b[0;34m\u001b[0m\u001b[0;34m\u001b[0m\u001b[0m\n",
            "\u001b[0;32m<ipython-input-381-21c49e87d790>\u001b[0m in \u001b[0;36mbackprop\u001b[0;34m(self, Y, labels)\u001b[0m\n\u001b[1;32m     20\u001b[0m         \u001b[0moptimizer\u001b[0m \u001b[0;34m=\u001b[0m \u001b[0mtorch\u001b[0m\u001b[0;34m.\u001b[0m\u001b[0moptim\u001b[0m\u001b[0;34m.\u001b[0m\u001b[0mRMSprop\u001b[0m\u001b[0;34m(\u001b[0m\u001b[0mself\u001b[0m\u001b[0;34m.\u001b[0m\u001b[0mparameters\u001b[0m\u001b[0;34m(\u001b[0m\u001b[0;34m)\u001b[0m\u001b[0;34m,\u001b[0m \u001b[0mlr\u001b[0m\u001b[0;34m=\u001b[0m\u001b[0;36m1e-4\u001b[0m\u001b[0;34m,\u001b[0m \u001b[0mmomentum\u001b[0m\u001b[0;34m=\u001b[0m\u001b[0;36m0.9\u001b[0m\u001b[0;34m)\u001b[0m\u001b[0;34m\u001b[0m\u001b[0;34m\u001b[0m\u001b[0m\n\u001b[1;32m     21\u001b[0m         \u001b[0mloss\u001b[0m\u001b[0;34m.\u001b[0m\u001b[0mbackward\u001b[0m\u001b[0;34m(\u001b[0m\u001b[0;34m)\u001b[0m\u001b[0;34m\u001b[0m\u001b[0;34m\u001b[0m\u001b[0m\n\u001b[0;32m---> 22\u001b[0;31m         \u001b[0moptimizer\u001b[0m\u001b[0;34m.\u001b[0m\u001b[0mstep\u001b[0m\u001b[0;34m(\u001b[0m\u001b[0;34m)\u001b[0m\u001b[0;34m\u001b[0m\u001b[0;34m\u001b[0m\u001b[0m\n\u001b[0m\u001b[1;32m     23\u001b[0m         \u001b[0moptimizer\u001b[0m\u001b[0;34m.\u001b[0m\u001b[0mzero_grad\u001b[0m\u001b[0;34m(\u001b[0m\u001b[0;34m)\u001b[0m\u001b[0;34m\u001b[0m\u001b[0;34m\u001b[0m\u001b[0m\n\u001b[1;32m     24\u001b[0m         \u001b[0;32mreturn\u001b[0m \u001b[0mloss\u001b[0m\u001b[0;34m\u001b[0m\u001b[0;34m\u001b[0m\u001b[0m\n",
            "\u001b[0;32m/usr/local/lib/python3.7/dist-packages/torch/optim/optimizer.py\u001b[0m in \u001b[0;36mwrapper\u001b[0;34m(*args, **kwargs)\u001b[0m\n\u001b[1;32m     87\u001b[0m                 \u001b[0mprofile_name\u001b[0m \u001b[0;34m=\u001b[0m \u001b[0;34m\"Optimizer.step#{}.step\"\u001b[0m\u001b[0;34m.\u001b[0m\u001b[0mformat\u001b[0m\u001b[0;34m(\u001b[0m\u001b[0mobj\u001b[0m\u001b[0;34m.\u001b[0m\u001b[0m__class__\u001b[0m\u001b[0;34m.\u001b[0m\u001b[0m__name__\u001b[0m\u001b[0;34m)\u001b[0m\u001b[0;34m\u001b[0m\u001b[0;34m\u001b[0m\u001b[0m\n\u001b[1;32m     88\u001b[0m                 \u001b[0;32mwith\u001b[0m \u001b[0mtorch\u001b[0m\u001b[0;34m.\u001b[0m\u001b[0mautograd\u001b[0m\u001b[0;34m.\u001b[0m\u001b[0mprofiler\u001b[0m\u001b[0;34m.\u001b[0m\u001b[0mrecord_function\u001b[0m\u001b[0;34m(\u001b[0m\u001b[0mprofile_name\u001b[0m\u001b[0;34m)\u001b[0m\u001b[0;34m:\u001b[0m\u001b[0;34m\u001b[0m\u001b[0;34m\u001b[0m\u001b[0m\n\u001b[0;32m---> 89\u001b[0;31m                     \u001b[0;32mreturn\u001b[0m \u001b[0mfunc\u001b[0m\u001b[0;34m(\u001b[0m\u001b[0;34m*\u001b[0m\u001b[0margs\u001b[0m\u001b[0;34m,\u001b[0m \u001b[0;34m**\u001b[0m\u001b[0mkwargs\u001b[0m\u001b[0;34m)\u001b[0m\u001b[0;34m\u001b[0m\u001b[0;34m\u001b[0m\u001b[0m\n\u001b[0m\u001b[1;32m     90\u001b[0m             \u001b[0;32mreturn\u001b[0m \u001b[0mwrapper\u001b[0m\u001b[0;34m\u001b[0m\u001b[0;34m\u001b[0m\u001b[0m\n\u001b[1;32m     91\u001b[0m \u001b[0;34m\u001b[0m\u001b[0m\n",
            "\u001b[0;32m/usr/local/lib/python3.7/dist-packages/torch/autograd/grad_mode.py\u001b[0m in \u001b[0;36mdecorate_context\u001b[0;34m(*args, **kwargs)\u001b[0m\n\u001b[1;32m     25\u001b[0m         \u001b[0;32mdef\u001b[0m \u001b[0mdecorate_context\u001b[0m\u001b[0;34m(\u001b[0m\u001b[0;34m*\u001b[0m\u001b[0margs\u001b[0m\u001b[0;34m,\u001b[0m \u001b[0;34m**\u001b[0m\u001b[0mkwargs\u001b[0m\u001b[0;34m)\u001b[0m\u001b[0;34m:\u001b[0m\u001b[0;34m\u001b[0m\u001b[0;34m\u001b[0m\u001b[0m\n\u001b[1;32m     26\u001b[0m             \u001b[0;32mwith\u001b[0m \u001b[0mself\u001b[0m\u001b[0;34m.\u001b[0m\u001b[0m__class__\u001b[0m\u001b[0;34m(\u001b[0m\u001b[0;34m)\u001b[0m\u001b[0;34m:\u001b[0m\u001b[0;34m\u001b[0m\u001b[0;34m\u001b[0m\u001b[0m\n\u001b[0;32m---> 27\u001b[0;31m                 \u001b[0;32mreturn\u001b[0m \u001b[0mfunc\u001b[0m\u001b[0;34m(\u001b[0m\u001b[0;34m*\u001b[0m\u001b[0margs\u001b[0m\u001b[0;34m,\u001b[0m \u001b[0;34m**\u001b[0m\u001b[0mkwargs\u001b[0m\u001b[0;34m)\u001b[0m\u001b[0;34m\u001b[0m\u001b[0;34m\u001b[0m\u001b[0m\n\u001b[0m\u001b[1;32m     28\u001b[0m         \u001b[0;32mreturn\u001b[0m \u001b[0mcast\u001b[0m\u001b[0;34m(\u001b[0m\u001b[0mF\u001b[0m\u001b[0;34m,\u001b[0m \u001b[0mdecorate_context\u001b[0m\u001b[0;34m)\u001b[0m\u001b[0;34m\u001b[0m\u001b[0;34m\u001b[0m\u001b[0m\n\u001b[1;32m     29\u001b[0m \u001b[0;34m\u001b[0m\u001b[0m\n",
            "\u001b[0;32m/usr/local/lib/python3.7/dist-packages/torch/optim/rmsprop.py\u001b[0m in \u001b[0;36mstep\u001b[0;34m(self, closure)\u001b[0m\n\u001b[1;32m    114\u001b[0m                       \u001b[0mgroup\u001b[0m\u001b[0;34m[\u001b[0m\u001b[0;34m'weight_decay'\u001b[0m\u001b[0;34m]\u001b[0m\u001b[0;34m,\u001b[0m\u001b[0;34m\u001b[0m\u001b[0;34m\u001b[0m\u001b[0m\n\u001b[1;32m    115\u001b[0m                       \u001b[0mgroup\u001b[0m\u001b[0;34m[\u001b[0m\u001b[0;34m'momentum'\u001b[0m\u001b[0;34m]\u001b[0m\u001b[0;34m,\u001b[0m\u001b[0;34m\u001b[0m\u001b[0;34m\u001b[0m\u001b[0m\n\u001b[0;32m--> 116\u001b[0;31m                       group['centered'])\n\u001b[0m\u001b[1;32m    117\u001b[0m \u001b[0;34m\u001b[0m\u001b[0m\n\u001b[1;32m    118\u001b[0m         \u001b[0;32mreturn\u001b[0m \u001b[0mloss\u001b[0m\u001b[0;34m\u001b[0m\u001b[0;34m\u001b[0m\u001b[0m\n",
            "\u001b[0;32m/usr/local/lib/python3.7/dist-packages/torch/optim/_functional.py\u001b[0m in \u001b[0;36mrmsprop\u001b[0;34m(params, grads, square_avgs, grad_avgs, momentum_buffer_list, lr, alpha, eps, weight_decay, momentum, centered)\u001b[0m\n\u001b[1;32m    231\u001b[0m             \u001b[0mavg\u001b[0m \u001b[0;34m=\u001b[0m \u001b[0msquare_avg\u001b[0m\u001b[0;34m.\u001b[0m\u001b[0maddcmul\u001b[0m\u001b[0;34m(\u001b[0m\u001b[0mgrad_avg\u001b[0m\u001b[0;34m,\u001b[0m \u001b[0mgrad_avg\u001b[0m\u001b[0;34m,\u001b[0m \u001b[0mvalue\u001b[0m\u001b[0;34m=\u001b[0m\u001b[0;34m-\u001b[0m\u001b[0;36m1\u001b[0m\u001b[0;34m)\u001b[0m\u001b[0;34m.\u001b[0m\u001b[0msqrt_\u001b[0m\u001b[0;34m(\u001b[0m\u001b[0;34m)\u001b[0m\u001b[0;34m.\u001b[0m\u001b[0madd_\u001b[0m\u001b[0;34m(\u001b[0m\u001b[0meps\u001b[0m\u001b[0;34m)\u001b[0m\u001b[0;34m\u001b[0m\u001b[0;34m\u001b[0m\u001b[0m\n\u001b[1;32m    232\u001b[0m         \u001b[0;32melse\u001b[0m\u001b[0;34m:\u001b[0m\u001b[0;34m\u001b[0m\u001b[0;34m\u001b[0m\u001b[0m\n\u001b[0;32m--> 233\u001b[0;31m             \u001b[0mavg\u001b[0m \u001b[0;34m=\u001b[0m \u001b[0msquare_avg\u001b[0m\u001b[0;34m.\u001b[0m\u001b[0msqrt\u001b[0m\u001b[0;34m(\u001b[0m\u001b[0;34m)\u001b[0m\u001b[0;34m.\u001b[0m\u001b[0madd_\u001b[0m\u001b[0;34m(\u001b[0m\u001b[0meps\u001b[0m\u001b[0;34m)\u001b[0m\u001b[0;34m\u001b[0m\u001b[0;34m\u001b[0m\u001b[0m\n\u001b[0m\u001b[1;32m    234\u001b[0m \u001b[0;34m\u001b[0m\u001b[0m\n\u001b[1;32m    235\u001b[0m         \u001b[0;32mif\u001b[0m \u001b[0mmomentum\u001b[0m \u001b[0;34m>\u001b[0m \u001b[0;36m0\u001b[0m\u001b[0;34m:\u001b[0m\u001b[0;34m\u001b[0m\u001b[0;34m\u001b[0m\u001b[0m\n",
            "\u001b[0;31mKeyboardInterrupt\u001b[0m: "
          ]
        }
      ]
    },
    {
      "cell_type": "code",
      "metadata": {
        "colab": {
          "base_uri": "https://localhost:8080/"
        },
        "id": "twEhnvQaqWOj",
        "outputId": "a3601a3b-a28c-45bd-fb65-89bc89c1825c"
      },
      "source": [
        "print(y, torch.argmax(pred, axis = 1))"
      ],
      "execution_count": 348,
      "outputs": [
        {
          "output_type": "stream",
          "text": [
            "tensor([0, 1, 0, 0, 0, 1, 1, 1, 0, 1, 0, 1, 1, 1, 0, 0, 1, 1, 0, 0]) tensor([0, 1, 0, 0, 0, 1, 1, 1, 0, 1, 0, 1, 1, 1, 0, 0, 1, 1, 0, 0])\n"
          ],
          "name": "stdout"
        }
      ]
    },
    {
      "cell_type": "code",
      "metadata": {
        "id": "32EsenYQo_T9"
      },
      "source": [
        ""
      ],
      "execution_count": null,
      "outputs": []
    }
  ]
}