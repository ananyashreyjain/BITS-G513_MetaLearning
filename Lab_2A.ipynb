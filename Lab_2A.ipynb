{
  "nbformat": 4,
  "nbformat_minor": 0,
  "metadata": {
    "colab": {
      "name": "Lab_2A.ipynb",
      "provenance": [],
      "authorship_tag": "ABX9TyOD3vnzP7DxCv+ll939+bld",
      "include_colab_link": true
    },
    "kernelspec": {
      "name": "python3",
      "display_name": "Python 3"
    },
    "widgets": {
      "application/vnd.jupyter.widget-state+json": {
        "b3fd984067c24445a19f45c4716dd585": {
          "model_module": "@jupyter-widgets/controls",
          "model_name": "HBoxModel",
          "state": {
            "_view_name": "HBoxView",
            "_dom_classes": [],
            "_model_name": "HBoxModel",
            "_view_module": "@jupyter-widgets/controls",
            "_model_module_version": "1.5.0",
            "_view_count": null,
            "_view_module_version": "1.5.0",
            "box_style": "",
            "layout": "IPY_MODEL_81bcc16fbaed477baa3eca77f4fa05b2",
            "_model_module": "@jupyter-widgets/controls",
            "children": [
              "IPY_MODEL_dd8bcf8777a04442b5b217ee49f3fea0",
              "IPY_MODEL_6e793ee88f49437bb5b0e0e82843261f"
            ]
          }
        },
        "81bcc16fbaed477baa3eca77f4fa05b2": {
          "model_module": "@jupyter-widgets/base",
          "model_name": "LayoutModel",
          "state": {
            "_view_name": "LayoutView",
            "grid_template_rows": null,
            "right": null,
            "justify_content": null,
            "_view_module": "@jupyter-widgets/base",
            "overflow": null,
            "_model_module_version": "1.2.0",
            "_view_count": null,
            "flex_flow": null,
            "width": null,
            "min_width": null,
            "border": null,
            "align_items": null,
            "bottom": null,
            "_model_module": "@jupyter-widgets/base",
            "top": null,
            "grid_column": null,
            "overflow_y": null,
            "overflow_x": null,
            "grid_auto_flow": null,
            "grid_area": null,
            "grid_template_columns": null,
            "flex": null,
            "_model_name": "LayoutModel",
            "justify_items": null,
            "grid_row": null,
            "max_height": null,
            "align_content": null,
            "visibility": null,
            "align_self": null,
            "height": null,
            "min_height": null,
            "padding": null,
            "grid_auto_rows": null,
            "grid_gap": null,
            "max_width": null,
            "order": null,
            "_view_module_version": "1.2.0",
            "grid_template_areas": null,
            "object_position": null,
            "object_fit": null,
            "grid_auto_columns": null,
            "margin": null,
            "display": null,
            "left": null
          }
        },
        "dd8bcf8777a04442b5b217ee49f3fea0": {
          "model_module": "@jupyter-widgets/controls",
          "model_name": "FloatProgressModel",
          "state": {
            "_view_name": "ProgressView",
            "style": "IPY_MODEL_a958353581094924ba4b6f510a9fc6bb",
            "_dom_classes": [],
            "description": "Epoch 99: 100%",
            "_model_name": "FloatProgressModel",
            "bar_style": "info",
            "max": 100,
            "_view_module": "@jupyter-widgets/controls",
            "_model_module_version": "1.5.0",
            "value": 100,
            "_view_count": null,
            "_view_module_version": "1.5.0",
            "orientation": "horizontal",
            "min": 0,
            "description_tooltip": null,
            "_model_module": "@jupyter-widgets/controls",
            "layout": "IPY_MODEL_e0a77ce03ac94f918a97ec422a018329"
          }
        },
        "6e793ee88f49437bb5b0e0e82843261f": {
          "model_module": "@jupyter-widgets/controls",
          "model_name": "HTMLModel",
          "state": {
            "_view_name": "HTMLView",
            "style": "IPY_MODEL_50899fa5a43248cda4018209380066df",
            "_dom_classes": [],
            "description": "",
            "_model_name": "HTMLModel",
            "placeholder": "​",
            "_view_module": "@jupyter-widgets/controls",
            "_model_module_version": "1.5.0",
            "value": " 100/100 [00:34&lt;00:00,  2.58it/s, loss=0.74]",
            "_view_count": null,
            "_view_module_version": "1.5.0",
            "description_tooltip": null,
            "_model_module": "@jupyter-widgets/controls",
            "layout": "IPY_MODEL_11f26752ae4a4b17bc16f33bce7a056a"
          }
        },
        "a958353581094924ba4b6f510a9fc6bb": {
          "model_module": "@jupyter-widgets/controls",
          "model_name": "ProgressStyleModel",
          "state": {
            "_view_name": "StyleView",
            "_model_name": "ProgressStyleModel",
            "description_width": "initial",
            "_view_module": "@jupyter-widgets/base",
            "_model_module_version": "1.5.0",
            "_view_count": null,
            "_view_module_version": "1.2.0",
            "bar_color": null,
            "_model_module": "@jupyter-widgets/controls"
          }
        },
        "e0a77ce03ac94f918a97ec422a018329": {
          "model_module": "@jupyter-widgets/base",
          "model_name": "LayoutModel",
          "state": {
            "_view_name": "LayoutView",
            "grid_template_rows": null,
            "right": null,
            "justify_content": null,
            "_view_module": "@jupyter-widgets/base",
            "overflow": null,
            "_model_module_version": "1.2.0",
            "_view_count": null,
            "flex_flow": null,
            "width": null,
            "min_width": null,
            "border": null,
            "align_items": null,
            "bottom": null,
            "_model_module": "@jupyter-widgets/base",
            "top": null,
            "grid_column": null,
            "overflow_y": null,
            "overflow_x": null,
            "grid_auto_flow": null,
            "grid_area": null,
            "grid_template_columns": null,
            "flex": null,
            "_model_name": "LayoutModel",
            "justify_items": null,
            "grid_row": null,
            "max_height": null,
            "align_content": null,
            "visibility": null,
            "align_self": null,
            "height": null,
            "min_height": null,
            "padding": null,
            "grid_auto_rows": null,
            "grid_gap": null,
            "max_width": null,
            "order": null,
            "_view_module_version": "1.2.0",
            "grid_template_areas": null,
            "object_position": null,
            "object_fit": null,
            "grid_auto_columns": null,
            "margin": null,
            "display": null,
            "left": null
          }
        },
        "50899fa5a43248cda4018209380066df": {
          "model_module": "@jupyter-widgets/controls",
          "model_name": "DescriptionStyleModel",
          "state": {
            "_view_name": "StyleView",
            "_model_name": "DescriptionStyleModel",
            "description_width": "",
            "_view_module": "@jupyter-widgets/base",
            "_model_module_version": "1.5.0",
            "_view_count": null,
            "_view_module_version": "1.2.0",
            "_model_module": "@jupyter-widgets/controls"
          }
        },
        "11f26752ae4a4b17bc16f33bce7a056a": {
          "model_module": "@jupyter-widgets/base",
          "model_name": "LayoutModel",
          "state": {
            "_view_name": "LayoutView",
            "grid_template_rows": null,
            "right": null,
            "justify_content": null,
            "_view_module": "@jupyter-widgets/base",
            "overflow": null,
            "_model_module_version": "1.2.0",
            "_view_count": null,
            "flex_flow": null,
            "width": null,
            "min_width": null,
            "border": null,
            "align_items": null,
            "bottom": null,
            "_model_module": "@jupyter-widgets/base",
            "top": null,
            "grid_column": null,
            "overflow_y": null,
            "overflow_x": null,
            "grid_auto_flow": null,
            "grid_area": null,
            "grid_template_columns": null,
            "flex": null,
            "_model_name": "LayoutModel",
            "justify_items": null,
            "grid_row": null,
            "max_height": null,
            "align_content": null,
            "visibility": null,
            "align_self": null,
            "height": null,
            "min_height": null,
            "padding": null,
            "grid_auto_rows": null,
            "grid_gap": null,
            "max_width": null,
            "order": null,
            "_view_module_version": "1.2.0",
            "grid_template_areas": null,
            "object_position": null,
            "object_fit": null,
            "grid_auto_columns": null,
            "margin": null,
            "display": null,
            "left": null
          }
        },
        "740341e6a37645789c3848bc0fa78184": {
          "model_module": "@jupyter-widgets/controls",
          "model_name": "HBoxModel",
          "state": {
            "_view_name": "HBoxView",
            "_dom_classes": [],
            "_model_name": "HBoxModel",
            "_view_module": "@jupyter-widgets/controls",
            "_model_module_version": "1.5.0",
            "_view_count": null,
            "_view_module_version": "1.5.0",
            "box_style": "",
            "layout": "IPY_MODEL_fed5ca788e78434494c51ab5fdb746f0",
            "_model_module": "@jupyter-widgets/controls",
            "children": [
              "IPY_MODEL_7b069428e8ed43fcac6d22c3f43a198f",
              "IPY_MODEL_0030a2681d6f45ea8e2275b065add802"
            ]
          }
        },
        "fed5ca788e78434494c51ab5fdb746f0": {
          "model_module": "@jupyter-widgets/base",
          "model_name": "LayoutModel",
          "state": {
            "_view_name": "LayoutView",
            "grid_template_rows": null,
            "right": null,
            "justify_content": null,
            "_view_module": "@jupyter-widgets/base",
            "overflow": null,
            "_model_module_version": "1.2.0",
            "_view_count": null,
            "flex_flow": null,
            "width": null,
            "min_width": null,
            "border": null,
            "align_items": null,
            "bottom": null,
            "_model_module": "@jupyter-widgets/base",
            "top": null,
            "grid_column": null,
            "overflow_y": null,
            "overflow_x": null,
            "grid_auto_flow": null,
            "grid_area": null,
            "grid_template_columns": null,
            "flex": null,
            "_model_name": "LayoutModel",
            "justify_items": null,
            "grid_row": null,
            "max_height": null,
            "align_content": null,
            "visibility": null,
            "align_self": null,
            "height": null,
            "min_height": null,
            "padding": null,
            "grid_auto_rows": null,
            "grid_gap": null,
            "max_width": null,
            "order": null,
            "_view_module_version": "1.2.0",
            "grid_template_areas": null,
            "object_position": null,
            "object_fit": null,
            "grid_auto_columns": null,
            "margin": null,
            "display": null,
            "left": null
          }
        },
        "7b069428e8ed43fcac6d22c3f43a198f": {
          "model_module": "@jupyter-widgets/controls",
          "model_name": "FloatProgressModel",
          "state": {
            "_view_name": "ProgressView",
            "style": "IPY_MODEL_617e8f48bf294cd6a274dfb1928d03ce",
            "_dom_classes": [],
            "description": "Epoch 99: 100%",
            "_model_name": "FloatProgressModel",
            "bar_style": "info",
            "max": 100,
            "_view_module": "@jupyter-widgets/controls",
            "_model_module_version": "1.5.0",
            "value": 100,
            "_view_count": null,
            "_view_module_version": "1.5.0",
            "orientation": "horizontal",
            "min": 0,
            "description_tooltip": null,
            "_model_module": "@jupyter-widgets/controls",
            "layout": "IPY_MODEL_f47acf3af7f74f7eabaada6bb65baae3"
          }
        },
        "0030a2681d6f45ea8e2275b065add802": {
          "model_module": "@jupyter-widgets/controls",
          "model_name": "HTMLModel",
          "state": {
            "_view_name": "HTMLView",
            "style": "IPY_MODEL_0e0f6b30ab9640e9a21a28f85972b9d1",
            "_dom_classes": [],
            "description": "",
            "_model_name": "HTMLModel",
            "placeholder": "​",
            "_view_module": "@jupyter-widgets/controls",
            "_model_module_version": "1.5.0",
            "value": " 100/100 [00:44&lt;00:00,  2.24it/s, loss=0.771]",
            "_view_count": null,
            "_view_module_version": "1.5.0",
            "description_tooltip": null,
            "_model_module": "@jupyter-widgets/controls",
            "layout": "IPY_MODEL_cc42f78b3c554e3e9ceec04fe23559e3"
          }
        },
        "617e8f48bf294cd6a274dfb1928d03ce": {
          "model_module": "@jupyter-widgets/controls",
          "model_name": "ProgressStyleModel",
          "state": {
            "_view_name": "StyleView",
            "_model_name": "ProgressStyleModel",
            "description_width": "initial",
            "_view_module": "@jupyter-widgets/base",
            "_model_module_version": "1.5.0",
            "_view_count": null,
            "_view_module_version": "1.2.0",
            "bar_color": null,
            "_model_module": "@jupyter-widgets/controls"
          }
        },
        "f47acf3af7f74f7eabaada6bb65baae3": {
          "model_module": "@jupyter-widgets/base",
          "model_name": "LayoutModel",
          "state": {
            "_view_name": "LayoutView",
            "grid_template_rows": null,
            "right": null,
            "justify_content": null,
            "_view_module": "@jupyter-widgets/base",
            "overflow": null,
            "_model_module_version": "1.2.0",
            "_view_count": null,
            "flex_flow": null,
            "width": null,
            "min_width": null,
            "border": null,
            "align_items": null,
            "bottom": null,
            "_model_module": "@jupyter-widgets/base",
            "top": null,
            "grid_column": null,
            "overflow_y": null,
            "overflow_x": null,
            "grid_auto_flow": null,
            "grid_area": null,
            "grid_template_columns": null,
            "flex": null,
            "_model_name": "LayoutModel",
            "justify_items": null,
            "grid_row": null,
            "max_height": null,
            "align_content": null,
            "visibility": null,
            "align_self": null,
            "height": null,
            "min_height": null,
            "padding": null,
            "grid_auto_rows": null,
            "grid_gap": null,
            "max_width": null,
            "order": null,
            "_view_module_version": "1.2.0",
            "grid_template_areas": null,
            "object_position": null,
            "object_fit": null,
            "grid_auto_columns": null,
            "margin": null,
            "display": null,
            "left": null
          }
        },
        "0e0f6b30ab9640e9a21a28f85972b9d1": {
          "model_module": "@jupyter-widgets/controls",
          "model_name": "DescriptionStyleModel",
          "state": {
            "_view_name": "StyleView",
            "_model_name": "DescriptionStyleModel",
            "description_width": "",
            "_view_module": "@jupyter-widgets/base",
            "_model_module_version": "1.5.0",
            "_view_count": null,
            "_view_module_version": "1.2.0",
            "_model_module": "@jupyter-widgets/controls"
          }
        },
        "cc42f78b3c554e3e9ceec04fe23559e3": {
          "model_module": "@jupyter-widgets/base",
          "model_name": "LayoutModel",
          "state": {
            "_view_name": "LayoutView",
            "grid_template_rows": null,
            "right": null,
            "justify_content": null,
            "_view_module": "@jupyter-widgets/base",
            "overflow": null,
            "_model_module_version": "1.2.0",
            "_view_count": null,
            "flex_flow": null,
            "width": null,
            "min_width": null,
            "border": null,
            "align_items": null,
            "bottom": null,
            "_model_module": "@jupyter-widgets/base",
            "top": null,
            "grid_column": null,
            "overflow_y": null,
            "overflow_x": null,
            "grid_auto_flow": null,
            "grid_area": null,
            "grid_template_columns": null,
            "flex": null,
            "_model_name": "LayoutModel",
            "justify_items": null,
            "grid_row": null,
            "max_height": null,
            "align_content": null,
            "visibility": null,
            "align_self": null,
            "height": null,
            "min_height": null,
            "padding": null,
            "grid_auto_rows": null,
            "grid_gap": null,
            "max_width": null,
            "order": null,
            "_view_module_version": "1.2.0",
            "grid_template_areas": null,
            "object_position": null,
            "object_fit": null,
            "grid_auto_columns": null,
            "margin": null,
            "display": null,
            "left": null
          }
        }
      }
    }
  },
  "cells": [
    {
      "cell_type": "markdown",
      "metadata": {
        "id": "view-in-github",
        "colab_type": "text"
      },
      "source": [
        "<a href=\"https://colab.research.google.com/github/tirtharajdash/BITS-G513_MetaLearning/blob/main/Lab_2A.ipynb\" target=\"_parent\"><img src=\"https://colab.research.google.com/assets/colab-badge.svg\" alt=\"Open In Colab\"/></a>"
      ]
    },
    {
      "cell_type": "markdown",
      "metadata": {
        "id": "tVV_tpgnfAfA"
      },
      "source": [
        "This notebook has been adapted from NYU's Deep Learning Course taught by Yann LeCun & Alfredo Canziani. [Website](https://atcold.github.io/pytorch-Deep-Learning/)"
      ]
    },
    {
      "cell_type": "markdown",
      "metadata": {
        "id": "KibVUNLYfN1t"
      },
      "source": [
        "This notebook covers an example of Gradient Descent, Stochastic Gradient Descent and Backpropagation without using PyTorch's Automatic Gradient Computation Capabilities"
      ]
    },
    {
      "cell_type": "markdown",
      "metadata": {
        "id": "VGz6iyM-kG3n"
      },
      "source": [
        "# Gradient Descent"
      ]
    },
    {
      "cell_type": "markdown",
      "metadata": {
        "id": "MPx1UNe_j-aD"
      },
      "source": [
        "## Setup\n",
        "\n",
        "We'll work with the classic MNIST Dataset in this notebook"
      ]
    },
    {
      "cell_type": "code",
      "metadata": {
        "id": "Q3000HmfdQs5"
      },
      "source": [
        "import numpy as np\n",
        "from sklearn.datasets import fetch_openml\n",
        "mnist = fetch_openml('mnist_784', version=1, cache=True)\n",
        "mnist.target = mnist.target.astype(np.int8)"
      ],
      "execution_count": 4,
      "outputs": []
    },
    {
      "cell_type": "code",
      "metadata": {
        "id": "eAGNt9DddZjX"
      },
      "source": [
        "X, y = mnist[\"data\"], mnist[\"target\"]"
      ],
      "execution_count": 30,
      "outputs": []
    },
    {
      "cell_type": "code",
      "metadata": {
        "colab": {
          "base_uri": "https://localhost:8080/"
        },
        "id": "qHnvDcf8dcjy",
        "outputId": "1ff5c601-70b1-40fa-ab7c-0af8a2519f37"
      },
      "source": [
        "print(X.shape, y.shape)"
      ],
      "execution_count": 6,
      "outputs": [
        {
          "output_type": "stream",
          "text": [
            "(70000, 784) (70000,)\n"
          ],
          "name": "stdout"
        }
      ]
    },
    {
      "cell_type": "code",
      "metadata": {
        "id": "tnApz5ORdfDw"
      },
      "source": [
        "X = X / 255"
      ],
      "execution_count": 31,
      "outputs": []
    },
    {
      "cell_type": "code",
      "metadata": {
        "id": "48IeWgeWdgfi"
      },
      "source": [
        "digits = 10\n",
        "examples = y.shape[0]\n",
        "\n",
        "y = y.reshape(1, examples)\n",
        "\n",
        "Y_new = np.eye(digits)[y.astype('int32')]\n",
        "Y_new = Y_new.T.reshape(digits, examples)"
      ],
      "execution_count": 32,
      "outputs": []
    },
    {
      "cell_type": "code",
      "metadata": {
        "id": "abL9LFF_dgys"
      },
      "source": [
        "m = 60000\n",
        "m_test = X.shape[0] - m\n",
        "\n",
        "X_train, X_test = X[:m].T, X[m:].T\n",
        "Y_train, Y_test = Y_new[:,:m], Y_new[:,m:]\n",
        "\n",
        "shuffle_index = np.random.permutation(m)\n",
        "X_train, Y_train = X_train[:, shuffle_index], Y_train[:, shuffle_index]"
      ],
      "execution_count": 33,
      "outputs": []
    },
    {
      "cell_type": "code",
      "metadata": {
        "colab": {
          "base_uri": "https://localhost:8080/",
          "height": 0
        },
        "id": "9vm3HsOFdihB",
        "outputId": "5bb33317-2981-4f32-9111-a739fdf88a7b"
      },
      "source": [
        "import matplotlib\n",
        "import matplotlib.pyplot as plt\n",
        "\n",
        "i = 1234\n",
        "plt.imshow(X_train[:,i].reshape(28,28), cmap = matplotlib.cm.binary)\n",
        "plt.axis(\"off\")\n",
        "plt.show()\n",
        "Y_train[:,i]"
      ],
      "execution_count": 12,
      "outputs": [
        {
          "output_type": "display_data",
          "data": {
            "image/png": "[encoded data removed]",
            "text/plain": [
              "<Figure size 432x288 with 1 Axes>"
            ]
          },
          "metadata": {
            "tags": [],
            "needs_background": "light"
          }
        },
        {
          "output_type": "execute_result",
          "data": {
            "text/plain": [
              "array([0., 0., 0., 0., 0., 0., 0., 1., 0., 0.])"
            ]
          },
          "metadata": {
            "tags": []
          },
          "execution_count": 12
        }
      ]
    },
    {
      "cell_type": "markdown",
      "metadata": {
        "id": "1L9j3eNZkOVm"
      },
      "source": [
        "## Training\n",
        "\n",
        "Since MNIST is a 10-class dataset, we'll be performing multi-class classification which uses the cross entropy loss function.\n",
        "\n",
        "$$ -\\sum_{c=1}^My_{o,c}\\log(p_{o,c}) $$"
      ]
    },
    {
      "cell_type": "code",
      "metadata": {
        "id": "ZQGoHzoBdkss"
      },
      "source": [
        "import torch\n",
        "\n",
        "from tqdm import trange\n",
        "\n",
        "def compute_multiclass_loss(Y, Y_hat):\n",
        "\n",
        "    L_sum = torch.sum(np.multiply(Y, np.log(Y_hat)))\n",
        "    m = Y.shape[1]\n",
        "    L = -(1/m) * L_sum\n",
        "\n",
        "    return L\n",
        "\n",
        "def sigmoid(z):\n",
        "    s = 1 / (1 + torch.exp(-z))\n",
        "    return s\n"
      ],
      "execution_count": 39,
      "outputs": []
    },
    {
      "cell_type": "markdown",
      "metadata": {
        "id": "SGfvEvsAkvcD"
      },
      "source": [
        "Lets work with a two layer neural network with the hidden layer size being 64. We can go ahead and define them as shown below:"
      ]
    },
    {
      "cell_type": "code",
      "metadata": {
        "id": "QlaYo_WodmVI"
      },
      "source": [
        "n_x = X_train.shape[0]\n",
        "n_h = 64\n",
        "learning_rate = 1\n",
        "\n",
        "W1 = torch.randn(n_h, n_x)\n",
        "b1 = torch.zeros((n_h, 1))\n",
        "W2 = torch.randn(digits, n_h)\n",
        "b2 = torch.zeros((digits, 1))"
      ],
      "execution_count": 40,
      "outputs": []
    },
    {
      "cell_type": "markdown",
      "metadata": {
        "id": "KYedrkkglIaA"
      },
      "source": [
        "#### Training Loop\n",
        "\n",
        "Lets simply perform full batch gradient descent. This means passing the entire dataset through the model in one go"
      ]
    },
    {
      "cell_type": "code",
      "metadata": {
        "colab": {
          "base_uri": "https://localhost:8080/",
          "height": 67,
          "referenced_widgets": [
            "b3fd984067c24445a19f45c4716dd585",
            "81bcc16fbaed477baa3eca77f4fa05b2",
            "dd8bcf8777a04442b5b217ee49f3fea0",
            "6e793ee88f49437bb5b0e0e82843261f",
            "a958353581094924ba4b6f510a9fc6bb",
            "e0a77ce03ac94f918a97ec422a018329",
            "50899fa5a43248cda4018209380066df",
            "11f26752ae4a4b17bc16f33bce7a056a"
          ]
        },
        "id": "aQi3zf4Olf7p",
        "outputId": "e3da7c64-c260-42ec-ce74-ee3d4975ba61"
      },
      "source": [
        "\n",
        "X = torch.from_numpy(X_train).float()\n",
        "Y = torch.from_numpy(Y_train).float()\n",
        "\n",
        "\n",
        "from tqdm.notebook import tqdm\n",
        "pbar = tqdm()\n",
        "pbar.reset(total=100)\n",
        "\n",
        "for i in range(100):\n",
        "\n",
        "    ## Forward Pass\n",
        "\n",
        "    # Y = sigma(WX + b)\n",
        "    Z1 = torch.matmul(W1,X) + b1\n",
        "    A1 = sigmoid(Z1)\n",
        "\n",
        "    # Layer 2\n",
        "    Z2 = torch.matmul(W2,A1) + b2\n",
        "    \n",
        "    # Softmax\n",
        "    A2 = torch.exp(Z2) / torch.sum(np.exp(Z2), axis=0)\n",
        "\n",
        "    # Compute Loss\n",
        "    cost = compute_multiclass_loss(Y, A2)\n",
        "\n",
        "    ## Backward Pass\n",
        "\n",
        "    # Backpropagate to layer 2\n",
        "    dZ2 = A2-Y\n",
        "    dW2 = (1./m) * torch.matmul(dZ2, A1.T)\n",
        "    db2 = (1./m) * torch.sum(dZ2, axis=1, keepdims=True)\n",
        "\n",
        "    # Backpropagate to layer 1\n",
        "    dA1 = torch.matmul(W2.T, dZ2)\n",
        "    dZ1 = dA1 * sigmoid(Z1) * (1 - sigmoid(Z1))\n",
        "    dW1 = (1./m) * torch.matmul(dZ1, X.T)\n",
        "    db1 = (1./m) * torch.sum(dZ1, axis=1, keepdims=True)\n",
        "\n",
        "    # Update variables\n",
        "    W2 = W2 - learning_rate * dW2\n",
        "    b2 = b2 - learning_rate * db2\n",
        "    W1 = W1 - learning_rate * dW1\n",
        "    b1 = b1 - learning_rate * db1\n",
        "\n",
        "    pbar.set_description('Epoch %i' % i)\n",
        "    pbar.set_postfix(loss=cost.item())\n",
        "    pbar.update()\n",
        "\n",
        "    # if (i % 100 == 0):\n",
        "    #     print(\"Epoch\", i, \"cost: \", cost.item())\n",
        "\n",
        "print(\"Final Cost:\", cost.item())"
      ],
      "execution_count": 41,
      "outputs": [
        {
          "output_type": "display_data",
          "data": {
            "application/vnd.jupyter.widget-view+json": {
              "model_id": "b3fd984067c24445a19f45c4716dd585",
              "version_minor": 0,
              "version_major": 2
            },
            "text/plain": [
              "HBox(children=(FloatProgress(value=1.0, bar_style='info', max=1.0), HTML(value='')))"
            ]
          },
          "metadata": {
            "tags": []
          }
        },
        {
          "output_type": "stream",
          "text": [
            "Final Cost: 0.74028080701828\n"
          ],
          "name": "stdout"
        }
      ]
    },
    {
      "cell_type": "markdown",
      "metadata": {
        "id": "63MQEcHAi600"
      },
      "source": [
        "## Testing our trained model"
      ]
    },
    {
      "cell_type": "code",
      "metadata": {
        "colab": {
          "base_uri": "https://localhost:8080/"
        },
        "id": "jcHm6FkHdsQ3",
        "outputId": "db47078b-034f-415b-8ee5-cf08aef9a22d"
      },
      "source": [
        "from sklearn.metrics import classification_report, confusion_matrix\n",
        "\n",
        "# X_test = torch.from_numpy(X_test).float()\n",
        "\n",
        "Z1 = torch.matmul(W1, X_test) + b1\n",
        "A1 = sigmoid(Z1)\n",
        "Z2 = torch.matmul(W2, A1) + b2\n",
        "A2 = torch.exp(Z2) / torch.sum(np.exp(Z2), axis=0)\n",
        "\n",
        "predictions = torch.argmax(A2, axis=0)\n",
        "labels = torch.argmax(torch.from_numpy(Y_test), axis=0)\n",
        "\n",
        "# print(confusion_matrix(predictions, labels))\n",
        "# print()\n",
        "print(classification_report(predictions, labels))"
      ],
      "execution_count": 42,
      "outputs": [
        {
          "output_type": "stream",
          "text": [
            "              precision    recall  f1-score   support\n",
            "\n",
            "           0       0.87      0.84      0.86      1005\n",
            "           1       0.93      0.90      0.91      1178\n",
            "           2       0.75      0.77      0.76      1007\n",
            "           3       0.77      0.76      0.77      1015\n",
            "           4       0.74      0.74      0.74       979\n",
            "           5       0.63      0.70      0.66       800\n",
            "           6       0.83      0.83      0.83       967\n",
            "           7       0.82      0.81      0.82      1038\n",
            "           8       0.73      0.70      0.71      1018\n",
            "           9       0.68      0.69      0.69       993\n",
            "\n",
            "    accuracy                           0.78     10000\n",
            "   macro avg       0.77      0.77      0.77     10000\n",
            "weighted avg       0.78      0.78      0.78     10000\n",
            "\n"
          ],
          "name": "stdout"
        }
      ]
    },
    {
      "cell_type": "markdown",
      "metadata": {
        "id": "pECHxAr1jy2p"
      },
      "source": [
        "## Stochastic Gradient Descent"
      ]
    },
    {
      "cell_type": "markdown",
      "metadata": {
        "id": "lyCXFXM1l0T7"
      },
      "source": [
        "The difference between Stochatic Gradient Descent and Gradient Descent is that in SGD we do not pass the entire dataset at once. So we can define a function which returns us random splits"
      ]
    },
    {
      "cell_type": "code",
      "metadata": {
        "id": "jYCMADYnjD0v"
      },
      "source": [
        "def return_partitions(X, y, batch_size):\n",
        "    total_samples = X.shape[1]\n",
        "\n",
        "    assert total_samples % batch_size == 0\n",
        "    partitions = int(total_samples / batch_size)\n",
        "\n",
        "    return torch.split(X, batch_size, dim=1), torch.split(y, batch_size, dim=1)\n",
        "\n",
        "def partition(X, y, indices):\n",
        "    return X[:, indices], y[:, indices]"
      ],
      "execution_count": 62,
      "outputs": []
    },
    {
      "cell_type": "code",
      "metadata": {
        "id": "PPVL_PM5jkta"
      },
      "source": [
        "px, py = return_partitions(torch.from_numpy(X_train).float(), torch.from_numpy(Y_train).float(), 200)"
      ],
      "execution_count": 76,
      "outputs": []
    },
    {
      "cell_type": "code",
      "metadata": {
        "id": "oIucIIgXmWZO"
      },
      "source": [
        "n_x = X_train.shape[0]\n",
        "n_h = 64\n",
        "learning_rate = 1\n",
        "\n",
        "W1 = torch.randn(n_h, n_x)\n",
        "b1 = torch.zeros((n_h, 1))\n",
        "W2 = torch.randn(digits, n_h)\n",
        "b2 = torch.zeros((digits, 1))"
      ],
      "execution_count": 79,
      "outputs": []
    },
    {
      "cell_type": "code",
      "metadata": {
        "colab": {
          "base_uri": "https://localhost:8080/",
          "height": 67,
          "referenced_widgets": [
            "740341e6a37645789c3848bc0fa78184",
            "fed5ca788e78434494c51ab5fdb746f0",
            "7b069428e8ed43fcac6d22c3f43a198f",
            "0030a2681d6f45ea8e2275b065add802",
            "617e8f48bf294cd6a274dfb1928d03ce",
            "f47acf3af7f74f7eabaada6bb65baae3",
            "0e0f6b30ab9640e9a21a28f85972b9d1",
            "cc42f78b3c554e3e9ceec04fe23559e3"
          ]
        },
        "id": "4n9OgC5xmW-J",
        "outputId": "26cda2b2-1945-4895-b614-1f98d511752e"
      },
      "source": [
        "from tqdm.notebook import tqdm\n",
        "pbar = tqdm()\n",
        "pbar.reset(total=100)\n",
        "\n",
        "for i in range(100):\n",
        "\n",
        "    ## Forward Pass\n",
        "\n",
        "    # Y = sigma(WX + b)\n",
        "    total_cost = 0.0\n",
        "    for tX, tY in zip(px, py):\n",
        "        Z1 = torch.matmul(W1,tX) + b1\n",
        "        A1 = sigmoid(Z1)\n",
        "\n",
        "        # Layer 2\n",
        "        Z2 = torch.matmul(W2,A1) + b2\n",
        "        \n",
        "        # Softmax\n",
        "        A2 = torch.exp(Z2) / torch.sum(np.exp(Z2), axis=0)\n",
        "\n",
        "        # Compute Loss\n",
        "        cost = compute_multiclass_loss(tY, A2)\n",
        "\n",
        "        ## Backward Pass\n",
        "\n",
        "        # Backpropagate to layer 2\n",
        "        dZ2 = A2-tY\n",
        "        dW2 = (1./m) * torch.matmul(dZ2, A1.T)\n",
        "        db2 = (1./m) * torch.sum(dZ2, axis=1, keepdims=True)\n",
        "\n",
        "        # Backpropagate to layer 1\n",
        "        dA1 = torch.matmul(W2.T, dZ2)\n",
        "        dZ1 = dA1 * sigmoid(Z1) * (1 - sigmoid(Z1))\n",
        "        dW1 = (1./m) * torch.matmul(dZ1, tX.T)\n",
        "        db1 = (1./m) * torch.sum(dZ1, axis=1, keepdims=True)\n",
        "\n",
        "        # Update variables\n",
        "        W2 = W2 - learning_rate * dW2\n",
        "        b2 = b2 - learning_rate * db2\n",
        "        W1 = W1 - learning_rate * dW1\n",
        "        b1 = b1 - learning_rate * db1\n",
        "        total_cost += cost.item()\n",
        "\n",
        "    pbar.set_description('Epoch %i' % i)\n",
        "    pbar.set_postfix(loss=total_cost/len(px))\n",
        "    pbar.update()\n",
        "\n",
        "print(\"Final Cost:\", cost.item())"
      ],
      "execution_count": 80,
      "outputs": [
        {
          "output_type": "display_data",
          "data": {
            "application/vnd.jupyter.widget-view+json": {
              "model_id": "740341e6a37645789c3848bc0fa78184",
              "version_minor": 0,
              "version_major": 2
            },
            "text/plain": [
              "HBox(children=(FloatProgress(value=1.0, bar_style='info', max=1.0), HTML(value='')))"
            ]
          },
          "metadata": {
            "tags": []
          }
        },
        {
          "output_type": "stream",
          "text": [
            "Final Cost: 0.7492223381996155\n"
          ],
          "name": "stdout"
        }
      ]
    },
    {
      "cell_type": "code",
      "metadata": {
        "colab": {
          "base_uri": "https://localhost:8080/"
        },
        "id": "NQBClZxDpo3j",
        "outputId": "56a7e600-e52a-46cd-aa80-2190c48bce94"
      },
      "source": [
        "from sklearn.metrics import classification_report, confusion_matrix\n",
        "\n",
        "# X_test = torch.from_numpy(X_test).float()\n",
        "\n",
        "Z1 = torch.matmul(W1, X_test) + b1\n",
        "A1 = sigmoid(Z1)\n",
        "Z2 = torch.matmul(W2, A1) + b2\n",
        "A2 = torch.exp(Z2) / torch.sum(np.exp(Z2), axis=0)\n",
        "\n",
        "predictions = torch.argmax(A2, axis=0)\n",
        "labels = torch.argmax(torch.from_numpy(Y_test), axis=0)\n",
        "\n",
        "print(classification_report(predictions, labels))"
      ],
      "execution_count": 75,
      "outputs": [
        {
          "output_type": "stream",
          "text": [
            "              precision    recall  f1-score   support\n",
            "\n",
            "           0       0.88      0.84      0.86      1029\n",
            "           1       0.95      0.92      0.94      1174\n",
            "           2       0.72      0.78      0.75       943\n",
            "           3       0.77      0.73      0.75      1072\n",
            "           4       0.72      0.74      0.73       958\n",
            "           5       0.58      0.64      0.61       808\n",
            "           6       0.82      0.79      0.81       991\n",
            "           7       0.79      0.81      0.80       993\n",
            "           8       0.67      0.66      0.67       981\n",
            "           9       0.70      0.68      0.69      1051\n",
            "\n",
            "    accuracy                           0.76     10000\n",
            "   macro avg       0.76      0.76      0.76     10000\n",
            "weighted avg       0.77      0.76      0.77     10000\n",
            "\n"
          ],
          "name": "stdout"
        }
      ]
    },
    {
      "cell_type": "code",
      "metadata": {
        "id": "u533DLz-o4pu"
      },
      "source": [
        ""
      ],
      "execution_count": null,
      "outputs": []
    }
  ]
}