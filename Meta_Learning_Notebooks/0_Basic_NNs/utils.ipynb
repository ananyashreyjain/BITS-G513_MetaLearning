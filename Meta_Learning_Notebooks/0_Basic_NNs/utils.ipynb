{
 "cells": [
  {
   "cell_type": "markdown",
   "metadata": {},
   "source": [
    "# Dataset Generation"
   ]
  },
  {
   "cell_type": "code",
   "execution_count": 1,
   "metadata": {},
   "outputs": [
    {
     "data": {
      "text/html": [
       "\n",
       "        <script>\n",
       "            function code_toggle_17416369465243488427() {\n",
       "                $('div.cell.code_cell.rendered.selected').find('div.input').toggle();\n",
       "            }\n",
       "\n",
       "            \n",
       "        </script>\n",
       "\n",
       "        <a href=\"javascript:code_toggle_17416369465243488427()\"><b>Toggle cell visibility code</b> (show/hide)</a>\n",
       "    "
      ],
      "text/plain": [
       "<IPython.core.display.HTML object>"
      ]
     },
     "execution_count": 1,
     "metadata": {},
     "output_type": "execute_result"
    }
   ],
   "source": [
    "from IPython.display import HTML\n",
    "import random\n",
    "def hide_toggle(message='',for_next=False):\n",
    "    this_cell = \"\"\"$('div.cell.code_cell.rendered.selected')\"\"\"\n",
    "    next_cell = this_cell + '.next()'\n",
    "\n",
    "    toggle_text = '<b>' + message + '</b>' + ' (show/hide)'  # text shown on toggle link\n",
    "    target_cell = this_cell  # target cell to control with toggle\n",
    "    js_hide_current = ''  # bit of JS to permanently hide code in current cell (only when toggling next cell)\n",
    "\n",
    "    if for_next:\n",
    "        target_cell = next_cell\n",
    "        toggle_text += ' next cell'\n",
    "        js_hide_current = this_cell + '.find(\"div.input\").hide();'\n",
    "\n",
    "    js_f_name = 'code_toggle_{}'.format(str(random.randint(1,2**64)))\n",
    "\n",
    "    html = \"\"\"\n",
    "        <script>\n",
    "            function {f_name}() {{\n",
    "                {cell_selector}.find('div.input').toggle();\n",
    "            }}\n",
    "\n",
    "            {js_hide_current}\n",
    "        </script>\n",
    "\n",
    "        <a href=\"javascript:{f_name}()\">{toggle_text}</a>\n",
    "    \"\"\".format(\n",
    "        f_name=js_f_name,\n",
    "        cell_selector=target_cell,\n",
    "        js_hide_current=js_hide_current, \n",
    "        toggle_text=toggle_text\n",
    "    )\n",
    "    return HTML(html)\n",
    "hide_toggle(message='Toggle cell visibility code')"
   ]
  },
  {
   "cell_type": "code",
   "execution_count": 9,
   "metadata": {},
   "outputs": [
    {
     "data": {
      "text/html": [
       "\n",
       "        <script>\n",
       "            function code_toggle_10368857442731541400() {\n",
       "                $('div.cell.code_cell.rendered.selected').find('div.input').toggle();\n",
       "            }\n",
       "\n",
       "            \n",
       "        </script>\n",
       "\n",
       "        <a href=\"javascript:code_toggle_10368857442731541400()\"><b>Imports</b> (show/hide)</a>\n",
       "    "
      ],
      "text/plain": [
       "<IPython.core.display.HTML object>"
      ]
     },
     "execution_count": 9,
     "metadata": {},
     "output_type": "execute_result"
    }
   ],
   "source": [
    "import torch\n",
    "import numpy as np\n",
    "from torch.utils.data import Dataset\n",
    "import sklearn.datasets as skds\n",
    "from sklearn.model_selection import train_test_split\n",
    "from torch.utils.data import DataLoader\n",
    "import math\n",
    "from numpy import sin, pi\n",
    "from matplotlib import pyplot as plt\n",
    "from torchvision.datasets import MNIST\n",
    "hide_toggle('Imports')"
   ]
  },
  {
   "cell_type": "markdown",
   "metadata": {},
   "source": [
    "Data generation routines will return a MyDS dataset class of type torch.utils.Dataset"
   ]
  },
  {
   "cell_type": "code",
   "execution_count": 10,
   "metadata": {},
   "outputs": [
    {
     "data": {
      "text/html": [
       "\n",
       "        <script>\n",
       "            function code_toggle_6677408237935248021() {\n",
       "                $('div.cell.code_cell.rendered.selected').find('div.input').toggle();\n",
       "            }\n",
       "\n",
       "            \n",
       "        </script>\n",
       "\n",
       "        <a href=\"javascript:code_toggle_6677408237935248021()\"><b>Class MyDS</b> (show/hide)</a>\n",
       "    "
      ],
      "text/plain": [
       "<IPython.core.display.HTML object>"
      ]
     },
     "execution_count": 10,
     "metadata": {},
     "output_type": "execute_result"
    }
   ],
   "source": [
    "class MyDS(Dataset):\n",
    "    def __init__(self, X,y):\n",
    "        self.samples = torch.Tensor(X)\n",
    "        self.labels = torch.LongTensor(y)\n",
    "        \n",
    "    def __len__(self):\n",
    "        return len(self.samples)\n",
    "\n",
    "    def __getitem__(self, idx):\n",
    "        return (self.samples[idx],self.labels[idx])\n",
    "hide_toggle('Class MyDS')"
   ]
  },
  {
   "cell_type": "markdown",
   "metadata": {},
   "source": [
    "Generate data in $\\mathcal{R}^n$ with $n$ features, a number of classes, prescribed class separation and clusters per class. Return datasets for training and testing data and data-loader for training data using prescribed batch size."
   ]
  },
  {
   "cell_type": "code",
   "execution_count": 11,
   "metadata": {},
   "outputs": [
    {
     "data": {
      "text/html": [
       "\n",
       "        <script>\n",
       "            function code_toggle_14611025028309147822() {\n",
       "                $('div.cell.code_cell.rendered.selected').find('div.input').toggle();\n",
       "            }\n",
       "\n",
       "            \n",
       "        </script>\n",
       "\n",
       "        <a href=\"javascript:code_toggle_14611025028309147822()\"><b>Function euclideanDataset</b> (show/hide)</a>\n",
       "    "
      ],
      "text/plain": [
       "<IPython.core.display.HTML object>"
      ]
     },
     "execution_count": 11,
     "metadata": {},
     "output_type": "execute_result"
    }
   ],
   "source": [
    "def euclideanDataset(n_samples=1000,n_classes=2,class_sep=2.0,n_features=5,batch_size=1):\n",
    "    X,y = skds.make_classification(n_samples=n_samples,n_classes=n_classes,\n",
    "                                   class_sep=class_sep,n_features=n_features, \n",
    "                                 n_informative=n_features,n_redundant=0,\n",
    "                                 n_repeated=0,n_clusters_per_class=1)\n",
    "    X_train,X_test,y_train,y_test = train_test_split(X,y)\n",
    "    ds = MyDS(X_train,y_train)\n",
    "    ds_hold = MyDS(X_test,y_test)\n",
    "    dsloader = torch.utils.data.DataLoader(dataset=ds,batch_size=batch_size,shuffle=True)\n",
    "    return ds,ds_hold,dsloader\n",
    "hide_toggle('Function euclideanDataset')"
   ]
  },
  {
   "cell_type": "markdown",
   "metadata": {},
   "source": [
    "Generate samples from a sinwave $a$ sin$(f\\pi t)$ of scale $a$, frequency $f$ at intervals $t = i \\delta t$ "
   ]
  },
  {
   "cell_type": "code",
   "execution_count": 14,
   "metadata": {},
   "outputs": [
    {
     "data": {
      "text/html": [
       "\n",
       "        <script>\n",
       "            function code_toggle_13875715796297680857() {\n",
       "                $('div.cell.code_cell.rendered.selected').find('div.input').toggle();\n",
       "            }\n",
       "\n",
       "            \n",
       "        </script>\n",
       "\n",
       "        <a href=\"javascript:code_toggle_13875715796297680857()\"><b>Function mysin</b> (show/hide)</a>\n",
       "    "
      ],
      "text/plain": [
       "<IPython.core.display.HTML object>"
      ]
     },
     "execution_count": 14,
     "metadata": {},
     "output_type": "execute_result"
    }
   ],
   "source": [
    "class mysin():\n",
    "    def __init__(self,ampl = 1.0, freq=0.5, delta=0.1,phase=0.0):\n",
    "        self.f,self.d,self.a,self.p = freq, delta, ampl, phase\n",
    "        self.t = 0.0\n",
    "        return\n",
    "    def reset(self,t=0.0):\n",
    "        self.t = 0.0\n",
    "        return self.func()\n",
    "    def next(self):\n",
    "        val = self.func() \n",
    "        self.t += self.d\n",
    "        return val\n",
    "    def __call__(self,t):\n",
    "        old_t = self.t\n",
    "        self.t = t\n",
    "        val = self.func()\n",
    "        self.t = old_t\n",
    "        return val\n",
    "    def func(self):\n",
    "        return self.a * sin(pi*(self.f*self.t+self.p))\n",
    "    def series(self,n=10):\n",
    "        return np.array([self(t*self.d) for t in range(n)])\n",
    "    def set_phase(self,phase=0.0):\n",
    "        self.p = phase\n",
    "hide_toggle('Function mysin')"
   ]
  },
  {
   "cell_type": "code",
   "execution_count": 15,
   "metadata": {},
   "outputs": [
    {
     "data": {
      "text/html": [
       "\n",
       "        <script>\n",
       "            function code_toggle_1870531097471831520() {\n",
       "                $('div.cell.code_cell.rendered.selected').find('div.input').toggle();\n",
       "            }\n",
       "\n",
       "            \n",
       "        </script>\n",
       "\n",
       "        <a href=\"javascript:code_toggle_1870531097471831520()\"><b>Function sinmix</b> (show/hide)</a>\n",
       "    "
      ],
      "text/plain": [
       "<IPython.core.display.HTML object>"
      ]
     },
     "execution_count": 15,
     "metadata": {},
     "output_type": "execute_result"
    }
   ],
   "source": [
    "def sinmix(X,m):\n",
    "    w = []\n",
    "    for i in range(X.shape[0]):\n",
    "        s = np.zeros(m)\n",
    "        for j in [2*k for k in range(int(X.shape[1]/2))]:\n",
    "            if (j/2)%2 == 0: s+=mysin(freq=X[i,j],phase=1.5,ampl=X[i,j+1]).series(m)\n",
    "            elif (j/2)%2 == 1: s+=np.tanh(mysin(freq=X[i,j],phase=1.5,ampl=X[i,j+1]).series(m))\n",
    "        w+=[s]\n",
    "    return np.array(w)\n",
    "hide_toggle('Function sinmix')"
   ]
  },
  {
   "cell_type": "markdown",
   "metadata": {},
   "source": [
    "Random time-series = random frequency (f) and amplitude (a); random instance of a class = random phase (p) and length (l). We will generate n random clusters in 4D = {$f_1$,$a_1$,$f_2$,$a_2$}. For starters we will choose phase and length as constants and sum the two sine waves for each 4D vector to get a time series of fixed length."
   ]
  },
  {
   "cell_type": "code",
   "execution_count": 16,
   "metadata": {},
   "outputs": [
    {
     "data": {
      "text/html": [
       "\n",
       "        <script>\n",
       "            function code_toggle_3684403316987316153() {\n",
       "                $('div.cell.code_cell.rendered.selected').find('div.input').toggle();\n",
       "            }\n",
       "\n",
       "            \n",
       "        </script>\n",
       "\n",
       "        <a href=\"javascript:code_toggle_3684403316987316153()\"><b>Function sinDataset</b> (show/hide)</a>\n",
       "    "
      ],
      "text/plain": [
       "<IPython.core.display.HTML object>"
      ]
     },
     "execution_count": 16,
     "metadata": {},
     "output_type": "execute_result"
    }
   ],
   "source": [
    "def sinDataset(n_samples=10,n_classes=10,length=10,batch_size=1):\n",
    "    n_features = 4\n",
    "    X,y = skds.make_classification(n_samples=n_samples,n_classes=n_classes,\n",
    "                                   class_sep=4.0,n_features=n_features, \n",
    "                                 n_informative=n_features,n_redundant=0,\n",
    "                                 n_repeated=0,n_clusters_per_class=1)\n",
    "    X = X-X.min()+0.1\n",
    "    S = sinmix(X,length)\n",
    "    X_train,X_test,y_train,y_test = train_test_split(S,y)\n",
    "    ds = MyDS(X_train,y_train)\n",
    "    ds_hold = MyDS(X_test,y_test)\n",
    "    dsloader = torch.utils.data.DataLoader(dataset=ds,batch_size=1,shuffle=True)\n",
    "    return ds,ds_hold,dsloader\n",
    "hide_toggle('Function sinDataset')"
   ]
  },
  {
   "cell_type": "markdown",
   "metadata": {},
   "source": [
    "MNIST Dataset"
   ]
  },
  {
   "cell_type": "code",
   "execution_count": 17,
   "metadata": {},
   "outputs": [
    {
     "data": {
      "text/html": [
       "\n",
       "        <script>\n",
       "            function code_toggle_16686789631739225717() {\n",
       "                $('div.cell.code_cell.rendered.selected').find('div.input').toggle();\n",
       "            }\n",
       "\n",
       "            \n",
       "        </script>\n",
       "\n",
       "        <a href=\"javascript:code_toggle_16686789631739225717()\"><b>Function mnist_data</b> (show/hide)</a>\n",
       "    "
      ],
      "text/plain": [
       "<IPython.core.display.HTML object>"
      ]
     },
     "execution_count": 17,
     "metadata": {},
     "output_type": "execute_result"
    }
   ],
   "source": [
    "def mnist_data(batch_size=32,frac=1.0):\n",
    "    trainset = MNIST('./data', train=True, download=False)\n",
    "    X_train = trainset.data.numpy().reshape(60000, -1).astype(np.float) / 255\n",
    "    n_train = int(X_train.shape[0]*frac)\n",
    "    X_train = X_train[0:n_train]\n",
    "    y_train = trainset.targets\n",
    "    y_train = y_train[0:n_train]\n",
    "    testset = MNIST('./data', train=False, download=False)\n",
    "    X_test = testset.data.numpy().reshape(10000, -1).astype(np.float) / 255\n",
    "    y_test = testset.targets\n",
    "    ds = MyDS(X_train,y_train)\n",
    "    ds_hold = MyDS(X_test,y_test)\n",
    "    dsloader = torch.utils.data.DataLoader(dataset=ds,batch_size=batch_size,shuffle=True)\n",
    "    return ds,ds_hold,dsloader\n",
    "hide_toggle('Function mnist_data')"
   ]
  },
  {
   "cell_type": "code",
   "execution_count": null,
   "metadata": {},
   "outputs": [],
   "source": []
  }
 ],
 "metadata": {
  "kernelspec": {
   "display_name": "Python 3",
   "language": "python",
   "name": "python3"
  },
  "language_info": {
   "codemirror_mode": {
    "name": "ipython",
    "version": 3
   },
   "file_extension": ".py",
   "mimetype": "text/x-python",
   "name": "python",
   "nbconvert_exporter": "python",
   "pygments_lexer": "ipython3",
   "version": "3.7.9"
  }
 },
 "nbformat": 4,
 "nbformat_minor": 4
}
