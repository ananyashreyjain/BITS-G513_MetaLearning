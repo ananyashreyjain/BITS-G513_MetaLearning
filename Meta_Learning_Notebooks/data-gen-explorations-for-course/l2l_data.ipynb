{
 "cells": [
  {
   "cell_type": "code",
   "execution_count": 1,
   "metadata": {},
   "outputs": [],
   "source": [
    "import learn2learn as l2l\n",
    "from learn2learn.data import MetaDataset, TaskDataset\n",
    "import sklearn.datasets as skds\n",
    "import pandas as pd, torch, numpy as np\n",
    "from torch.utils.data import Dataset\n",
    "from sklearn.manifold import TSNE\n",
    "from matplotlib import pyplot as plt"
   ]
  },
  {
   "cell_type": "code",
   "execution_count": 2,
   "metadata": {},
   "outputs": [],
   "source": [
    "sf={'n_samples':5000,'n_classes':10,'n_features':4,'class_sep':4.0,'n_informative':4,'n_redundant':0,'n_repeated':0}\n",
    "sf['n_clusters_per_class']=1\n",
    "sf['k']=2\n",
    "sf['shots']=50"
   ]
  },
  {
   "cell_type": "code",
   "execution_count": 3,
   "metadata": {},
   "outputs": [
    {
     "data": {
      "text/plain": [
       "(array([[0.28879113, 0.15444666, 0.34695741, 0.40961855],\n",
       "        [0.5591749 , 0.13848571, 0.73336965, 0.33598235],\n",
       "        [0.20831306, 0.18691015, 0.6494466 , 0.38804613],\n",
       "        ...,\n",
       "        [0.1672839 , 0.2340568 , 0.41981924, 0.27602191],\n",
       "        [0.67544187, 0.20074328, 0.73862534, 0.25865165],\n",
       "        [0.71724915, 0.67559933, 0.24072741, 0.84262419]]),\n",
       " array([7, 8, 6, ..., 7, 8, 4]))"
      ]
     },
     "execution_count": 3,
     "metadata": {},
     "output_type": "execute_result"
    }
   ],
   "source": [
    "X,y = skds.make_classification(n_samples=sf['n_samples'],n_classes=sf['n_classes'],\n",
    "                                 class_sep=sf['class_sep'],n_features = sf['n_features'], \n",
    "                                 n_informative=sf['n_informative'],n_redundant=sf['n_redundant'],\n",
    "                                 n_repeated=sf['n_repeated'],n_clusters_per_class=sf['n_clusters_per_class'])\n",
    "X = X-np.min(X,axis=0)\n",
    "X = X/np.max(X,axis=0)\n",
    "X,y"
   ]
  },
  {
   "cell_type": "code",
   "execution_count": 4,
   "metadata": {},
   "outputs": [
    {
     "data": {
      "image/png": "[encoded data removed]",
      "text/plain": [
       "<Figure size 432x288 with 1 Axes>"
      ]
     },
     "metadata": {
      "needs_background": "light"
     },
     "output_type": "display_data"
    }
   ],
   "source": [
    "tsne = TSNE()\n",
    "X_2d = tsne.fit_transform(X)\n",
    "#colors = ['r','b','g','y','black']\n",
    "#c = [colors[i] for i in list(y)]\n",
    "plt.scatter(X_2d[:,0],X_2d[:,1])\n",
    "plt.show()"
   ]
  },
  {
   "cell_type": "code",
   "execution_count": 4,
   "metadata": {},
   "outputs": [],
   "source": [
    "class MyDS(Dataset):\n",
    "    def __init__(self, X,y):\n",
    "        self.samples = torch.DoubleTensor(X)\n",
    "        self.labels = torch.LongTensor(y)\n",
    "    def __len__(self):\n",
    "        return len(self.samples)\n",
    "    def __getitem__(self, idx):\n",
    "        return (self.samples[idx],self.labels[idx])"
   ]
  },
  {
   "cell_type": "code",
   "execution_count": 5,
   "metadata": {},
   "outputs": [],
   "source": [
    "myds = MyDS(X,y)"
   ]
  },
  {
   "cell_type": "code",
   "execution_count": 6,
   "metadata": {},
   "outputs": [],
   "source": [
    "my_train = l2l.data.MetaDataset(myds)\n",
    "my_tasks = l2l.data.TaskDataset(my_train, task_transforms=[\n",
    "                                l2l.data.transforms.NWays(my_train, sf['k']),\n",
    "                                l2l.data.transforms.KShots(my_train, 2*sf['shots']),\n",
    "                                l2l.data.transforms.LoadData(my_train),\n",
    "                                l2l.data.transforms.RemapLabels(my_train),\n",
    "                                l2l.data.transforms.ConsecutiveLabels(my_train)\n",
    "                                ],num_tasks=10)"
   ]
  },
  {
   "cell_type": "code",
   "execution_count": 7,
   "metadata": {},
   "outputs": [],
   "source": [
    "data, labels = my_tasks.sample()"
   ]
  },
  {
   "cell_type": "code",
   "execution_count": 8,
   "metadata": {},
   "outputs": [
    {
     "data": {
      "text/plain": [
       "[tensor([[0.1660, 0.6961, 0.2267, 0.3530],\n",
       "         [0.1926, 0.6662, 0.2791, 0.3193],\n",
       "         [0.2291, 0.7928, 0.3521, 0.2011],\n",
       "         [0.1752, 0.7611, 0.2719, 0.3332],\n",
       "         [0.1686, 0.5377, 0.2252, 0.3453],\n",
       "         [0.2356, 0.7749, 0.3005, 0.3198],\n",
       "         [0.2829, 0.8020, 0.3074, 0.3964],\n",
       "         [0.2196, 0.6823, 0.2800, 0.2981],\n",
       "         [0.1418, 0.5604, 0.3076, 0.2658],\n",
       "         [0.2982, 0.7187, 0.2166, 0.3695],\n",
       "         [0.1294, 0.6007, 0.2345, 0.2649],\n",
       "         [0.1840, 0.7971, 0.3459, 0.2928],\n",
       "         [0.2841, 0.6372, 0.2891, 0.3139],\n",
       "         [0.1862, 0.6174, 0.3327, 0.2665],\n",
       "         [0.2377, 0.7960, 0.3169, 0.2245],\n",
       "         [0.2351, 0.7762, 0.3280, 0.2483],\n",
       "         [0.2699, 0.7402, 0.3251, 0.2809],\n",
       "         [0.1742, 0.5543, 0.2599, 0.3229],\n",
       "         [0.2731, 0.7015, 0.3443, 0.2804],\n",
       "         [0.1778, 0.7094, 0.2726, 0.2668],\n",
       "         [0.1957, 0.5938, 0.2873, 0.2887],\n",
       "         [0.3624, 0.6902, 0.2829, 0.3441],\n",
       "         [0.1808, 0.7347, 0.3239, 0.3374],\n",
       "         [0.2813, 0.7374, 0.4018, 0.2314],\n",
       "         [0.2582, 0.7532, 0.2734, 0.3047],\n",
       "         [0.2292, 0.7081, 0.3222, 0.2439],\n",
       "         [0.2640, 0.8590, 0.3245, 0.2938],\n",
       "         [0.1369, 0.7422, 0.2560, 0.3063],\n",
       "         [0.1287, 0.7256, 0.2755, 0.1696],\n",
       "         [0.2685, 0.5735, 0.2878, 0.3050],\n",
       "         [0.2533, 0.7711, 0.3386, 0.2520],\n",
       "         [0.2580, 0.6365, 0.3470, 0.2003],\n",
       "         [0.2469, 0.7162, 0.2894, 0.2720],\n",
       "         [0.2250, 0.8025, 0.3596, 0.2309],\n",
       "         [0.1422, 0.4878, 0.3193, 0.3010],\n",
       "         [0.2580, 0.6929, 0.2936, 0.2868],\n",
       "         [0.2246, 0.7950, 0.3233, 0.2788],\n",
       "         [0.2313, 0.7922, 0.3595, 0.1959],\n",
       "         [0.2073, 0.5725, 0.2874, 0.3102],\n",
       "         [0.2249, 0.5492, 0.2106, 0.4012],\n",
       "         [0.2280, 0.8605, 0.3054, 0.2808],\n",
       "         [0.2782, 0.7799, 0.3370, 0.2641],\n",
       "         [0.2262, 0.8884, 0.3458, 0.3337],\n",
       "         [0.2817, 0.7788, 0.2951, 0.3955],\n",
       "         [0.1677, 0.6782, 0.3363, 0.3280],\n",
       "         [0.2165, 0.7804, 0.3284, 0.2509],\n",
       "         [0.1497, 0.5254, 0.2386, 0.3003],\n",
       "         [0.2341, 0.5869, 0.2787, 0.3102],\n",
       "         [0.1346, 0.6147, 0.2589, 0.2882],\n",
       "         [0.2048, 0.7933, 0.3151, 0.2865],\n",
       "         [0.2393, 0.8167, 0.3788, 0.2965],\n",
       "         [0.2401, 0.5329, 0.2277, 0.3315],\n",
       "         [0.1793, 0.7323, 0.3593, 0.2364],\n",
       "         [0.2062, 0.5330, 0.2787, 0.2971],\n",
       "         [0.2104, 0.7940, 0.3534, 0.2690],\n",
       "         [0.1766, 0.7056, 0.2770, 0.2762],\n",
       "         [0.3120, 0.7065, 0.2677, 0.3245],\n",
       "         [0.2550, 0.7939, 0.3178, 0.3005],\n",
       "         [0.1871, 0.5684, 0.3926, 0.2225],\n",
       "         [0.3042, 0.6492, 0.3614, 0.2927],\n",
       "         [0.1898, 0.8029, 0.2835, 0.3300],\n",
       "         [0.1233, 0.7404, 0.2980, 0.2608],\n",
       "         [0.2067, 0.7293, 0.2634, 0.3073],\n",
       "         [0.2038, 0.6010, 0.3775, 0.2076],\n",
       "         [0.2472, 0.7376, 0.3788, 0.2535],\n",
       "         [0.2129, 0.7338, 0.3082, 0.2807],\n",
       "         [0.2697, 0.8547, 0.4057, 0.3219],\n",
       "         [0.2254, 0.6475, 0.3252, 0.2374],\n",
       "         [0.2310, 0.6561, 0.2450, 0.4164],\n",
       "         [0.2869, 0.7377, 0.3136, 0.2711],\n",
       "         [0.2466, 0.6665, 0.3036, 0.3776],\n",
       "         [0.2982, 0.6173, 0.3201, 0.2813],\n",
       "         [0.2327, 0.5388, 0.3133, 0.2551],\n",
       "         [0.1569, 0.6667, 0.2670, 0.3556],\n",
       "         [0.1978, 0.7005, 0.3012, 0.2361],\n",
       "         [0.2431, 0.6879, 0.3366, 0.2270],\n",
       "         [0.2584, 0.7957, 0.3228, 0.2455],\n",
       "         [0.2159, 0.7810, 0.2642, 0.3558],\n",
       "         [0.2742, 0.6797, 0.3998, 0.2062],\n",
       "         [0.2718, 0.8151, 0.3549, 0.2461],\n",
       "         [0.2047, 0.6968, 0.3655, 0.2175],\n",
       "         [0.2200, 0.5887, 0.2976, 0.3047],\n",
       "         [0.1436, 0.5124, 0.3528, 0.1788],\n",
       "         [0.2493, 0.7153, 0.2804, 0.3658],\n",
       "         [0.1748, 0.7772, 0.2871, 0.3042],\n",
       "         [0.1583, 0.6958, 0.3232, 0.2027],\n",
       "         [0.2083, 0.8723, 0.3040, 0.3448],\n",
       "         [0.0869, 0.8151, 0.3267, 0.2434],\n",
       "         [0.2793, 0.5740, 0.2483, 0.4075],\n",
       "         [0.2537, 0.6479, 0.2758, 0.3621],\n",
       "         [0.1929, 0.5375, 0.2890, 0.2881],\n",
       "         [0.1936, 0.7805, 0.2416, 0.3069],\n",
       "         [0.2093, 0.7163, 0.2666, 0.3041],\n",
       "         [0.2407, 0.6986, 0.2653, 0.3290],\n",
       "         [0.1701, 0.6747, 0.2706, 0.3337],\n",
       "         [0.1477, 0.7025, 0.2956, 0.3397],\n",
       "         [0.2994, 0.7050, 0.3284, 0.2710],\n",
       "         [0.2477, 0.6173, 0.2462, 0.3479],\n",
       "         [0.2886, 0.8667, 0.3367, 0.3906],\n",
       "         [0.1925, 0.5622, 0.2227, 0.3504],\n",
       "         [0.5889, 0.1365, 0.7735, 0.3990],\n",
       "         [0.6626, 0.2042, 0.7753, 0.2458],\n",
       "         [0.6005, 0.2389, 0.7950, 0.2054],\n",
       "         [0.7239, 0.1855, 0.8297, 0.3331],\n",
       "         [0.7104, 0.2056, 0.7071, 0.2187],\n",
       "         [0.7268, 0.2082, 0.7007, 0.2601],\n",
       "         [0.8286, 0.2557, 0.8319, 0.2941],\n",
       "         [0.8355, 0.2388, 0.6851, 0.2704],\n",
       "         [0.6477, 0.2195, 0.7721, 0.1690],\n",
       "         [0.6120, 0.2008, 0.8055, 0.2042],\n",
       "         [0.5870, 0.1853, 0.8594, 0.2022],\n",
       "         [0.5435, 0.1495, 0.8498, 0.3440],\n",
       "         [0.8180, 0.2226, 0.7313, 0.3611],\n",
       "         [0.6465, 0.2077, 0.7819, 0.2661],\n",
       "         [0.7133, 0.1959, 0.7589, 0.2378],\n",
       "         [0.7216, 0.2217, 0.7237, 0.3179],\n",
       "         [0.7803, 0.1927, 0.7994, 0.2423],\n",
       "         [0.6099, 0.1518, 0.7810, 0.3547],\n",
       "         [0.6050, 0.2235, 0.7946, 0.1718],\n",
       "         [0.7054, 0.2171, 0.8137, 0.2844],\n",
       "         [0.2911, 0.2437, 0.7438, 0.8481],\n",
       "         [0.7067, 0.1712, 0.7621, 0.2990],\n",
       "         [0.6747, 0.2008, 0.7884, 0.2348],\n",
       "         [0.8030, 0.2887, 0.7743, 0.1588],\n",
       "         [0.7351, 0.2306, 0.7294, 0.3256],\n",
       "         [0.7138, 0.2037, 0.7651, 0.2834],\n",
       "         [0.6470, 0.1942, 0.8154, 0.2046],\n",
       "         [0.7769, 0.2300, 0.7423, 0.2270],\n",
       "         [0.6397, 0.1625, 0.7825, 0.2926],\n",
       "         [0.7190, 0.2210, 0.6778, 0.3101],\n",
       "         [0.7930, 0.2284, 0.7427, 0.2592],\n",
       "         [0.6410, 0.1910, 0.7192, 0.3513],\n",
       "         [0.6166, 0.1674, 0.7270, 0.3112],\n",
       "         [0.6133, 0.1801, 0.7651, 0.3044],\n",
       "         [0.5734, 0.1784, 0.8097, 0.3208],\n",
       "         [0.5896, 0.1393, 0.7542, 0.3992],\n",
       "         [0.8300, 0.2896, 0.6199, 0.2196],\n",
       "         [0.6927, 0.1920, 0.7932, 0.2068],\n",
       "         [0.7981, 0.2377, 0.6782, 0.2021],\n",
       "         [0.5840, 0.1965, 0.8127, 0.2868],\n",
       "         [0.7531, 0.2103, 0.7765, 0.2983],\n",
       "         [0.2532, 0.1996, 0.2556, 0.3293],\n",
       "         [0.5054, 0.1345, 0.9255, 0.3319],\n",
       "         [0.7559, 0.2564, 0.6403, 0.3390],\n",
       "         [0.7018, 0.2556, 0.7129, 0.3463],\n",
       "         [0.6963, 0.1991, 0.7772, 0.3625],\n",
       "         [0.6104, 0.1817, 0.7918, 0.2426],\n",
       "         [0.8337, 0.2222, 0.7246, 0.3351],\n",
       "         [0.7239, 0.2271, 0.7926, 0.3358],\n",
       "         [0.8320, 0.2845, 0.6879, 0.2515],\n",
       "         [0.7690, 0.2539, 0.7089, 0.3478],\n",
       "         [0.8167, 0.2917, 0.6169, 0.3192],\n",
       "         [0.6464, 0.1806, 0.8030, 0.3979],\n",
       "         [0.7153, 0.2348, 0.7774, 0.2924],\n",
       "         [0.7999, 0.2198, 0.6963, 0.3965],\n",
       "         [0.4457, 0.1035, 0.8463, 0.2725],\n",
       "         [0.8719, 0.2763, 0.6451, 0.2669],\n",
       "         [0.6542, 0.1605, 0.7755, 0.3146],\n",
       "         [0.5383, 0.1625, 0.7835, 0.2532],\n",
       "         [0.6728, 0.2048, 0.7096, 0.2825],\n",
       "         [0.6598, 0.1949, 0.7401, 0.2254],\n",
       "         [0.7067, 0.1775, 0.6867, 0.3468],\n",
       "         [0.6126, 0.1574, 0.7854, 0.2269],\n",
       "         [0.8935, 0.2840, 0.6938, 0.3167],\n",
       "         [0.7622, 0.2047, 0.8242, 0.2790],\n",
       "         [0.6957, 0.1905, 0.8237, 0.2026],\n",
       "         [0.6925, 0.1942, 0.7982, 0.3650],\n",
       "         [0.5028, 0.1594, 0.8743, 0.3226],\n",
       "         [0.7215, 0.2080, 0.7745, 0.2893],\n",
       "         [0.7535, 0.2267, 0.7058, 0.3099],\n",
       "         [0.5894, 0.1548, 0.8464, 0.2081],\n",
       "         [0.7179, 0.2347, 0.7306, 0.2942],\n",
       "         [0.7728, 0.2681, 0.6517, 0.2355],\n",
       "         [0.6215, 0.1693, 0.8330, 0.2869],\n",
       "         [0.7537, 0.2363, 0.7012, 0.3256],\n",
       "         [0.7556, 0.2308, 0.6274, 0.2316],\n",
       "         [0.7099, 0.2016, 0.7573, 0.3624],\n",
       "         [0.7456, 0.2234, 0.7523, 0.2785],\n",
       "         [0.5689, 0.1899, 0.8199, 0.3248],\n",
       "         [0.6532, 0.1805, 0.8004, 0.3159],\n",
       "         [0.7527, 0.2151, 0.8234, 0.3209],\n",
       "         [0.6519, 0.1985, 0.8029, 0.2416],\n",
       "         [0.5974, 0.1887, 0.7548, 0.3274],\n",
       "         [0.6555, 0.2404, 0.7596, 0.2100],\n",
       "         [0.6008, 0.1730, 0.8514, 0.2551],\n",
       "         [0.7399, 0.2261, 0.6865, 0.2286],\n",
       "         [0.7221, 0.2034, 0.7523, 0.2361],\n",
       "         [0.6755, 0.2288, 0.7381, 0.2746],\n",
       "         [0.6779, 0.2015, 0.6975, 0.2684],\n",
       "         [0.6489, 0.1767, 0.7631, 0.3399],\n",
       "         [0.7215, 0.2278, 0.7860, 0.3044],\n",
       "         [0.5985, 0.1421, 0.7804, 0.3701],\n",
       "         [0.6780, 0.2349, 0.7958, 0.2339],\n",
       "         [0.6581, 0.1736, 0.8888, 0.2776],\n",
       "         [0.6135, 0.1805, 0.8073, 0.3035],\n",
       "         [0.8067, 0.1792, 0.7898, 0.3521],\n",
       "         [0.6179, 0.2004, 0.8275, 0.2060],\n",
       "         [0.7916, 0.2228, 0.7423, 0.2740],\n",
       "         [0.5732, 0.1975, 0.8114, 0.1697],\n",
       "         [0.6684, 0.2171, 0.7310, 0.2941]], dtype=torch.float64),\n",
       " tensor([1, 1, 1, 1, 1, 1, 1, 1, 1, 1, 1, 1, 1, 1, 1, 1, 1, 1, 1, 1, 1, 1, 1, 1,\n",
       "         1, 1, 1, 1, 1, 1, 1, 1, 1, 1, 1, 1, 1, 1, 1, 1, 1, 1, 1, 1, 1, 1, 1, 1,\n",
       "         1, 1, 1, 1, 1, 1, 1, 1, 1, 1, 1, 1, 1, 1, 1, 1, 1, 1, 1, 1, 1, 1, 1, 1,\n",
       "         1, 1, 1, 1, 1, 1, 1, 1, 1, 1, 1, 1, 1, 1, 1, 1, 1, 1, 1, 1, 1, 1, 1, 1,\n",
       "         1, 1, 1, 1, 0, 0, 0, 0, 0, 0, 0, 0, 0, 0, 0, 0, 0, 0, 0, 0, 0, 0, 0, 0,\n",
       "         0, 0, 0, 0, 0, 0, 0, 0, 0, 0, 0, 0, 0, 0, 0, 0, 0, 0, 0, 0, 0, 0, 0, 0,\n",
       "         0, 0, 0, 0, 0, 0, 0, 0, 0, 0, 0, 0, 0, 0, 0, 0, 0, 0, 0, 0, 0, 0, 0, 0,\n",
       "         0, 0, 0, 0, 0, 0, 0, 0, 0, 0, 0, 0, 0, 0, 0, 0, 0, 0, 0, 0, 0, 0, 0, 0,\n",
       "         0, 0, 0, 0, 0, 0, 0, 0])]"
      ]
     },
     "execution_count": 8,
     "metadata": {},
     "output_type": "execute_result"
    }
   ],
   "source": [
    "my_tasks.sample()"
   ]
  },
  {
   "cell_type": "code",
   "execution_count": 9,
   "metadata": {},
   "outputs": [
    {
     "data": {
      "text/plain": [
       "tensor([0, 0, 0, 0, 0, 0, 0, 0, 0, 0, 0, 0, 0, 0, 0, 0, 0, 0, 0, 0, 0, 0, 0, 0,\n",
       "        0, 0, 0, 0, 0, 0, 0, 0, 0, 0, 0, 0, 0, 0, 0, 0, 0, 0, 0, 0, 0, 0, 0, 0,\n",
       "        0, 0, 0, 0, 0, 0, 0, 0, 0, 0, 0, 0, 0, 0, 0, 0, 0, 0, 0, 0, 0, 0, 0, 0,\n",
       "        0, 0, 0, 0, 0, 0, 0, 0, 0, 0, 0, 0, 0, 0, 0, 0, 0, 0, 0, 0, 0, 0, 0, 0,\n",
       "        0, 0, 0, 0, 1, 1, 1, 1, 1, 1, 1, 1, 1, 1, 1, 1, 1, 1, 1, 1, 1, 1, 1, 1,\n",
       "        1, 1, 1, 1, 1, 1, 1, 1, 1, 1, 1, 1, 1, 1, 1, 1, 1, 1, 1, 1, 1, 1, 1, 1,\n",
       "        1, 1, 1, 1, 1, 1, 1, 1, 1, 1, 1, 1, 1, 1, 1, 1, 1, 1, 1, 1, 1, 1, 1, 1,\n",
       "        1, 1, 1, 1, 1, 1, 1, 1, 1, 1, 1, 1, 1, 1, 1, 1, 1, 1, 1, 1, 1, 1, 1, 1,\n",
       "        1, 1, 1, 1, 1, 1, 1, 1])"
      ]
     },
     "execution_count": 9,
     "metadata": {},
     "output_type": "execute_result"
    }
   ],
   "source": [
    "labels"
   ]
  },
  {
   "cell_type": "code",
   "execution_count": 10,
   "metadata": {},
   "outputs": [],
   "source": [
    "adaptation_indices = np.zeros(data.size(0), dtype=bool)\n",
    "adaptation_indices[np.arange(sf['shots']*sf['k']) * 2] = True\n",
    "evaluation_indices = torch.from_numpy(~adaptation_indices)\n",
    "adaptation_indices = torch.from_numpy(adaptation_indices)\n",
    "adaptation_data, adaptation_labels = data[adaptation_indices], labels[adaptation_indices]\n",
    "evaluation_data, evaluation_labels = data[evaluation_indices], labels[evaluation_indices]"
   ]
  },
  {
   "cell_type": "code",
   "execution_count": 11,
   "metadata": {},
   "outputs": [
    {
     "data": {
      "text/plain": [
       "array([  0,   2,   4,   6,   8,  10,  12,  14,  16,  18,  20,  22,  24,\n",
       "        26,  28,  30,  32,  34,  36,  38,  40,  42,  44,  46,  48,  50,\n",
       "        52,  54,  56,  58,  60,  62,  64,  66,  68,  70,  72,  74,  76,\n",
       "        78,  80,  82,  84,  86,  88,  90,  92,  94,  96,  98, 100, 102,\n",
       "       104, 106, 108, 110, 112, 114, 116, 118, 120, 122, 124, 126, 128,\n",
       "       130, 132, 134, 136, 138, 140, 142, 144, 146, 148, 150, 152, 154,\n",
       "       156, 158, 160, 162, 164, 166, 168, 170, 172, 174, 176, 178, 180,\n",
       "       182, 184, 186, 188, 190, 192, 194, 196, 198])"
      ]
     },
     "execution_count": 11,
     "metadata": {},
     "output_type": "execute_result"
    }
   ],
   "source": [
    "np.arange(sf['shots']*sf['k']) * 2"
   ]
  },
  {
   "cell_type": "code",
   "execution_count": 12,
   "metadata": {},
   "outputs": [
    {
     "data": {
      "text/plain": [
       "(tensor([[0.2419, 0.1826, 0.3604, 0.2290],\n",
       "         [0.2727, 0.1393, 0.3362, 0.2952],\n",
       "         [0.1729, 0.2492, 0.3327, 0.1683],\n",
       "         [0.2487, 0.1942, 0.3498, 0.4077],\n",
       "         [0.2333, 0.1972, 0.3284, 0.2070],\n",
       "         [0.2260, 0.2436, 0.2214, 0.2908],\n",
       "         [0.3246, 0.1355, 0.1950, 0.3511],\n",
       "         [0.1342, 0.3045, 0.2686, 0.2170],\n",
       "         [0.2310, 0.2180, 0.2392, 0.3251],\n",
       "         [0.2689, 0.1861, 0.2605, 0.3427],\n",
       "         [0.2080, 0.2092, 0.3157, 0.2307],\n",
       "         [0.1643, 0.2624, 0.3183, 0.2192],\n",
       "         [0.2094, 0.2129, 0.2831, 0.2634],\n",
       "         [0.2090, 0.2102, 0.3205, 0.3660],\n",
       "         [0.2105, 0.1905, 0.3738, 0.1998],\n",
       "         [0.2468, 0.2306, 0.2416, 0.2774],\n",
       "         [0.1277, 0.2786, 0.3643, 0.1702],\n",
       "         [0.1998, 0.2110, 0.3195, 0.2352],\n",
       "         [0.1359, 0.2391, 0.4730, 0.1942],\n",
       "         [0.1994, 0.2765, 0.1761, 0.2402],\n",
       "         [0.2087, 0.2661, 0.1792, 0.3113],\n",
       "         [0.2670, 0.1797, 0.1929, 0.2067],\n",
       "         [0.2779, 0.1614, 0.3089, 0.3824],\n",
       "         [0.3284, 0.1275, 0.2421, 0.4186],\n",
       "         [0.2005, 0.2090, 0.4072, 0.3368],\n",
       "         [0.2519, 0.1705, 0.3539, 0.2649],\n",
       "         [0.2413, 0.2188, 0.2538, 0.3079],\n",
       "         [0.2119, 0.2209, 0.3435, 0.3215],\n",
       "         [0.1354, 0.3232, 0.2910, 0.2029],\n",
       "         [0.3262, 0.0944, 0.3471, 0.4185],\n",
       "         [0.2036, 0.2487, 0.3453, 0.3788],\n",
       "         [0.2060, 0.1925, 0.3453, 0.1903],\n",
       "         [0.1886, 0.1878, 0.3873, 0.1983],\n",
       "         [0.1770, 0.2112, 0.4601, 0.2768],\n",
       "         [0.2292, 0.1818, 0.3186, 0.1671],\n",
       "         [0.2485, 0.1861, 0.2735, 0.2703],\n",
       "         [0.0930, 0.3100, 0.4278, 0.2215],\n",
       "         [0.1292, 0.3331, 0.2595, 0.1590],\n",
       "         [0.1894, 0.2396, 0.2572, 0.2434],\n",
       "         [0.2248, 0.2318, 0.2232, 0.3225],\n",
       "         [0.2508, 0.1873, 0.2523, 0.3151],\n",
       "         [0.1429, 0.2778, 0.2852, 0.1299],\n",
       "         [0.2124, 0.2568, 0.1981, 0.3078],\n",
       "         [0.2842, 0.1640, 0.2633, 0.2931],\n",
       "         [0.2039, 0.2396, 0.3227, 0.2976],\n",
       "         [0.2367, 0.1361, 0.4100, 0.2478],\n",
       "         [0.1603, 0.2695, 0.3050, 0.2021],\n",
       "         [0.2634, 0.2326, 0.1279, 0.3314],\n",
       "         [0.2665, 0.2107, 0.1642, 0.3873],\n",
       "         [0.2524, 0.1664, 0.2994, 0.3024],\n",
       "         [0.8163, 0.7444, 0.3347, 0.3494],\n",
       "         [0.6476, 0.6776, 0.2869, 0.2677],\n",
       "         [0.5479, 0.7150, 0.2744, 0.1928],\n",
       "         [0.6824, 0.7199, 0.3104, 0.2616],\n",
       "         [0.8480, 0.7242, 0.3367, 0.3377],\n",
       "         [0.7526, 0.6974, 0.3070, 0.3112],\n",
       "         [0.5191, 0.5969, 0.2553, 0.2167],\n",
       "         [0.6116, 0.6932, 0.2724, 0.2330],\n",
       "         [0.8212, 0.7987, 0.3489, 0.3356],\n",
       "         [0.8019, 0.7459, 0.3369, 0.3265],\n",
       "         [0.7175, 0.7134, 0.3124, 0.2934],\n",
       "         [0.6286, 0.6772, 0.2716, 0.2368],\n",
       "         [0.7517, 0.6775, 0.3131, 0.2904],\n",
       "         [0.5728, 0.6494, 0.2693, 0.2049],\n",
       "         [0.5102, 0.5240, 0.2394, 0.2185],\n",
       "         [0.7403, 0.7081, 0.2995, 0.2790],\n",
       "         [0.4977, 0.6861, 0.2679, 0.1929],\n",
       "         [0.5110, 0.5780, 0.2558, 0.2102],\n",
       "         [0.5451, 0.6496, 0.2844, 0.2439],\n",
       "         [0.6854, 0.6715, 0.3183, 0.2948],\n",
       "         [0.4859, 0.6186, 0.2772, 0.2068],\n",
       "         [0.8498, 0.6981, 0.3358, 0.3747],\n",
       "         [0.8526, 0.7863, 0.3613, 0.3624],\n",
       "         [0.6634, 0.7749, 0.2989, 0.2319],\n",
       "         [0.7872, 0.7024, 0.3456, 0.3359],\n",
       "         [0.6721, 0.7387, 0.2910, 0.2696],\n",
       "         [0.6819, 0.8005, 0.3326, 0.2561],\n",
       "         [0.5355, 0.7420, 0.2745, 0.1850],\n",
       "         [0.7483, 0.6277, 0.3343, 0.3443],\n",
       "         [0.5899, 0.6551, 0.2838, 0.2154],\n",
       "         [0.7402, 0.8748, 0.3283, 0.2832],\n",
       "         [0.4732, 0.6069, 0.2378, 0.1492],\n",
       "         [0.8081, 0.7123, 0.3343, 0.3243],\n",
       "         [0.7568, 0.6763, 0.3169, 0.3043],\n",
       "         [0.6717, 0.7122, 0.3017, 0.2491],\n",
       "         [0.7734, 0.6144, 0.3222, 0.3453],\n",
       "         [0.5369, 0.7629, 0.2664, 0.1426],\n",
       "         [0.7761, 0.7475, 0.3079, 0.2931],\n",
       "         [0.6360, 0.6589, 0.2951, 0.2629],\n",
       "         [0.6187, 0.5776, 0.2743, 0.2584],\n",
       "         [0.6147, 0.6357, 0.2902, 0.2342],\n",
       "         [0.7064, 0.7262, 0.2902, 0.2651],\n",
       "         [0.6368, 0.5978, 0.3016, 0.2974],\n",
       "         [0.8314, 0.7157, 0.3494, 0.3690],\n",
       "         [0.8133, 0.7953, 0.3436, 0.3356],\n",
       "         [0.5927, 0.6520, 0.3179, 0.2722],\n",
       "         [0.7767, 0.6729, 0.3359, 0.3427],\n",
       "         [0.6722, 0.6079, 0.3138, 0.2910],\n",
       "         [0.5576, 0.8055, 0.2893, 0.2127],\n",
       "         [0.6013, 0.7193, 0.2930, 0.2436]], dtype=torch.float64),\n",
       " tensor([0, 0, 0, 0, 0, 0, 0, 0, 0, 0, 0, 0, 0, 0, 0, 0, 0, 0, 0, 0, 0, 0, 0, 0,\n",
       "         0, 0, 0, 0, 0, 0, 0, 0, 0, 0, 0, 0, 0, 0, 0, 0, 0, 0, 0, 0, 0, 0, 0, 0,\n",
       "         0, 0, 1, 1, 1, 1, 1, 1, 1, 1, 1, 1, 1, 1, 1, 1, 1, 1, 1, 1, 1, 1, 1, 1,\n",
       "         1, 1, 1, 1, 1, 1, 1, 1, 1, 1, 1, 1, 1, 1, 1, 1, 1, 1, 1, 1, 1, 1, 1, 1,\n",
       "         1, 1, 1, 1]))"
      ]
     },
     "execution_count": 12,
     "metadata": {},
     "output_type": "execute_result"
    }
   ],
   "source": [
    "adaptation_data, adaptation_labels"
   ]
  },
  {
   "cell_type": "code",
   "execution_count": 13,
   "metadata": {},
   "outputs": [
    {
     "name": "stdout",
     "output_type": "stream",
     "text": [
      "importing Jupyter notebook from sinedata.ipynb\n"
     ]
    },
    {
     "data": {
      "image/png": "[encoded data removed]",
      "text/plain": [
       "<Figure size 432x288 with 1 Axes>"
      ]
     },
     "metadata": {
      "needs_background": "light"
     },
     "output_type": "display_data"
    }
   ],
   "source": [
    "import import_ipynb\n",
    "from sinedata import mysin, sinmix "
   ]
  },
  {
   "cell_type": "code",
   "execution_count": 14,
   "metadata": {},
   "outputs": [],
   "source": [
    "X = adaptation_data.numpy()"
   ]
  },
  {
   "cell_type": "code",
   "execution_count": 15,
   "metadata": {},
   "outputs": [
    {
     "data": {
      "image/png": "[encoded data removed]",
      "text/plain": [
       "<Figure size 432x288 with 1 Axes>"
      ]
     },
     "metadata": {
      "needs_background": "light"
     },
     "output_type": "display_data"
    }
   ],
   "source": [
    "S = sinmix(adaptation_data,20)\n",
    "for i in range(S.shape[0]):\n",
    "    if i< 41: \n",
    "        plt.plot(S[i,:])\n",
    "        #print(adaptation_labels[i])\n",
    "plt.show()"
   ]
  },
  {
   "cell_type": "code",
   "execution_count": 17,
   "metadata": {},
   "outputs": [],
   "source": [
    "import torch.nn as nn\n",
    "from torch import functional as F"
   ]
  },
  {
   "cell_type": "code",
   "execution_count": 18,
   "metadata": {},
   "outputs": [],
   "source": [
    "transformer_model = nn.Transformer(nhead=1, num_encoder_layers=12,d_model=1)"
   ]
  },
  {
   "cell_type": "code",
   "execution_count": 19,
   "metadata": {},
   "outputs": [
    {
     "data": {
      "text/plain": [
       "(tensor([[[0.7901]],\n",
       " \n",
       "         [[0.6006]],\n",
       " \n",
       "         [[0.3995]],\n",
       " \n",
       "         [[0.0019]]]),\n",
       " tensor([[[0.9254]]]))"
      ]
     },
     "execution_count": 19,
     "metadata": {},
     "output_type": "execute_result"
    }
   ],
   "source": [
    "src = torch.rand((4, 1, 1))\n",
    "tgt = torch.rand((1, 1, 1))\n",
    "src, tgt"
   ]
  },
  {
   "cell_type": "code",
   "execution_count": 20,
   "metadata": {},
   "outputs": [
    {
     "data": {
      "text/plain": [
       "tensor([[[0.]]], grad_fn=<NativeLayerNormBackward>)"
      ]
     },
     "execution_count": 20,
     "metadata": {},
     "output_type": "execute_result"
    }
   ],
   "source": [
    "transformer_model(src,tgt)"
   ]
  },
  {
   "cell_type": "code",
   "execution_count": 21,
   "metadata": {},
   "outputs": [],
   "source": [
    "rnn = nn.GRU(1, 5, 3)\n",
    "lstm = nn.LSTM(1,5,3)\n",
    "linear = nn.Linear(5,2)\n",
    "logsoft = nn.LogSoftmax(dim=-1)\n",
    "loss = nn.NLLLoss()"
   ]
  },
  {
   "cell_type": "code",
   "execution_count": 35,
   "metadata": {},
   "outputs": [
    {
     "data": {
      "text/plain": [
       "(100, 20)"
      ]
     },
     "execution_count": 35,
     "metadata": {},
     "output_type": "execute_result"
    }
   ],
   "source": [
    "ST = torch.tensor(S).unsqueeze(-1).float()\n",
    "SU = torch.transpose(ST,0,1)\n",
    "SU.shape"
   ]
  },
  {
   "cell_type": "code",
   "execution_count": 23,
   "metadata": {},
   "outputs": [
    {
     "data": {
      "text/plain": [
       "tensor([[-0.5475, -0.8637],\n",
       "        [-0.5476, -0.8635],\n",
       "        [-0.5454, -0.8666],\n",
       "        [-0.5475, -0.8637],\n",
       "        [-0.5464, -0.8651],\n",
       "        [-0.5432, -0.8696],\n",
       "        [-0.5442, -0.8682],\n",
       "        [-0.5420, -0.8713],\n",
       "        [-0.5434, -0.8693],\n",
       "        [-0.5453, -0.8667],\n",
       "        [-0.5457, -0.8661],\n",
       "        [-0.5446, -0.8677],\n",
       "        [-0.5450, -0.8671],\n",
       "        [-0.5459, -0.8658],\n",
       "        [-0.5470, -0.8644],\n",
       "        [-0.5446, -0.8677],\n",
       "        [-0.5442, -0.8683],\n",
       "        [-0.5454, -0.8665],\n",
       "        [-0.5467, -0.8648],\n",
       "        [-0.5418, -0.8715],\n",
       "        [-0.5411, -0.8725],\n",
       "        [-0.5448, -0.8674],\n",
       "        [-0.5468, -0.8646],\n",
       "        [-0.5446, -0.8677],\n",
       "        [-0.5483, -0.8626],\n",
       "        [-0.5476, -0.8636],\n",
       "        [-0.5443, -0.8681],\n",
       "        [-0.5462, -0.8655],\n",
       "        [-0.5421, -0.8711],\n",
       "        [-0.5487, -0.8620],\n",
       "        [-0.5463, -0.8653],\n",
       "        [-0.5465, -0.8651],\n",
       "        [-0.5470, -0.8643],\n",
       "        [-0.5484, -0.8624],\n",
       "        [-0.5463, -0.8654],\n",
       "        [-0.5454, -0.8666],\n",
       "        [-0.5444, -0.8679],\n",
       "        [-0.5417, -0.8717],\n",
       "        [-0.5439, -0.8686],\n",
       "        [-0.5431, -0.8698],\n",
       "        [-0.5443, -0.8681],\n",
       "        [-0.5433, -0.8694],\n",
       "        [-0.5421, -0.8712],\n",
       "        [-0.5456, -0.8663],\n",
       "        [-0.5454, -0.8666],\n",
       "        [-0.5490, -0.8616],\n",
       "        [-0.5439, -0.8686],\n",
       "        [-0.5410, -0.8726],\n",
       "        [-0.5413, -0.8722],\n",
       "        [-0.5462, -0.8655],\n",
       "        [-0.5551, -0.8533],\n",
       "        [-0.5570, -0.8508],\n",
       "        [-0.5572, -0.8505],\n",
       "        [-0.5580, -0.8494],\n",
       "        [-0.5536, -0.8554],\n",
       "        [-0.5562, -0.8519],\n",
       "        [-0.5540, -0.8549],\n",
       "        [-0.5573, -0.8504],\n",
       "        [-0.5559, -0.8523],\n",
       "        [-0.5560, -0.8521],\n",
       "        [-0.5575, -0.8502],\n",
       "        [-0.5572, -0.8505],\n",
       "        [-0.5559, -0.8522],\n",
       "        [-0.5563, -0.8517],\n",
       "        [-0.5530, -0.8562],\n",
       "        [-0.5566, -0.8514],\n",
       "        [-0.5549, -0.8537],\n",
       "        [-0.5538, -0.8551],\n",
       "        [-0.5561, -0.8520],\n",
       "        [-0.5577, -0.8499],\n",
       "        [-0.5540, -0.8548],\n",
       "        [-0.5529, -0.8564],\n",
       "        [-0.5542, -0.8545],\n",
       "        [-0.5593, -0.8477],\n",
       "        [-0.5559, -0.8523],\n",
       "        [-0.5584, -0.8489],\n",
       "        [-0.5605, -0.8461],\n",
       "        [-0.5569, -0.8510],\n",
       "        [-0.5558, -0.8524],\n",
       "        [-0.5568, -0.8510],\n",
       "        [-0.5596, -0.8473],\n",
       "        [-0.5532, -0.8559],\n",
       "        [-0.5547, -0.8539],\n",
       "        [-0.5564, -0.8517],\n",
       "        [-0.5582, -0.8492],\n",
       "        [-0.5543, -0.8544],\n",
       "        [-0.5578, -0.8497],\n",
       "        [-0.5560, -0.8521],\n",
       "        [-0.5573, -0.8504],\n",
       "        [-0.5556, -0.8526],\n",
       "        [-0.5563, -0.8518],\n",
       "        [-0.5572, -0.8506],\n",
       "        [-0.5563, -0.8518],\n",
       "        [-0.5542, -0.8546],\n",
       "        [-0.5557, -0.8525],\n",
       "        [-0.5571, -0.8507],\n",
       "        [-0.5558, -0.8524],\n",
       "        [-0.5567, -0.8512],\n",
       "        [-0.5588, -0.8483],\n",
       "        [-0.5579, -0.8496]], grad_fn=<LogSoftmaxBackward>)"
      ]
     },
     "execution_count": 23,
     "metadata": {},
     "output_type": "execute_result"
    }
   ],
   "source": [
    "h = torch.rand(3,SU.shape[1],5)\n",
    "H = rnn(SU,h)[1]\n",
    "G=logsoft(linear(H[-1,:,:]))\n",
    "G"
   ]
  },
  {
   "cell_type": "code",
   "execution_count": 24,
   "metadata": {},
   "outputs": [
    {
     "name": "stdout",
     "output_type": "stream",
     "text": [
      "importing Jupyter notebook from models.ipynb\n"
     ]
    }
   ],
   "source": [
    "from models import MyGRU1"
   ]
  },
  {
   "cell_type": "code",
   "execution_count": 65,
   "metadata": {},
   "outputs": [
    {
     "data": {
      "text/plain": [
       "torch.Size([1, 2])"
      ]
     },
     "execution_count": 65,
     "metadata": {},
     "output_type": "execute_result"
    }
   ],
   "source": [
    "X = torch.rand(1,50,1)\n",
    "mygru = MyGRU1(1,5,3,2)\n",
    "mygru(X).shape"
   ]
  },
  {
   "cell_type": "code",
   "execution_count": 30,
   "metadata": {},
   "outputs": [
    {
     "data": {
      "text/plain": [
       "tensor([0, 0, 0, 0, 0, 0, 0, 0, 0, 0, 0, 0, 0, 0, 0, 0, 0, 0, 0, 0, 0, 0, 0, 0,\n",
       "        0, 0, 0, 0, 0, 0, 0, 0, 0, 0, 0, 0, 0, 0, 0, 0, 0, 0, 0, 0, 0, 0, 0, 0,\n",
       "        0, 0, 1, 1, 1, 1, 1, 1, 1, 1, 1, 1, 1, 1, 1, 1, 1, 1, 1, 1, 1, 1, 1, 1,\n",
       "        1, 1, 1, 1, 1, 1, 1, 1, 1, 1, 1, 1, 1, 1, 1, 1, 1, 1, 1, 1, 1, 1, 1, 1,\n",
       "        1, 1, 1, 1])"
      ]
     },
     "execution_count": 30,
     "metadata": {},
     "output_type": "execute_result"
    }
   ],
   "source": [
    "adaptation_labels"
   ]
  },
  {
   "cell_type": "code",
   "execution_count": 39,
   "metadata": {},
   "outputs": [],
   "source": [
    "optimizer = torch.optim.Adam(mygru.parameters(),lr=1e-3)"
   ]
  },
  {
   "cell_type": "code",
   "execution_count": 55,
   "metadata": {},
   "outputs": [],
   "source": [
    "adaptation_data_sin = torch.tensor(sinmix(adaptation_data,20)).unsqueeze(-1).float()"
   ]
  },
  {
   "cell_type": "code",
   "execution_count": 69,
   "metadata": {},
   "outputs": [
    {
     "data": {
      "text/plain": [
       "torch.float64"
      ]
     },
     "execution_count": 69,
     "metadata": {},
     "output_type": "execute_result"
    }
   ],
   "source": [
    "torch.tensor(sinmix(adaptation_data,10)).dtype"
   ]
  },
  {
   "cell_type": "code",
   "execution_count": 57,
   "metadata": {
    "collapsed": true
   },
   "outputs": [
    {
     "data": {
      "text/plain": [
       "tensor([[-0.6995, -0.6868],\n",
       "        [-0.6998, -0.6865],\n",
       "        [-0.6983, -0.6880],\n",
       "        [-0.7004, -0.6859],\n",
       "        [-0.6992, -0.6871],\n",
       "        [-0.6977, -0.6886],\n",
       "        [-0.6981, -0.6883],\n",
       "        [-0.6973, -0.6890],\n",
       "        [-0.6983, -0.6880],\n",
       "        [-0.6989, -0.6875],\n",
       "        [-0.6990, -0.6874],\n",
       "        [-0.6982, -0.6881],\n",
       "        [-0.6987, -0.6876],\n",
       "        [-0.6993, -0.6870],\n",
       "        [-0.6993, -0.6871],\n",
       "        [-0.6984, -0.6880],\n",
       "        [-0.6981, -0.6882],\n",
       "        [-0.6990, -0.6874],\n",
       "        [-0.6990, -0.6873],\n",
       "        [-0.6970, -0.6893],\n",
       "        [-0.6968, -0.6895],\n",
       "        [-0.6981, -0.6882],\n",
       "        [-0.6998, -0.6866],\n",
       "        [-0.6989, -0.6875],\n",
       "        [-0.7004, -0.6859],\n",
       "        [-0.6996, -0.6867],\n",
       "        [-0.6985, -0.6878],\n",
       "        [-0.6996, -0.6868],\n",
       "        [-0.6972, -0.6891],\n",
       "        [-0.7007, -0.6857],\n",
       "        [-0.6997, -0.6866],\n",
       "        [-0.6990, -0.6874],\n",
       "        [-0.6992, -0.6871],\n",
       "        [-0.6999, -0.6864],\n",
       "        [-0.6989, -0.6874],\n",
       "        [-0.6988, -0.6876],\n",
       "        [-0.6984, -0.6879],\n",
       "        [-0.6969, -0.6894],\n",
       "        [-0.6979, -0.6884],\n",
       "        [-0.6979, -0.6884],\n",
       "        [-0.6987, -0.6876],\n",
       "        [-0.6974, -0.6890],\n",
       "        [-0.6972, -0.6892],\n",
       "        [-0.6989, -0.6874],\n",
       "        [-0.6992, -0.6872],\n",
       "        [-0.7001, -0.6862],\n",
       "        [-0.6979, -0.6884],\n",
       "        [-0.6968, -0.6895],\n",
       "        [-0.6972, -0.6891],\n",
       "        [-0.6994, -0.6869],\n",
       "        [-0.6997, -0.6867],\n",
       "        [-0.7027, -0.6837],\n",
       "        [-0.7036, -0.6828],\n",
       "        [-0.7022, -0.6841],\n",
       "        [-0.6983, -0.6880],\n",
       "        [-0.7008, -0.6856],\n",
       "        [-0.7032, -0.6832],\n",
       "        [-0.7030, -0.6834],\n",
       "        [-0.6994, -0.6870],\n",
       "        [-0.6998, -0.6866],\n",
       "        [-0.7017, -0.6846],\n",
       "        [-0.7029, -0.6835],\n",
       "        [-0.7008, -0.6855],\n",
       "        [-0.7034, -0.6830],\n",
       "        [-0.7025, -0.6838],\n",
       "        [-0.7011, -0.6853],\n",
       "        [-0.7036, -0.6828],\n",
       "        [-0.7030, -0.6834],\n",
       "        [-0.7035, -0.6829],\n",
       "        [-0.7024, -0.6840],\n",
       "        [-0.7034, -0.6830],\n",
       "        [-0.6988, -0.6875],\n",
       "        [-0.6986, -0.6877],\n",
       "        [-0.7029, -0.6835],\n",
       "        [-0.7004, -0.6860],\n",
       "        [-0.7026, -0.6838],\n",
       "        [-0.7027, -0.6837],\n",
       "        [-0.7036, -0.6828],\n",
       "        [-0.7013, -0.6850],\n",
       "        [-0.7032, -0.6831],\n",
       "        [-0.7014, -0.6849],\n",
       "        [-0.7028, -0.6835],\n",
       "        [-0.6994, -0.6869],\n",
       "        [-0.7009, -0.6855],\n",
       "        [-0.7025, -0.6839],\n",
       "        [-0.7005, -0.6859],\n",
       "        [-0.7038, -0.6826],\n",
       "        [-0.7003, -0.6861],\n",
       "        [-0.7029, -0.6835],\n",
       "        [-0.7025, -0.6839],\n",
       "        [-0.7029, -0.6835],\n",
       "        [-0.7018, -0.6845],\n",
       "        [-0.7027, -0.6837],\n",
       "        [-0.6993, -0.6870],\n",
       "        [-0.6996, -0.6867],\n",
       "        [-0.7034, -0.6830],\n",
       "        [-0.7006, -0.6858],\n",
       "        [-0.7023, -0.6840],\n",
       "        [-0.7041, -0.6823],\n",
       "        [-0.7033, -0.6831]], grad_fn=<LogSoftmaxBackward>)"
      ]
     },
     "execution_count": 57,
     "metadata": {},
     "output_type": "execute_result"
    }
   ],
   "source": [
    "mygru(adaptation_data_sin)"
   ]
  },
  {
   "cell_type": "code",
   "execution_count": 58,
   "metadata": {},
   "outputs": [
    {
     "name": "stdout",
     "output_type": "stream",
     "text": [
      "tensor(0.0275, grad_fn=<NllLossBackward>)\n"
     ]
    }
   ],
   "source": [
    "from IPython import display\n",
    "for i in range(1000):\n",
    "    l = loss(mygru(adaptation_data_sin),adaptation_labels)\n",
    "    print(l)\n",
    "    display.clear_output(wait=True)\n",
    "    l.backward()\n",
    "    optimizer.step()"
   ]
  },
  {
   "cell_type": "code",
   "execution_count": 59,
   "metadata": {},
   "outputs": [],
   "source": [
    "from sklearn.metrics import accuracy_score"
   ]
  },
  {
   "cell_type": "code",
   "execution_count": 62,
   "metadata": {},
   "outputs": [
    {
     "data": {
      "text/plain": [
       "0.99"
      ]
     },
     "execution_count": 62,
     "metadata": {},
     "output_type": "execute_result"
    }
   ],
   "source": [
    "yh_pred = mygru(adaptation_data_sin)\n",
    "_, predicted = torch.max(yh_pred, 1)\n",
    "adapt_accuracy = accuracy_score(adaptation_labels,predicted)\n",
    "adapt_accuracy"
   ]
  },
  {
   "cell_type": "code",
   "execution_count": null,
   "metadata": {},
   "outputs": [],
   "source": []
  },
  {
   "cell_type": "code",
   "execution_count": null,
   "metadata": {},
   "outputs": [],
   "source": []
  }
 ],
 "metadata": {
  "kernelspec": {
   "display_name": "Python 3",
   "language": "python",
   "name": "python3"
  },
  "language_info": {
   "codemirror_mode": {
    "name": "ipython",
    "version": 3
   },
   "file_extension": ".py",
   "mimetype": "text/x-python",
   "name": "python",
   "nbconvert_exporter": "python",
   "pygments_lexer": "ipython3",
   "version": "3.7.9"
  }
 },
 "nbformat": 4,
 "nbformat_minor": 2
}
