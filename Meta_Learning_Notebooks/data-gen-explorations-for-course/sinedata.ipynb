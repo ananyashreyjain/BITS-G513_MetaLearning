{
 "cells": [
  {
   "cell_type": "markdown",
   "metadata": {},
   "source": [
    "# Sine-data for classification, regression and reinforcement learning"
   ]
  },
  {
   "cell_type": "code",
   "execution_count": 1,
   "metadata": {
    "scrolled": true
   },
   "outputs": [
    {
     "name": "stderr",
     "output_type": "stream",
     "text": [
      "In //anaconda3/envs/py3gen/lib/python3.7/site-packages/matplotlib/mpl-data/stylelib/_classic_test.mplstyle: \n",
      "The text.latex.preview rcparam was deprecated in Matplotlib 3.3 and will be removed two minor releases later.\n",
      "In //anaconda3/envs/py3gen/lib/python3.7/site-packages/matplotlib/mpl-data/stylelib/_classic_test.mplstyle: \n",
      "The mathtext.fallback_to_cm rcparam was deprecated in Matplotlib 3.3 and will be removed two minor releases later.\n",
      "In //anaconda3/envs/py3gen/lib/python3.7/site-packages/matplotlib/mpl-data/stylelib/_classic_test.mplstyle: Support for setting the 'mathtext.fallback_to_cm' rcParam is deprecated since 3.3 and will be removed two minor releases later; use 'mathtext.fallback : 'cm' instead.\n",
      "In //anaconda3/envs/py3gen/lib/python3.7/site-packages/matplotlib/mpl-data/stylelib/_classic_test.mplstyle: \n",
      "The validate_bool_maybe_none function was deprecated in Matplotlib 3.3 and will be removed two minor releases later.\n",
      "In //anaconda3/envs/py3gen/lib/python3.7/site-packages/matplotlib/mpl-data/stylelib/_classic_test.mplstyle: \n",
      "The savefig.jpeg_quality rcparam was deprecated in Matplotlib 3.3 and will be removed two minor releases later.\n",
      "In //anaconda3/envs/py3gen/lib/python3.7/site-packages/matplotlib/mpl-data/stylelib/_classic_test.mplstyle: \n",
      "The keymap.all_axes rcparam was deprecated in Matplotlib 3.3 and will be removed two minor releases later.\n",
      "In //anaconda3/envs/py3gen/lib/python3.7/site-packages/matplotlib/mpl-data/stylelib/_classic_test.mplstyle: \n",
      "The animation.avconv_path rcparam was deprecated in Matplotlib 3.3 and will be removed two minor releases later.\n",
      "In //anaconda3/envs/py3gen/lib/python3.7/site-packages/matplotlib/mpl-data/stylelib/_classic_test.mplstyle: \n",
      "The animation.avconv_args rcparam was deprecated in Matplotlib 3.3 and will be removed two minor releases later.\n"
     ]
    }
   ],
   "source": [
    "import numpy as np\n",
    "import math\n",
    "from numpy import sin, pi\n",
    "from matplotlib import pyplot as plt"
   ]
  },
  {
   "cell_type": "markdown",
   "metadata": {},
   "source": [
    "Generate samples from a sinwave $a$ sin$(f\\pi t)$ of scale $a$, frequency $f$ at intervals $t = i \\delta t$ "
   ]
  },
  {
   "cell_type": "code",
   "execution_count": 4,
   "metadata": {},
   "outputs": [],
   "source": [
    "class mysin():\n",
    "    def __init__(self,ampl = 1.0, freq=0.5, delta=0.1,phase=0.0):\n",
    "        self.f,self.d,self.a,self.p = freq, delta, ampl, phase\n",
    "        self.t = 0.0\n",
    "        return\n",
    "    def reset(self,t=0.0):\n",
    "        self.t = 0.0\n",
    "        return self.func()\n",
    "    def next(self):\n",
    "        val = self.func() \n",
    "        self.t += self.d\n",
    "        return val\n",
    "    def __call__(self,t):\n",
    "        old_t = self.t\n",
    "        self.t = t\n",
    "        val = self.func()\n",
    "        self.t = old_t\n",
    "        return val\n",
    "    def func(self):\n",
    "        return self.a * sin(pi*(self.f*self.t+self.p))\n",
    "    def series(self,n=10):\n",
    "        return np.array([self(t*self.d) for t in range(n)])\n",
    "    def set_phase(self,phase=0.0):\n",
    "        self.p = phase"
   ]
  },
  {
   "cell_type": "code",
   "execution_count": 1,
   "metadata": {},
   "outputs": [],
   "source": [
    "def sinmix(X,m):\n",
    "    w = []\n",
    "    for i in range(X.shape[0]):\n",
    "        s = np.zeros(m)\n",
    "        for j in [2*k for k in range(int(X.shape[1]/2))]:\n",
    "            if (j/2)%2 == 0: s+=mysin(freq=X[i,j],phase=1.5,ampl=X[i,j+1]).series(m)\n",
    "            elif (j/2)%2 == 1: s+=np.tanh(mysin(freq=X[i,j],phase=1.5,ampl=X[i,j+1]).series(m))\n",
    "        w+=[s]\n",
    "    return np.array(w)"
   ]
  },
  {
   "cell_type": "code",
   "execution_count": 2,
   "metadata": {},
   "outputs": [],
   "source": [
    "#X = np.array([[0.5,1.0]])#,2.5,1.0]])\n",
    "#plt.plot(sinmix(X,50)[0])\n",
    "#plt.show()"
   ]
  },
  {
   "cell_type": "code",
   "execution_count": 10,
   "metadata": {},
   "outputs": [],
   "source": [
    "s = mysin(freq=1.0,phase=0.0,ampl=0.2)\n",
    "r = mysin(freq=2.5,phase=1.5,ampl=1.0)"
   ]
  },
  {
   "cell_type": "code",
   "execution_count": 4,
   "metadata": {},
   "outputs": [
    {
     "data": {
      "image/png": "[encoded data removed]",
      "text/plain": [
       "<Figure size 432x288 with 1 Axes>"
      ]
     },
     "metadata": {
      "needs_background": "light"
     },
     "output_type": "display_data"
    }
   ],
   "source": [
    "s.set_phase(1.5)\n",
    "w = s.series(50)+r.series(50)\n",
    "plt.plot(w)\n",
    "plt.show()"
   ]
  },
  {
   "cell_type": "markdown",
   "metadata": {},
   "source": [
    "Random class = random frequency (f) and amplitude (a); random instance of a class = random phase (p) and length (l). \n",
    "We will generate n random clusters in 2D = {f,a}. For each instance we will choose {p,l} uniformly at random to create an instance of a sine wave."
   ]
  }
 ],
 "metadata": {
  "kernelspec": {
   "display_name": "Python 3",
   "language": "python",
   "name": "python3"
  },
  "language_info": {
   "codemirror_mode": {
    "name": "ipython",
    "version": 3
   },
   "file_extension": ".py",
   "mimetype": "text/x-python",
   "name": "python",
   "nbconvert_exporter": "python",
   "pygments_lexer": "ipython3",
   "version": "3.7.9"
  }
 },
 "nbformat": 4,
 "nbformat_minor": 2
}
