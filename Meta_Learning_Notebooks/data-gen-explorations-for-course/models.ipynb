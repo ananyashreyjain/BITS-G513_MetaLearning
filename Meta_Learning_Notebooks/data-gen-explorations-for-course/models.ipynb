{
 "cells": [
  {
   "cell_type": "code",
   "execution_count": 3,
   "metadata": {},
   "outputs": [],
   "source": [
    "import torch.nn as nn\n",
    "import torch"
   ]
  },
  {
   "cell_type": "code",
   "execution_count": 40,
   "metadata": {},
   "outputs": [],
   "source": [
    "class MyGRU1(nn.Module):\n",
    "    def __init__(self,n_features=1,dim=5,n_layers=3,n_classes=2):\n",
    "        super(MyGRU1,self).__init__()\n",
    "        self.n_layers = n_layers\n",
    "        self.dim = dim\n",
    "        self.rnn = nn.GRU(n_features, dim, n_layers,batch_first=True)\n",
    "        self.linear = nn.Linear(dim,n_classes)\n",
    "        self.logsoft = nn.LogSoftmax(dim=-1)\n",
    "        super\n",
    "    def forward(self,X):\n",
    "        h = torch.randn(self.n_layers,X.shape[0],self.dim)\n",
    "        H = self.rnn(X,h)[1]\n",
    "        G = self.logsoft(self.linear(H[-1,:,:]))\n",
    "        return G"
   ]
  },
  {
   "cell_type": "code",
   "execution_count": 42,
   "metadata": {},
   "outputs": [
    {
     "data": {
      "text/plain": [
       "tensor([[-0.7647, -0.6263],\n",
       "        [-0.7669, -0.6245]], grad_fn=<LogSoftmaxBackward>)"
      ]
     },
     "execution_count": 42,
     "metadata": {},
     "output_type": "execute_result"
    }
   ],
   "source": [
    "X = torch.randn(2,10,1)\n",
    "rnn = nn.GRU(1, 5, 3,batch_first=True)\n",
    "mygru = MyGRU1(1,10,35,2)\n",
    "mygru(X)"
   ]
  },
  {
   "cell_type": "code",
   "execution_count": null,
   "metadata": {},
   "outputs": [],
   "source": []
  },
  {
   "cell_type": "code",
   "execution_count": null,
   "metadata": {},
   "outputs": [],
   "source": []
  }
 ],
 "metadata": {
  "kernelspec": {
   "display_name": "Python 3",
   "language": "python",
   "name": "python3"
  },
  "language_info": {
   "codemirror_mode": {
    "name": "ipython",
    "version": 3
   },
   "file_extension": ".py",
   "mimetype": "text/x-python",
   "name": "python",
   "nbconvert_exporter": "python",
   "pygments_lexer": "ipython3",
   "version": "3.7.9"
  }
 },
 "nbformat": 4,
 "nbformat_minor": 2
}
