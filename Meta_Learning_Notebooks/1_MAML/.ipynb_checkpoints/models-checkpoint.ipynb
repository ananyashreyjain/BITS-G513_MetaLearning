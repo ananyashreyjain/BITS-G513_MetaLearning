{
 "cells": [
  {
   "cell_type": "markdown",
   "metadata": {},
   "source": [
    "# Deep Learning Models etc"
   ]
  },
  {
   "cell_type": "code",
   "execution_count": 1,
   "metadata": {},
   "outputs": [],
   "source": [
    "import numpy as np\n",
    "import torch\n",
    "from torch import nn\n",
    "from torch import optim\n",
    "from IPython import display"
   ]
  },
  {
   "cell_type": "markdown",
   "metadata": {},
   "source": [
    "Generic training loop"
   ]
  },
  {
   "cell_type": "code",
   "execution_count": 2,
   "metadata": {},
   "outputs": [],
   "source": [
    "def accuracy(Net,X_test,y_test,verbose=True):\n",
    "    Net.eval()\n",
    "    m = X_test.shape[0]\n",
    "    y_pred = Net(X_test)\n",
    "    _, predicted = torch.max(y_pred, 1)\n",
    "    correct = (predicted == y_test).float().sum().item()\n",
    "    if verbose: print(correct,m)\n",
    "    accuracy = correct/m\n",
    "    Net.train()\n",
    "    return accuracy"
   ]
  },
  {
   "cell_type": "code",
   "execution_count": 3,
   "metadata": {},
   "outputs": [],
   "source": [
    "def Train(Net,data,epochs=20,lr=5e-2,Loss=nn.NLLLoss(),verbose=False):\n",
    "    #optimizer = optim.Adam(Net.parameters(),lr=lr)\n",
    "    for e in range(epochs):\n",
    "        step=0\n",
    "        tot_loss=0.0\n",
    "        acc=0.0\n",
    "        for (X,y) in data:\n",
    "            y_pred = Net(X)\n",
    "            loss = Loss(y_pred,y)\n",
    "            if verbose: print('Step loss: ',loss)\n",
    "            Net.optimizer.zero_grad()\n",
    "            loss.backward()\n",
    "            Net.optimizer.step()\n",
    "            step+=1\n",
    "            tot_loss+=loss\n",
    "            acc+=accuracy(Net,X,y,verbose=False) \n",
    "        print('Epoch  % 2d Loss: %2.5e Accuracy: %2.5f'%(e,tot_loss.item()/step,acc/step))\n",
    "        display.clear_output(wait=True)\n",
    "    return Net,loss"
   ]
  },
  {
   "cell_type": "markdown",
   "metadata": {},
   "source": [
    "Multi-layer perceptron with ReLU non-lineartities; for classification or regression."
   ]
  },
  {
   "cell_type": "code",
   "execution_count": 4,
   "metadata": {},
   "outputs": [],
   "source": [
    "class MLP(nn.Module):\n",
    "    def __init__(self,dims=[5,3,2],task='classification',lr=1e-3):\n",
    "        super(MLP,self).__init__()\n",
    "        self.dims=dims\n",
    "        self.n = len(self.dims)-1\n",
    "        self.task=task\n",
    "        self.layers=nn.ModuleList()\n",
    "        for i in range(self.n-1):\n",
    "            self.layers.append(nn.Linear(dims[i],dims[i+1]))\n",
    "            self.layers.append(nn.ReLU())\n",
    "        if task=='classification': \n",
    "            self.layers.append(nn.Linear(dims[i+1],dims[i+2]))\n",
    "            self.layers.append(nn.LogSoftmax(dim=1))\n",
    "        elif task=='regression': self.layers.append(nn.Linear(dims[i+1],1))\n",
    "        self.optimizer = optim.Adam(self.parameters(),lr=lr)\n",
    "    def forward(self,x):\n",
    "        for l in self.layers:\n",
    "            x = l(x)\n",
    "        return(x)"
   ]
  },
  {
   "cell_type": "code",
   "execution_count": 9,
   "metadata": {},
   "outputs": [],
   "source": [
    "class RNN(nn.Module):\n",
    "    def __init__(self,n_features=1,dim=5,n_layers=3,n_classes=2,lr=1e-3):\n",
    "        super(RNN,self).__init__()\n",
    "        self.n_layers = n_layers\n",
    "        self.dim = dim\n",
    "        self.n_features = n_features\n",
    "        self.rnn = nn.GRU(n_features, dim, n_layers,batch_first=True)\n",
    "        self.linear = nn.Linear(dim,n_classes)\n",
    "        self.logsoft = nn.LogSoftmax(dim=-1)\n",
    "        self.optimizer = optim.Adam(self.parameters(),lr=lr)\n",
    "    def forward(self,X):\n",
    "        if self.n_features==1: X=X.unsqueeze(-1)\n",
    "        h = torch.randn(self.n_layers,X.shape[0],self.dim)\n",
    "        H = self.rnn(X,h)[1]\n",
    "        G = self.logsoft(self.linear(H[-1,:,:]))\n",
    "        return G"
   ]
  },
  {
   "cell_type": "code",
   "execution_count": null,
   "metadata": {},
   "outputs": [],
   "source": []
  }
 ],
 "metadata": {
  "kernelspec": {
   "display_name": "Python 3",
   "language": "python",
   "name": "python3"
  },
  "language_info": {
   "codemirror_mode": {
    "name": "ipython",
    "version": 3
   },
   "file_extension": ".py",
   "mimetype": "text/x-python",
   "name": "python",
   "nbconvert_exporter": "python",
   "pygments_lexer": "ipython3",
   "version": "3.7.9"
  }
 },
 "nbformat": 4,
 "nbformat_minor": 4
}
